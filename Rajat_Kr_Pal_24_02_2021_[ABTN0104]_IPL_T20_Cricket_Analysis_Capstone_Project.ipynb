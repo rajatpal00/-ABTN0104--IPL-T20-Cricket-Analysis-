{
  "nbformat": 4,
  "nbformat_minor": 0,
  "metadata": {
    "kernelspec": {
      "display_name": "Python 3",
      "language": "python",
      "name": "python3"
    },
    "language_info": {
      "codemirror_mode": {
        "name": "ipython",
        "version": 3
      },
      "file_extension": ".py",
      "mimetype": "text/x-python",
      "name": "python",
      "nbconvert_exporter": "python",
      "pygments_lexer": "ipython3",
      "version": "3.6.6"
    },
    "colab": {
      "name": "Rajat Kr Pal - 24/02/2021 - [ABTN0104] IPL T20 Cricket Analysis - Capstone Project.ipynb",
      "provenance": [],
      "collapsed_sections": [],
      "include_colab_link": true
    }
  },
  "cells": [
    {
      "cell_type": "markdown",
      "metadata": {
        "id": "view-in-github",
        "colab_type": "text"
      },
      "source": [
        "<a href=\"https://colab.research.google.com/github/rajatpal00/-ABTN0104--IPL-T20-Cricket-Analysis-/blob/main/Rajat_Kr_Pal_24_02_2021_%5BABTN0104%5D_IPL_T20_Cricket_Analysis_Capstone_Project.ipynb\" target=\"_parent\"><img src=\"https://colab.research.google.com/assets/colab-badge.svg\" alt=\"Open In Colab\"/></a>"
      ]
    },
    {
      "cell_type": "markdown",
      "metadata": {
        "id": "Y06xIdG26kRF"
      },
      "source": [
        "## <b> Indian Premier League(IPL) is a professional Twenty20 cricket league in India contested during March or April and May of every year by eight teams representing eight different cities in India. The league was founded by the Board of Control for Cricket in India(BCCI) in 2008. </b>\n",
        "\n",
        "## <b> Explore and analyze the data to discover results and statistics for different teams playing in IPL. </b>"
      ]
    },
    {
      "cell_type": "markdown",
      "metadata": {
        "id": "EOaenXAYnO9B"
      },
      "source": [
        "The IPL is the most-attended cricket league in the world and in 2014 was ranked sixth by average attendance among all sports leagues. In 2010, the IPL became the first sporting event in the world to be broadcast live on YouTube. The brand value of the IPL in 2019 was ₹475 billion  to the GDP of the Indian economy."
      ]
    },
    {
      "cell_type": "markdown",
      "metadata": {
        "id": "Nd-vj89BrqjI"
      },
      "source": [
        "On 13 September 2007, the BCCI announced the launch of a franchise-based Twenty20 cricket competition called Indian Premier League whose first season was slated to start in April 2008, in a \"high-profile ceremony\" in New Delhi. BCCI vice-president Lalit Modi, said to be the mastermind behind the idea of the IPL, spelled out the details of the tournament including its format, the prize money, franchise revenue system and squad composition rules. It was also revealed that the IPL would be run by a seven-man governing council composed of former India players and BCCI officials and that the top two teams of the IPL would qualify for that year's Champions League Twenty20. Modi also clarified that they had been working on the idea for two years and that the IPL was not started as a \"knee-jerk reaction\" to the ICL. The league's format was similar to that of the Premier League of England and the NBA in the United States.\r\n",
        "\r\n",
        "In order to decide the owners for the new league, an auction was held on 24 January 2008 with the total base prices of the franchises costing around      4 million. At the end of the auction, the winning bidders were announced, as well as the cities the teams would be based in:  Hyderabad, Jaipur, KolkatMumbai. In the end, the franchises  were all sold for a total of  $723.59 million. The Indian Cricket League soon folded in 2008. (Scource - https://en.wikipedia.org/wiki/Indian_Premier_League)"
      ]
    },
    {
      "cell_type": "markdown",
      "metadata": {
        "id": "L68NSTJCvjlh"
      },
      "source": [
        "Lets start this project by exploring the Data and extracting the usefull information from the dataset which we have "
      ]
    },
    {
      "cell_type": "markdown",
      "metadata": {
        "id": "0y2-MaDrwMVI"
      },
      "source": [
        "lets us import the data in the colabnotebook first"
      ]
    },
    {
      "cell_type": "code",
      "metadata": {
        "id": "3owUH81RwS8B"
      },
      "source": [
        "import pandas as pd\r\n",
        "import numpy as np\r\n",
        "import matplotlib.pyplot as plt\r\n",
        "import seaborn as sns\r\n",
        "%matplotlib inline\r\n",
        "plt.rcParams['figure.figsize']= (20,10)"
      ],
      "execution_count": 1,
      "outputs": []
    },
    {
      "cell_type": "code",
      "metadata": {
        "colab": {
          "base_uri": "https://localhost:8080/"
        },
        "id": "WkqcW8WRxh6N",
        "outputId": "78fc8f22-4482-44fa-dcba-4dfe8530de1f"
      },
      "source": [
        "from google.colab import drive\n",
        "drive.mount('/content/drive')"
      ],
      "execution_count": 2,
      "outputs": [
        {
          "output_type": "stream",
          "text": [
            "Drive already mounted at /content/drive; to attempt to forcibly remount, call drive.mount(\"/content/drive\", force_remount=True).\n"
          ],
          "name": "stdout"
        }
      ]
    },
    {
      "cell_type": "markdown",
      "metadata": {
        "id": "_0TcbVcL3Spc"
      },
      "source": [
        "This is deliveries data set which give as information about each bowl which have been bowled in ipl so far in IPL,\r\n"
      ]
    },
    {
      "cell_type": "code",
      "metadata": {
        "id": "EvmkcMzjwS5R"
      },
      "source": [
        "path = '/content/drive/MyDrive/AlmaBetter/capstone project/[ABTN0104] IPL T20 CRICKET/IPL DATA/'\r\n",
        "deliveries_df = pd.read_csv(path + \"deliveries.csv\")"
      ],
      "execution_count": 3,
      "outputs": []
    },
    {
      "cell_type": "code",
      "metadata": {
        "colab": {
          "base_uri": "https://localhost:8080/",
          "height": 264
        },
        "id": "CU0UD51PwSxE",
        "outputId": "9209b837-f10a-45a0-e513-a4f2f606699e"
      },
      "source": [
        "deliveries_df.head(3)"
      ],
      "execution_count": 4,
      "outputs": [
        {
          "output_type": "execute_result",
          "data": {
            "text/html": [
              "<div>\n",
              "<style scoped>\n",
              "    .dataframe tbody tr th:only-of-type {\n",
              "        vertical-align: middle;\n",
              "    }\n",
              "\n",
              "    .dataframe tbody tr th {\n",
              "        vertical-align: top;\n",
              "    }\n",
              "\n",
              "    .dataframe thead th {\n",
              "        text-align: right;\n",
              "    }\n",
              "</style>\n",
              "<table border=\"1\" class=\"dataframe\">\n",
              "  <thead>\n",
              "    <tr style=\"text-align: right;\">\n",
              "      <th></th>\n",
              "      <th>match_id</th>\n",
              "      <th>inning</th>\n",
              "      <th>batting_team</th>\n",
              "      <th>bowling_team</th>\n",
              "      <th>over</th>\n",
              "      <th>ball</th>\n",
              "      <th>batsman</th>\n",
              "      <th>non_striker</th>\n",
              "      <th>bowler</th>\n",
              "      <th>is_super_over</th>\n",
              "      <th>wide_runs</th>\n",
              "      <th>bye_runs</th>\n",
              "      <th>legbye_runs</th>\n",
              "      <th>noball_runs</th>\n",
              "      <th>penalty_runs</th>\n",
              "      <th>batsman_runs</th>\n",
              "      <th>extra_runs</th>\n",
              "      <th>total_runs</th>\n",
              "      <th>player_dismissed</th>\n",
              "      <th>dismissal_kind</th>\n",
              "      <th>fielder</th>\n",
              "    </tr>\n",
              "  </thead>\n",
              "  <tbody>\n",
              "    <tr>\n",
              "      <th>0</th>\n",
              "      <td>1</td>\n",
              "      <td>1</td>\n",
              "      <td>Sunrisers Hyderabad</td>\n",
              "      <td>Royal Challengers Bangalore</td>\n",
              "      <td>1</td>\n",
              "      <td>1</td>\n",
              "      <td>DA Warner</td>\n",
              "      <td>S Dhawan</td>\n",
              "      <td>TS Mills</td>\n",
              "      <td>0</td>\n",
              "      <td>0</td>\n",
              "      <td>0</td>\n",
              "      <td>0</td>\n",
              "      <td>0</td>\n",
              "      <td>0</td>\n",
              "      <td>0</td>\n",
              "      <td>0</td>\n",
              "      <td>0</td>\n",
              "      <td>NaN</td>\n",
              "      <td>NaN</td>\n",
              "      <td>NaN</td>\n",
              "    </tr>\n",
              "    <tr>\n",
              "      <th>1</th>\n",
              "      <td>1</td>\n",
              "      <td>1</td>\n",
              "      <td>Sunrisers Hyderabad</td>\n",
              "      <td>Royal Challengers Bangalore</td>\n",
              "      <td>1</td>\n",
              "      <td>2</td>\n",
              "      <td>DA Warner</td>\n",
              "      <td>S Dhawan</td>\n",
              "      <td>TS Mills</td>\n",
              "      <td>0</td>\n",
              "      <td>0</td>\n",
              "      <td>0</td>\n",
              "      <td>0</td>\n",
              "      <td>0</td>\n",
              "      <td>0</td>\n",
              "      <td>0</td>\n",
              "      <td>0</td>\n",
              "      <td>0</td>\n",
              "      <td>NaN</td>\n",
              "      <td>NaN</td>\n",
              "      <td>NaN</td>\n",
              "    </tr>\n",
              "    <tr>\n",
              "      <th>2</th>\n",
              "      <td>1</td>\n",
              "      <td>1</td>\n",
              "      <td>Sunrisers Hyderabad</td>\n",
              "      <td>Royal Challengers Bangalore</td>\n",
              "      <td>1</td>\n",
              "      <td>3</td>\n",
              "      <td>DA Warner</td>\n",
              "      <td>S Dhawan</td>\n",
              "      <td>TS Mills</td>\n",
              "      <td>0</td>\n",
              "      <td>0</td>\n",
              "      <td>0</td>\n",
              "      <td>0</td>\n",
              "      <td>0</td>\n",
              "      <td>0</td>\n",
              "      <td>4</td>\n",
              "      <td>0</td>\n",
              "      <td>4</td>\n",
              "      <td>NaN</td>\n",
              "      <td>NaN</td>\n",
              "      <td>NaN</td>\n",
              "    </tr>\n",
              "  </tbody>\n",
              "</table>\n",
              "</div>"
            ],
            "text/plain": [
              "   match_id  inning  ... dismissal_kind fielder\n",
              "0         1       1  ...            NaN     NaN\n",
              "1         1       1  ...            NaN     NaN\n",
              "2         1       1  ...            NaN     NaN\n",
              "\n",
              "[3 rows x 21 columns]"
            ]
          },
          "metadata": {
            "tags": []
          },
          "execution_count": 4
        }
      ]
    },
    {
      "cell_type": "code",
      "metadata": {
        "colab": {
          "base_uri": "https://localhost:8080/"
        },
        "id": "jf09GUyG1fs8",
        "outputId": "a5c90ce9-226d-4f2b-9735-16c672b8f3c6"
      },
      "source": [
        "# by this we try to find out the sanity of the data set.\r\n",
        "deliveries_df.info()"
      ],
      "execution_count": 5,
      "outputs": [
        {
          "output_type": "stream",
          "text": [
            "<class 'pandas.core.frame.DataFrame'>\n",
            "RangeIndex: 179078 entries, 0 to 179077\n",
            "Data columns (total 21 columns):\n",
            " #   Column            Non-Null Count   Dtype \n",
            "---  ------            --------------   ----- \n",
            " 0   match_id          179078 non-null  int64 \n",
            " 1   inning            179078 non-null  int64 \n",
            " 2   batting_team      179078 non-null  object\n",
            " 3   bowling_team      179078 non-null  object\n",
            " 4   over              179078 non-null  int64 \n",
            " 5   ball              179078 non-null  int64 \n",
            " 6   batsman           179078 non-null  object\n",
            " 7   non_striker       179078 non-null  object\n",
            " 8   bowler            179078 non-null  object\n",
            " 9   is_super_over     179078 non-null  int64 \n",
            " 10  wide_runs         179078 non-null  int64 \n",
            " 11  bye_runs          179078 non-null  int64 \n",
            " 12  legbye_runs       179078 non-null  int64 \n",
            " 13  noball_runs       179078 non-null  int64 \n",
            " 14  penalty_runs      179078 non-null  int64 \n",
            " 15  batsman_runs      179078 non-null  int64 \n",
            " 16  extra_runs        179078 non-null  int64 \n",
            " 17  total_runs        179078 non-null  int64 \n",
            " 18  player_dismissed  8834 non-null    object\n",
            " 19  dismissal_kind    8834 non-null    object\n",
            " 20  fielder           6448 non-null    object\n",
            "dtypes: int64(13), object(8)\n",
            "memory usage: 28.7+ MB\n"
          ],
          "name": "stdout"
        }
      ]
    },
    {
      "cell_type": "markdown",
      "metadata": {
        "id": "DWeX7lOnQDUb"
      },
      "source": [
        "while exploring the data by using info function we cab say the most of the columns are present with values but there are few columns like player_dismissed which have some values in that"
      ]
    },
    {
      "cell_type": "markdown",
      "metadata": {
        "id": "iT3QyfJTwCAa"
      },
      "source": [
        "**Lets see what information does matches data frame holds** "
      ]
    },
    {
      "cell_type": "code",
      "metadata": {
        "id": "dByMsuzT8Tnw",
        "colab": {
          "base_uri": "https://localhost:8080/",
          "height": 445
        },
        "outputId": "49e562e5-50e6-4ec4-89be-2ca9128d1086"
      },
      "source": [
        "matches_df_1 = pd.read_csv(path + \"matches.csv\")\r\n",
        "matches_df_1.head(5)"
      ],
      "execution_count": 6,
      "outputs": [
        {
          "output_type": "execute_result",
          "data": {
            "text/html": [
              "<div>\n",
              "<style scoped>\n",
              "    .dataframe tbody tr th:only-of-type {\n",
              "        vertical-align: middle;\n",
              "    }\n",
              "\n",
              "    .dataframe tbody tr th {\n",
              "        vertical-align: top;\n",
              "    }\n",
              "\n",
              "    .dataframe thead th {\n",
              "        text-align: right;\n",
              "    }\n",
              "</style>\n",
              "<table border=\"1\" class=\"dataframe\">\n",
              "  <thead>\n",
              "    <tr style=\"text-align: right;\">\n",
              "      <th></th>\n",
              "      <th>id</th>\n",
              "      <th>Season</th>\n",
              "      <th>city</th>\n",
              "      <th>date</th>\n",
              "      <th>team1</th>\n",
              "      <th>team2</th>\n",
              "      <th>toss_winner</th>\n",
              "      <th>toss_decision</th>\n",
              "      <th>result</th>\n",
              "      <th>dl_applied</th>\n",
              "      <th>winner</th>\n",
              "      <th>win_by_runs</th>\n",
              "      <th>win_by_wickets</th>\n",
              "      <th>player_of_match</th>\n",
              "      <th>venue</th>\n",
              "      <th>umpire1</th>\n",
              "      <th>umpire2</th>\n",
              "      <th>umpire3</th>\n",
              "    </tr>\n",
              "  </thead>\n",
              "  <tbody>\n",
              "    <tr>\n",
              "      <th>0</th>\n",
              "      <td>1</td>\n",
              "      <td>IPL-2017</td>\n",
              "      <td>Hyderabad</td>\n",
              "      <td>05-04-2017</td>\n",
              "      <td>Sunrisers Hyderabad</td>\n",
              "      <td>Royal Challengers Bangalore</td>\n",
              "      <td>Royal Challengers Bangalore</td>\n",
              "      <td>field</td>\n",
              "      <td>normal</td>\n",
              "      <td>0</td>\n",
              "      <td>Sunrisers Hyderabad</td>\n",
              "      <td>35</td>\n",
              "      <td>0</td>\n",
              "      <td>Yuvraj Singh</td>\n",
              "      <td>Rajiv Gandhi International Stadium, Uppal</td>\n",
              "      <td>AY Dandekar</td>\n",
              "      <td>NJ Llong</td>\n",
              "      <td>NaN</td>\n",
              "    </tr>\n",
              "    <tr>\n",
              "      <th>1</th>\n",
              "      <td>2</td>\n",
              "      <td>IPL-2017</td>\n",
              "      <td>Pune</td>\n",
              "      <td>06-04-2017</td>\n",
              "      <td>Mumbai Indians</td>\n",
              "      <td>Rising Pune Supergiant</td>\n",
              "      <td>Rising Pune Supergiant</td>\n",
              "      <td>field</td>\n",
              "      <td>normal</td>\n",
              "      <td>0</td>\n",
              "      <td>Rising Pune Supergiant</td>\n",
              "      <td>0</td>\n",
              "      <td>7</td>\n",
              "      <td>SPD Smith</td>\n",
              "      <td>Maharashtra Cricket Association Stadium</td>\n",
              "      <td>A Nand Kishore</td>\n",
              "      <td>S Ravi</td>\n",
              "      <td>NaN</td>\n",
              "    </tr>\n",
              "    <tr>\n",
              "      <th>2</th>\n",
              "      <td>3</td>\n",
              "      <td>IPL-2017</td>\n",
              "      <td>Rajkot</td>\n",
              "      <td>07-04-2017</td>\n",
              "      <td>Gujarat Lions</td>\n",
              "      <td>Kolkata Knight Riders</td>\n",
              "      <td>Kolkata Knight Riders</td>\n",
              "      <td>field</td>\n",
              "      <td>normal</td>\n",
              "      <td>0</td>\n",
              "      <td>Kolkata Knight Riders</td>\n",
              "      <td>0</td>\n",
              "      <td>10</td>\n",
              "      <td>CA Lynn</td>\n",
              "      <td>Saurashtra Cricket Association Stadium</td>\n",
              "      <td>Nitin Menon</td>\n",
              "      <td>CK Nandan</td>\n",
              "      <td>NaN</td>\n",
              "    </tr>\n",
              "    <tr>\n",
              "      <th>3</th>\n",
              "      <td>4</td>\n",
              "      <td>IPL-2017</td>\n",
              "      <td>Indore</td>\n",
              "      <td>08-04-2017</td>\n",
              "      <td>Rising Pune Supergiant</td>\n",
              "      <td>Kings XI Punjab</td>\n",
              "      <td>Kings XI Punjab</td>\n",
              "      <td>field</td>\n",
              "      <td>normal</td>\n",
              "      <td>0</td>\n",
              "      <td>Kings XI Punjab</td>\n",
              "      <td>0</td>\n",
              "      <td>6</td>\n",
              "      <td>GJ Maxwell</td>\n",
              "      <td>Holkar Cricket Stadium</td>\n",
              "      <td>AK Chaudhary</td>\n",
              "      <td>C Shamshuddin</td>\n",
              "      <td>NaN</td>\n",
              "    </tr>\n",
              "    <tr>\n",
              "      <th>4</th>\n",
              "      <td>5</td>\n",
              "      <td>IPL-2017</td>\n",
              "      <td>Bangalore</td>\n",
              "      <td>08-04-2017</td>\n",
              "      <td>Royal Challengers Bangalore</td>\n",
              "      <td>Delhi Daredevils</td>\n",
              "      <td>Royal Challengers Bangalore</td>\n",
              "      <td>bat</td>\n",
              "      <td>normal</td>\n",
              "      <td>0</td>\n",
              "      <td>Royal Challengers Bangalore</td>\n",
              "      <td>15</td>\n",
              "      <td>0</td>\n",
              "      <td>KM Jadhav</td>\n",
              "      <td>M Chinnaswamy Stadium</td>\n",
              "      <td>NaN</td>\n",
              "      <td>NaN</td>\n",
              "      <td>NaN</td>\n",
              "    </tr>\n",
              "  </tbody>\n",
              "</table>\n",
              "</div>"
            ],
            "text/plain": [
              "   id    Season       city  ...         umpire1        umpire2 umpire3\n",
              "0   1  IPL-2017  Hyderabad  ...     AY Dandekar       NJ Llong     NaN\n",
              "1   2  IPL-2017       Pune  ...  A Nand Kishore         S Ravi     NaN\n",
              "2   3  IPL-2017     Rajkot  ...     Nitin Menon      CK Nandan     NaN\n",
              "3   4  IPL-2017     Indore  ...    AK Chaudhary  C Shamshuddin     NaN\n",
              "4   5  IPL-2017  Bangalore  ...             NaN            NaN     NaN\n",
              "\n",
              "[5 rows x 18 columns]"
            ]
          },
          "metadata": {
            "tags": []
          },
          "execution_count": 6
        }
      ]
    },
    {
      "cell_type": "code",
      "metadata": {
        "colab": {
          "base_uri": "https://localhost:8080/"
        },
        "id": "GaxaOcJd38FR",
        "outputId": "2a11337f-ba60-43c9-b3a3-d2f722233c32"
      },
      "source": [
        "matches_df_1.info()"
      ],
      "execution_count": 7,
      "outputs": [
        {
          "output_type": "stream",
          "text": [
            "<class 'pandas.core.frame.DataFrame'>\n",
            "RangeIndex: 756 entries, 0 to 755\n",
            "Data columns (total 18 columns):\n",
            " #   Column           Non-Null Count  Dtype \n",
            "---  ------           --------------  ----- \n",
            " 0   id               756 non-null    int64 \n",
            " 1   Season           756 non-null    object\n",
            " 2   city             749 non-null    object\n",
            " 3   date             756 non-null    object\n",
            " 4   team1            756 non-null    object\n",
            " 5   team2            756 non-null    object\n",
            " 6   toss_winner      756 non-null    object\n",
            " 7   toss_decision    756 non-null    object\n",
            " 8   result           756 non-null    object\n",
            " 9   dl_applied       756 non-null    int64 \n",
            " 10  winner           752 non-null    object\n",
            " 11  win_by_runs      756 non-null    int64 \n",
            " 12  win_by_wickets   756 non-null    int64 \n",
            " 13  player_of_match  752 non-null    object\n",
            " 14  venue            756 non-null    object\n",
            " 15  umpire1          754 non-null    object\n",
            " 16  umpire2          754 non-null    object\n",
            " 17  umpire3          119 non-null    object\n",
            "dtypes: int64(4), object(14)\n",
            "memory usage: 106.4+ KB\n"
          ],
          "name": "stdout"
        }
      ]
    },
    {
      "cell_type": "markdown",
      "metadata": {
        "id": "VLhmkPqv4_ZL"
      },
      "source": [
        "While exploring matches Dataframe we came across that there are 4 null values for column winner, player _of_match\r\n",
        "\r\n",
        "\r\n",
        " Lets see what is reason for that"
      ]
    },
    {
      "cell_type": "code",
      "metadata": {
        "colab": {
          "base_uri": "https://localhost:8080/",
          "height": 329
        },
        "id": "KtOdVHck4-yQ",
        "outputId": "97eafb88-17cb-4f67-bae6-f56234dc04d3"
      },
      "source": [
        "# we are looking for all row values in winner column which have null value\r\n",
        "matches_df_1[matches_df_1[\"winner\"].isna()]\r\n",
        "\r\n"
      ],
      "execution_count": 8,
      "outputs": [
        {
          "output_type": "execute_result",
          "data": {
            "text/html": [
              "<div>\n",
              "<style scoped>\n",
              "    .dataframe tbody tr th:only-of-type {\n",
              "        vertical-align: middle;\n",
              "    }\n",
              "\n",
              "    .dataframe tbody tr th {\n",
              "        vertical-align: top;\n",
              "    }\n",
              "\n",
              "    .dataframe thead th {\n",
              "        text-align: right;\n",
              "    }\n",
              "</style>\n",
              "<table border=\"1\" class=\"dataframe\">\n",
              "  <thead>\n",
              "    <tr style=\"text-align: right;\">\n",
              "      <th></th>\n",
              "      <th>id</th>\n",
              "      <th>Season</th>\n",
              "      <th>city</th>\n",
              "      <th>date</th>\n",
              "      <th>team1</th>\n",
              "      <th>team2</th>\n",
              "      <th>toss_winner</th>\n",
              "      <th>toss_decision</th>\n",
              "      <th>result</th>\n",
              "      <th>dl_applied</th>\n",
              "      <th>winner</th>\n",
              "      <th>win_by_runs</th>\n",
              "      <th>win_by_wickets</th>\n",
              "      <th>player_of_match</th>\n",
              "      <th>venue</th>\n",
              "      <th>umpire1</th>\n",
              "      <th>umpire2</th>\n",
              "      <th>umpire3</th>\n",
              "    </tr>\n",
              "  </thead>\n",
              "  <tbody>\n",
              "    <tr>\n",
              "      <th>300</th>\n",
              "      <td>301</td>\n",
              "      <td>IPL-2011</td>\n",
              "      <td>Delhi</td>\n",
              "      <td>21-05-2011</td>\n",
              "      <td>Delhi Daredevils</td>\n",
              "      <td>Pune Warriors</td>\n",
              "      <td>Delhi Daredevils</td>\n",
              "      <td>bat</td>\n",
              "      <td>no result</td>\n",
              "      <td>0</td>\n",
              "      <td>NaN</td>\n",
              "      <td>0</td>\n",
              "      <td>0</td>\n",
              "      <td>NaN</td>\n",
              "      <td>Feroz Shah Kotla</td>\n",
              "      <td>SS Hazare</td>\n",
              "      <td>RJ Tucker</td>\n",
              "      <td>NaN</td>\n",
              "    </tr>\n",
              "    <tr>\n",
              "      <th>545</th>\n",
              "      <td>546</td>\n",
              "      <td>IPL-2015</td>\n",
              "      <td>Bangalore</td>\n",
              "      <td>29-04-2015</td>\n",
              "      <td>Royal Challengers Bangalore</td>\n",
              "      <td>Rajasthan Royals</td>\n",
              "      <td>Rajasthan Royals</td>\n",
              "      <td>field</td>\n",
              "      <td>no result</td>\n",
              "      <td>0</td>\n",
              "      <td>NaN</td>\n",
              "      <td>0</td>\n",
              "      <td>0</td>\n",
              "      <td>NaN</td>\n",
              "      <td>M Chinnaswamy Stadium</td>\n",
              "      <td>JD Cloete</td>\n",
              "      <td>PG Pathak</td>\n",
              "      <td>NaN</td>\n",
              "    </tr>\n",
              "    <tr>\n",
              "      <th>570</th>\n",
              "      <td>571</td>\n",
              "      <td>IPL-2015</td>\n",
              "      <td>Bangalore</td>\n",
              "      <td>17-05-2015</td>\n",
              "      <td>Delhi Daredevils</td>\n",
              "      <td>Royal Challengers Bangalore</td>\n",
              "      <td>Royal Challengers Bangalore</td>\n",
              "      <td>field</td>\n",
              "      <td>no result</td>\n",
              "      <td>0</td>\n",
              "      <td>NaN</td>\n",
              "      <td>0</td>\n",
              "      <td>0</td>\n",
              "      <td>NaN</td>\n",
              "      <td>M Chinnaswamy Stadium</td>\n",
              "      <td>HDPK Dharmasena</td>\n",
              "      <td>K Srinivasan</td>\n",
              "      <td>NaN</td>\n",
              "    </tr>\n",
              "    <tr>\n",
              "      <th>744</th>\n",
              "      <td>11340</td>\n",
              "      <td>IPL-2019</td>\n",
              "      <td>Bengaluru</td>\n",
              "      <td>30-04-2019</td>\n",
              "      <td>Royal Challengers Bangalore</td>\n",
              "      <td>Rajasthan Royals</td>\n",
              "      <td>Rajasthan Royals</td>\n",
              "      <td>field</td>\n",
              "      <td>no result</td>\n",
              "      <td>0</td>\n",
              "      <td>NaN</td>\n",
              "      <td>0</td>\n",
              "      <td>0</td>\n",
              "      <td>NaN</td>\n",
              "      <td>M. Chinnaswamy Stadium</td>\n",
              "      <td>Nigel Llong</td>\n",
              "      <td>Ulhas Gandhe</td>\n",
              "      <td>Anil Chaudhary</td>\n",
              "    </tr>\n",
              "  </tbody>\n",
              "</table>\n",
              "</div>"
            ],
            "text/plain": [
              "        id    Season       city  ...          umpire1       umpire2         umpire3\n",
              "300    301  IPL-2011      Delhi  ...        SS Hazare     RJ Tucker             NaN\n",
              "545    546  IPL-2015  Bangalore  ...        JD Cloete     PG Pathak             NaN\n",
              "570    571  IPL-2015  Bangalore  ...  HDPK Dharmasena  K Srinivasan             NaN\n",
              "744  11340  IPL-2019  Bengaluru  ...      Nigel Llong  Ulhas Gandhe  Anil Chaudhary\n",
              "\n",
              "[4 rows x 18 columns]"
            ]
          },
          "metadata": {
            "tags": []
          },
          "execution_count": 8
        }
      ]
    },
    {
      "cell_type": "markdown",
      "metadata": {
        "id": "3p-tTX5i5vsb"
      },
      "source": [
        "so from this we can conclude that on these day the match has no result that could be possible due to rain or any other failure."
      ]
    },
    {
      "cell_type": "markdown",
      "metadata": {
        "id": "NJXqil9X8G3B"
      },
      "source": [
        "**Now we will finding out the team which have won max number of matches in ipl so far**"
      ]
    },
    {
      "cell_type": "code",
      "metadata": {
        "colab": {
          "base_uri": "https://localhost:8080/",
          "height": 355
        },
        "id": "7z6xDoRhANe4",
        "outputId": "7c547c6c-4e4f-4e09-b436-7ae095fbc24c"
      },
      "source": [
        "# this can we found by using value_counts function on winner column\r\n",
        "# converting the pandaserise into dataframe for better representation \r\n",
        "team_by_win = pd.DataFrame(matches_df_1['winner'].value_counts())\r\n",
        "\r\n",
        "#lets reset the index\r\n",
        "team_by_win.reset_index(inplace= True)\r\n",
        "team_by_win.rename(columns ={\"index\":\"Team Name\",\"winner\":\"matches_Won\"},inplace =True)\r\n",
        "\r\n",
        "\r\n",
        "# tried to set the background color on the basis of numerical value present by using background _gradient \r\n",
        "team_by_win.style.background_gradient(cmap=\"PuBu\")"
      ],
      "execution_count": 9,
      "outputs": [
        {
          "output_type": "execute_result",
          "data": {
            "text/html": [
              "<style  type=\"text/css\" >\n",
              "#T_4c7cfbac_78d3_11eb_88ec_0242ac1c0002row0_col1{\n",
              "            background-color:  #023858;\n",
              "            color:  #f1f1f1;\n",
              "        }#T_4c7cfbac_78d3_11eb_88ec_0242ac1c0002row1_col1{\n",
              "            background-color:  #034f7d;\n",
              "            color:  #f1f1f1;\n",
              "        }#T_4c7cfbac_78d3_11eb_88ec_0242ac1c0002row2_col1{\n",
              "            background-color:  #046097;\n",
              "            color:  #f1f1f1;\n",
              "        }#T_4c7cfbac_78d3_11eb_88ec_0242ac1c0002row3_col1{\n",
              "            background-color:  #056ead;\n",
              "            color:  #f1f1f1;\n",
              "        }#T_4c7cfbac_78d3_11eb_88ec_0242ac1c0002row4_col1{\n",
              "            background-color:  #0872b1;\n",
              "            color:  #f1f1f1;\n",
              "        }#T_4c7cfbac_78d3_11eb_88ec_0242ac1c0002row5_col1{\n",
              "            background-color:  #2383ba;\n",
              "            color:  #000000;\n",
              "        }#T_4c7cfbac_78d3_11eb_88ec_0242ac1c0002row6_col1{\n",
              "            background-color:  #4496c3;\n",
              "            color:  #000000;\n",
              "        }#T_4c7cfbac_78d3_11eb_88ec_0242ac1c0002row7_col1{\n",
              "            background-color:  #6fa7ce;\n",
              "            color:  #000000;\n",
              "        }#T_4c7cfbac_78d3_11eb_88ec_0242ac1c0002row8_col1{\n",
              "            background-color:  #d4d4e8;\n",
              "            color:  #000000;\n",
              "        }#T_4c7cfbac_78d3_11eb_88ec_0242ac1c0002row9_col1{\n",
              "            background-color:  #f4edf6;\n",
              "            color:  #000000;\n",
              "        }#T_4c7cfbac_78d3_11eb_88ec_0242ac1c0002row10_col1{\n",
              "            background-color:  #f5eef6;\n",
              "            color:  #000000;\n",
              "        }#T_4c7cfbac_78d3_11eb_88ec_0242ac1c0002row11_col1,#T_4c7cfbac_78d3_11eb_88ec_0242ac1c0002row12_col1{\n",
              "            background-color:  #f8f1f8;\n",
              "            color:  #000000;\n",
              "        }#T_4c7cfbac_78d3_11eb_88ec_0242ac1c0002row13_col1{\n",
              "            background-color:  #fef6fa;\n",
              "            color:  #000000;\n",
              "        }#T_4c7cfbac_78d3_11eb_88ec_0242ac1c0002row14_col1{\n",
              "            background-color:  #fff7fb;\n",
              "            color:  #000000;\n",
              "        }</style><table id=\"T_4c7cfbac_78d3_11eb_88ec_0242ac1c0002\" ><thead>    <tr>        <th class=\"blank level0\" ></th>        <th class=\"col_heading level0 col0\" >Team Name</th>        <th class=\"col_heading level0 col1\" >matches_Won</th>    </tr></thead><tbody>\n",
              "                <tr>\n",
              "                        <th id=\"T_4c7cfbac_78d3_11eb_88ec_0242ac1c0002level0_row0\" class=\"row_heading level0 row0\" >0</th>\n",
              "                        <td id=\"T_4c7cfbac_78d3_11eb_88ec_0242ac1c0002row0_col0\" class=\"data row0 col0\" >Mumbai Indians</td>\n",
              "                        <td id=\"T_4c7cfbac_78d3_11eb_88ec_0242ac1c0002row0_col1\" class=\"data row0 col1\" >109</td>\n",
              "            </tr>\n",
              "            <tr>\n",
              "                        <th id=\"T_4c7cfbac_78d3_11eb_88ec_0242ac1c0002level0_row1\" class=\"row_heading level0 row1\" >1</th>\n",
              "                        <td id=\"T_4c7cfbac_78d3_11eb_88ec_0242ac1c0002row1_col0\" class=\"data row1 col0\" >Chennai Super Kings</td>\n",
              "                        <td id=\"T_4c7cfbac_78d3_11eb_88ec_0242ac1c0002row1_col1\" class=\"data row1 col1\" >100</td>\n",
              "            </tr>\n",
              "            <tr>\n",
              "                        <th id=\"T_4c7cfbac_78d3_11eb_88ec_0242ac1c0002level0_row2\" class=\"row_heading level0 row2\" >2</th>\n",
              "                        <td id=\"T_4c7cfbac_78d3_11eb_88ec_0242ac1c0002row2_col0\" class=\"data row2 col0\" >Kolkata Knight Riders</td>\n",
              "                        <td id=\"T_4c7cfbac_78d3_11eb_88ec_0242ac1c0002row2_col1\" class=\"data row2 col1\" >92</td>\n",
              "            </tr>\n",
              "            <tr>\n",
              "                        <th id=\"T_4c7cfbac_78d3_11eb_88ec_0242ac1c0002level0_row3\" class=\"row_heading level0 row3\" >3</th>\n",
              "                        <td id=\"T_4c7cfbac_78d3_11eb_88ec_0242ac1c0002row3_col0\" class=\"data row3 col0\" >Royal Challengers Bangalore</td>\n",
              "                        <td id=\"T_4c7cfbac_78d3_11eb_88ec_0242ac1c0002row3_col1\" class=\"data row3 col1\" >84</td>\n",
              "            </tr>\n",
              "            <tr>\n",
              "                        <th id=\"T_4c7cfbac_78d3_11eb_88ec_0242ac1c0002level0_row4\" class=\"row_heading level0 row4\" >4</th>\n",
              "                        <td id=\"T_4c7cfbac_78d3_11eb_88ec_0242ac1c0002row4_col0\" class=\"data row4 col0\" >Kings XI Punjab</td>\n",
              "                        <td id=\"T_4c7cfbac_78d3_11eb_88ec_0242ac1c0002row4_col1\" class=\"data row4 col1\" >82</td>\n",
              "            </tr>\n",
              "            <tr>\n",
              "                        <th id=\"T_4c7cfbac_78d3_11eb_88ec_0242ac1c0002level0_row5\" class=\"row_heading level0 row5\" >5</th>\n",
              "                        <td id=\"T_4c7cfbac_78d3_11eb_88ec_0242ac1c0002row5_col0\" class=\"data row5 col0\" >Rajasthan Royals</td>\n",
              "                        <td id=\"T_4c7cfbac_78d3_11eb_88ec_0242ac1c0002row5_col1\" class=\"data row5 col1\" >75</td>\n",
              "            </tr>\n",
              "            <tr>\n",
              "                        <th id=\"T_4c7cfbac_78d3_11eb_88ec_0242ac1c0002level0_row6\" class=\"row_heading level0 row6\" >6</th>\n",
              "                        <td id=\"T_4c7cfbac_78d3_11eb_88ec_0242ac1c0002row6_col0\" class=\"data row6 col0\" >Delhi Daredevils</td>\n",
              "                        <td id=\"T_4c7cfbac_78d3_11eb_88ec_0242ac1c0002row6_col1\" class=\"data row6 col1\" >67</td>\n",
              "            </tr>\n",
              "            <tr>\n",
              "                        <th id=\"T_4c7cfbac_78d3_11eb_88ec_0242ac1c0002level0_row7\" class=\"row_heading level0 row7\" >7</th>\n",
              "                        <td id=\"T_4c7cfbac_78d3_11eb_88ec_0242ac1c0002row7_col0\" class=\"data row7 col0\" >Sunrisers Hyderabad</td>\n",
              "                        <td id=\"T_4c7cfbac_78d3_11eb_88ec_0242ac1c0002row7_col1\" class=\"data row7 col1\" >58</td>\n",
              "            </tr>\n",
              "            <tr>\n",
              "                        <th id=\"T_4c7cfbac_78d3_11eb_88ec_0242ac1c0002level0_row8\" class=\"row_heading level0 row8\" >8</th>\n",
              "                        <td id=\"T_4c7cfbac_78d3_11eb_88ec_0242ac1c0002row8_col0\" class=\"data row8 col0\" >Deccan Chargers</td>\n",
              "                        <td id=\"T_4c7cfbac_78d3_11eb_88ec_0242ac1c0002row8_col1\" class=\"data row8 col1\" >29</td>\n",
              "            </tr>\n",
              "            <tr>\n",
              "                        <th id=\"T_4c7cfbac_78d3_11eb_88ec_0242ac1c0002level0_row9\" class=\"row_heading level0 row9\" >9</th>\n",
              "                        <td id=\"T_4c7cfbac_78d3_11eb_88ec_0242ac1c0002row9_col0\" class=\"data row9 col0\" >Gujarat Lions</td>\n",
              "                        <td id=\"T_4c7cfbac_78d3_11eb_88ec_0242ac1c0002row9_col1\" class=\"data row9 col1\" >13</td>\n",
              "            </tr>\n",
              "            <tr>\n",
              "                        <th id=\"T_4c7cfbac_78d3_11eb_88ec_0242ac1c0002level0_row10\" class=\"row_heading level0 row10\" >10</th>\n",
              "                        <td id=\"T_4c7cfbac_78d3_11eb_88ec_0242ac1c0002row10_col0\" class=\"data row10 col0\" >Pune Warriors</td>\n",
              "                        <td id=\"T_4c7cfbac_78d3_11eb_88ec_0242ac1c0002row10_col1\" class=\"data row10 col1\" >12</td>\n",
              "            </tr>\n",
              "            <tr>\n",
              "                        <th id=\"T_4c7cfbac_78d3_11eb_88ec_0242ac1c0002level0_row11\" class=\"row_heading level0 row11\" >11</th>\n",
              "                        <td id=\"T_4c7cfbac_78d3_11eb_88ec_0242ac1c0002row11_col0\" class=\"data row11 col0\" >Delhi Capitals</td>\n",
              "                        <td id=\"T_4c7cfbac_78d3_11eb_88ec_0242ac1c0002row11_col1\" class=\"data row11 col1\" >10</td>\n",
              "            </tr>\n",
              "            <tr>\n",
              "                        <th id=\"T_4c7cfbac_78d3_11eb_88ec_0242ac1c0002level0_row12\" class=\"row_heading level0 row12\" >12</th>\n",
              "                        <td id=\"T_4c7cfbac_78d3_11eb_88ec_0242ac1c0002row12_col0\" class=\"data row12 col0\" >Rising Pune Supergiant</td>\n",
              "                        <td id=\"T_4c7cfbac_78d3_11eb_88ec_0242ac1c0002row12_col1\" class=\"data row12 col1\" >10</td>\n",
              "            </tr>\n",
              "            <tr>\n",
              "                        <th id=\"T_4c7cfbac_78d3_11eb_88ec_0242ac1c0002level0_row13\" class=\"row_heading level0 row13\" >13</th>\n",
              "                        <td id=\"T_4c7cfbac_78d3_11eb_88ec_0242ac1c0002row13_col0\" class=\"data row13 col0\" >Kochi Tuskers Kerala</td>\n",
              "                        <td id=\"T_4c7cfbac_78d3_11eb_88ec_0242ac1c0002row13_col1\" class=\"data row13 col1\" >6</td>\n",
              "            </tr>\n",
              "            <tr>\n",
              "                        <th id=\"T_4c7cfbac_78d3_11eb_88ec_0242ac1c0002level0_row14\" class=\"row_heading level0 row14\" >14</th>\n",
              "                        <td id=\"T_4c7cfbac_78d3_11eb_88ec_0242ac1c0002row14_col0\" class=\"data row14 col0\" >Rising Pune Supergiants</td>\n",
              "                        <td id=\"T_4c7cfbac_78d3_11eb_88ec_0242ac1c0002row14_col1\" class=\"data row14 col1\" >5</td>\n",
              "            </tr>\n",
              "    </tbody></table>"
            ],
            "text/plain": [
              "<pandas.io.formats.style.Styler at 0x7f16ce05c110>"
            ]
          },
          "metadata": {
            "tags": []
          },
          "execution_count": 9
        }
      ]
    },
    {
      "cell_type": "markdown",
      "metadata": {
        "id": "wsr_SHrb4OME"
      },
      "source": [
        "From this data we can conclude that  mumbai indian is the team which have won max number of matches"
      ]
    },
    {
      "cell_type": "markdown",
      "metadata": {
        "id": "c4vP06_IVskV"
      },
      "source": [
        "By looking this Dataframe any one can thinks  that there are 14 teams in IPL\r\n",
        "\r\n",
        "\r\n",
        "But that is not correct as there are few teams which have rename them self \r\n",
        "\r\n",
        "*   Delhi Daredevils becomes  Delhi Capitals\r\n",
        "*   Deccan Chargers become  Sunrisers Hyderabad\r\n",
        "*   Rising Pune Supergiants becomes Rising Pune Supergiant\r\n",
        "\r\n",
        "And few teams have played for only one or two season\r\n",
        "\r\n",
        "\r\n",
        "\r\n",
        "*   Gujarat Lions\r\n",
        "*\t  Pune Warriors\r\n",
        "\r\n",
        "*   Rising Pune Supergiant\r\n",
        "*   Kochi Tuskers Kerala\r\n",
        "\r\n",
        "\r\n",
        "\r\n",
        "\r\n",
        "\r\n",
        "\r\n",
        "\r\n",
        "\r\n",
        "\r\n",
        "\r\n",
        "\r\n"
      ]
    },
    {
      "cell_type": "code",
      "metadata": {
        "id": "4psdPWTFCD5c"
      },
      "source": [
        ""
      ],
      "execution_count": 9,
      "outputs": []
    },
    {
      "cell_type": "code",
      "metadata": {
        "id": "w7p21FBkCDrh"
      },
      "source": [
        ""
      ],
      "execution_count": 9,
      "outputs": []
    },
    {
      "cell_type": "markdown",
      "metadata": {
        "id": "ByneB2CTCDdY"
      },
      "source": [
        ""
      ]
    },
    {
      "cell_type": "markdown",
      "metadata": {
        "id": "aE4XBGYuByeR"
      },
      "source": [
        "Now lets change the replace the name of the team and see how this dataframe changes "
      ]
    },
    {
      "cell_type": "code",
      "metadata": {
        "id": "uJrvNmgUCFCH"
      },
      "source": [
        "# using replace function to replace value to another\r\n",
        "matches_df= matches_df_1.replace(to_replace=\"Delhi Daredevils\", value =\"Delhi Capitals\")\r\n",
        "matches_df.replace(to_replace=\"Deccan Chargers\", value =\"Sunrisers Hyderabad\",inplace =True)\r\n",
        "matches_df.replace(to_replace=\"Rising Pune Supergiants\", value =\"Rising Pune Supergiant\",inplace =True)"
      ],
      "execution_count": 10,
      "outputs": []
    },
    {
      "cell_type": "code",
      "metadata": {
        "colab": {
          "base_uri": "https://localhost:8080/",
          "height": 830
        },
        "id": "awVdhKfGE7E1",
        "outputId": "af4465b4-5706-4718-8311-70280abc891d"
      },
      "source": [
        "matches_df"
      ],
      "execution_count": 11,
      "outputs": [
        {
          "output_type": "execute_result",
          "data": {
            "text/html": [
              "<div>\n",
              "<style scoped>\n",
              "    .dataframe tbody tr th:only-of-type {\n",
              "        vertical-align: middle;\n",
              "    }\n",
              "\n",
              "    .dataframe tbody tr th {\n",
              "        vertical-align: top;\n",
              "    }\n",
              "\n",
              "    .dataframe thead th {\n",
              "        text-align: right;\n",
              "    }\n",
              "</style>\n",
              "<table border=\"1\" class=\"dataframe\">\n",
              "  <thead>\n",
              "    <tr style=\"text-align: right;\">\n",
              "      <th></th>\n",
              "      <th>id</th>\n",
              "      <th>Season</th>\n",
              "      <th>city</th>\n",
              "      <th>date</th>\n",
              "      <th>team1</th>\n",
              "      <th>team2</th>\n",
              "      <th>toss_winner</th>\n",
              "      <th>toss_decision</th>\n",
              "      <th>result</th>\n",
              "      <th>dl_applied</th>\n",
              "      <th>winner</th>\n",
              "      <th>win_by_runs</th>\n",
              "      <th>win_by_wickets</th>\n",
              "      <th>player_of_match</th>\n",
              "      <th>venue</th>\n",
              "      <th>umpire1</th>\n",
              "      <th>umpire2</th>\n",
              "      <th>umpire3</th>\n",
              "    </tr>\n",
              "  </thead>\n",
              "  <tbody>\n",
              "    <tr>\n",
              "      <th>0</th>\n",
              "      <td>1</td>\n",
              "      <td>IPL-2017</td>\n",
              "      <td>Hyderabad</td>\n",
              "      <td>05-04-2017</td>\n",
              "      <td>Sunrisers Hyderabad</td>\n",
              "      <td>Royal Challengers Bangalore</td>\n",
              "      <td>Royal Challengers Bangalore</td>\n",
              "      <td>field</td>\n",
              "      <td>normal</td>\n",
              "      <td>0</td>\n",
              "      <td>Sunrisers Hyderabad</td>\n",
              "      <td>35</td>\n",
              "      <td>0</td>\n",
              "      <td>Yuvraj Singh</td>\n",
              "      <td>Rajiv Gandhi International Stadium, Uppal</td>\n",
              "      <td>AY Dandekar</td>\n",
              "      <td>NJ Llong</td>\n",
              "      <td>NaN</td>\n",
              "    </tr>\n",
              "    <tr>\n",
              "      <th>1</th>\n",
              "      <td>2</td>\n",
              "      <td>IPL-2017</td>\n",
              "      <td>Pune</td>\n",
              "      <td>06-04-2017</td>\n",
              "      <td>Mumbai Indians</td>\n",
              "      <td>Rising Pune Supergiant</td>\n",
              "      <td>Rising Pune Supergiant</td>\n",
              "      <td>field</td>\n",
              "      <td>normal</td>\n",
              "      <td>0</td>\n",
              "      <td>Rising Pune Supergiant</td>\n",
              "      <td>0</td>\n",
              "      <td>7</td>\n",
              "      <td>SPD Smith</td>\n",
              "      <td>Maharashtra Cricket Association Stadium</td>\n",
              "      <td>A Nand Kishore</td>\n",
              "      <td>S Ravi</td>\n",
              "      <td>NaN</td>\n",
              "    </tr>\n",
              "    <tr>\n",
              "      <th>2</th>\n",
              "      <td>3</td>\n",
              "      <td>IPL-2017</td>\n",
              "      <td>Rajkot</td>\n",
              "      <td>07-04-2017</td>\n",
              "      <td>Gujarat Lions</td>\n",
              "      <td>Kolkata Knight Riders</td>\n",
              "      <td>Kolkata Knight Riders</td>\n",
              "      <td>field</td>\n",
              "      <td>normal</td>\n",
              "      <td>0</td>\n",
              "      <td>Kolkata Knight Riders</td>\n",
              "      <td>0</td>\n",
              "      <td>10</td>\n",
              "      <td>CA Lynn</td>\n",
              "      <td>Saurashtra Cricket Association Stadium</td>\n",
              "      <td>Nitin Menon</td>\n",
              "      <td>CK Nandan</td>\n",
              "      <td>NaN</td>\n",
              "    </tr>\n",
              "    <tr>\n",
              "      <th>3</th>\n",
              "      <td>4</td>\n",
              "      <td>IPL-2017</td>\n",
              "      <td>Indore</td>\n",
              "      <td>08-04-2017</td>\n",
              "      <td>Rising Pune Supergiant</td>\n",
              "      <td>Kings XI Punjab</td>\n",
              "      <td>Kings XI Punjab</td>\n",
              "      <td>field</td>\n",
              "      <td>normal</td>\n",
              "      <td>0</td>\n",
              "      <td>Kings XI Punjab</td>\n",
              "      <td>0</td>\n",
              "      <td>6</td>\n",
              "      <td>GJ Maxwell</td>\n",
              "      <td>Holkar Cricket Stadium</td>\n",
              "      <td>AK Chaudhary</td>\n",
              "      <td>C Shamshuddin</td>\n",
              "      <td>NaN</td>\n",
              "    </tr>\n",
              "    <tr>\n",
              "      <th>4</th>\n",
              "      <td>5</td>\n",
              "      <td>IPL-2017</td>\n",
              "      <td>Bangalore</td>\n",
              "      <td>08-04-2017</td>\n",
              "      <td>Royal Challengers Bangalore</td>\n",
              "      <td>Delhi Capitals</td>\n",
              "      <td>Royal Challengers Bangalore</td>\n",
              "      <td>bat</td>\n",
              "      <td>normal</td>\n",
              "      <td>0</td>\n",
              "      <td>Royal Challengers Bangalore</td>\n",
              "      <td>15</td>\n",
              "      <td>0</td>\n",
              "      <td>KM Jadhav</td>\n",
              "      <td>M Chinnaswamy Stadium</td>\n",
              "      <td>NaN</td>\n",
              "      <td>NaN</td>\n",
              "      <td>NaN</td>\n",
              "    </tr>\n",
              "    <tr>\n",
              "      <th>...</th>\n",
              "      <td>...</td>\n",
              "      <td>...</td>\n",
              "      <td>...</td>\n",
              "      <td>...</td>\n",
              "      <td>...</td>\n",
              "      <td>...</td>\n",
              "      <td>...</td>\n",
              "      <td>...</td>\n",
              "      <td>...</td>\n",
              "      <td>...</td>\n",
              "      <td>...</td>\n",
              "      <td>...</td>\n",
              "      <td>...</td>\n",
              "      <td>...</td>\n",
              "      <td>...</td>\n",
              "      <td>...</td>\n",
              "      <td>...</td>\n",
              "      <td>...</td>\n",
              "    </tr>\n",
              "    <tr>\n",
              "      <th>751</th>\n",
              "      <td>11347</td>\n",
              "      <td>IPL-2019</td>\n",
              "      <td>Mumbai</td>\n",
              "      <td>05-05-2019</td>\n",
              "      <td>Kolkata Knight Riders</td>\n",
              "      <td>Mumbai Indians</td>\n",
              "      <td>Mumbai Indians</td>\n",
              "      <td>field</td>\n",
              "      <td>normal</td>\n",
              "      <td>0</td>\n",
              "      <td>Mumbai Indians</td>\n",
              "      <td>0</td>\n",
              "      <td>9</td>\n",
              "      <td>HH Pandya</td>\n",
              "      <td>Wankhede Stadium</td>\n",
              "      <td>Nanda Kishore</td>\n",
              "      <td>O Nandan</td>\n",
              "      <td>S Ravi</td>\n",
              "    </tr>\n",
              "    <tr>\n",
              "      <th>752</th>\n",
              "      <td>11412</td>\n",
              "      <td>IPL-2019</td>\n",
              "      <td>Chennai</td>\n",
              "      <td>07-05-2019</td>\n",
              "      <td>Chennai Super Kings</td>\n",
              "      <td>Mumbai Indians</td>\n",
              "      <td>Chennai Super Kings</td>\n",
              "      <td>bat</td>\n",
              "      <td>normal</td>\n",
              "      <td>0</td>\n",
              "      <td>Mumbai Indians</td>\n",
              "      <td>0</td>\n",
              "      <td>6</td>\n",
              "      <td>AS Yadav</td>\n",
              "      <td>M. A. Chidambaram Stadium</td>\n",
              "      <td>Nigel Llong</td>\n",
              "      <td>Nitin Menon</td>\n",
              "      <td>Ian Gould</td>\n",
              "    </tr>\n",
              "    <tr>\n",
              "      <th>753</th>\n",
              "      <td>11413</td>\n",
              "      <td>IPL-2019</td>\n",
              "      <td>Visakhapatnam</td>\n",
              "      <td>08-05-2019</td>\n",
              "      <td>Sunrisers Hyderabad</td>\n",
              "      <td>Delhi Capitals</td>\n",
              "      <td>Delhi Capitals</td>\n",
              "      <td>field</td>\n",
              "      <td>normal</td>\n",
              "      <td>0</td>\n",
              "      <td>Delhi Capitals</td>\n",
              "      <td>0</td>\n",
              "      <td>2</td>\n",
              "      <td>RR Pant</td>\n",
              "      <td>ACA-VDCA Stadium</td>\n",
              "      <td>NaN</td>\n",
              "      <td>NaN</td>\n",
              "      <td>NaN</td>\n",
              "    </tr>\n",
              "    <tr>\n",
              "      <th>754</th>\n",
              "      <td>11414</td>\n",
              "      <td>IPL-2019</td>\n",
              "      <td>Visakhapatnam</td>\n",
              "      <td>10-05-2019</td>\n",
              "      <td>Delhi Capitals</td>\n",
              "      <td>Chennai Super Kings</td>\n",
              "      <td>Chennai Super Kings</td>\n",
              "      <td>field</td>\n",
              "      <td>normal</td>\n",
              "      <td>0</td>\n",
              "      <td>Chennai Super Kings</td>\n",
              "      <td>0</td>\n",
              "      <td>6</td>\n",
              "      <td>F du Plessis</td>\n",
              "      <td>ACA-VDCA Stadium</td>\n",
              "      <td>Sundaram Ravi</td>\n",
              "      <td>Bruce Oxenford</td>\n",
              "      <td>Chettithody Shamshuddin</td>\n",
              "    </tr>\n",
              "    <tr>\n",
              "      <th>755</th>\n",
              "      <td>11415</td>\n",
              "      <td>IPL-2019</td>\n",
              "      <td>Hyderabad</td>\n",
              "      <td>12-05-2019</td>\n",
              "      <td>Mumbai Indians</td>\n",
              "      <td>Chennai Super Kings</td>\n",
              "      <td>Mumbai Indians</td>\n",
              "      <td>bat</td>\n",
              "      <td>normal</td>\n",
              "      <td>0</td>\n",
              "      <td>Mumbai Indians</td>\n",
              "      <td>1</td>\n",
              "      <td>0</td>\n",
              "      <td>JJ Bumrah</td>\n",
              "      <td>Rajiv Gandhi Intl. Cricket Stadium</td>\n",
              "      <td>Nitin Menon</td>\n",
              "      <td>Ian Gould</td>\n",
              "      <td>Nigel Llong</td>\n",
              "    </tr>\n",
              "  </tbody>\n",
              "</table>\n",
              "<p>756 rows × 18 columns</p>\n",
              "</div>"
            ],
            "text/plain": [
              "        id    Season  ...         umpire2                  umpire3\n",
              "0        1  IPL-2017  ...        NJ Llong                      NaN\n",
              "1        2  IPL-2017  ...          S Ravi                      NaN\n",
              "2        3  IPL-2017  ...       CK Nandan                      NaN\n",
              "3        4  IPL-2017  ...   C Shamshuddin                      NaN\n",
              "4        5  IPL-2017  ...             NaN                      NaN\n",
              "..     ...       ...  ...             ...                      ...\n",
              "751  11347  IPL-2019  ...        O Nandan                   S Ravi\n",
              "752  11412  IPL-2019  ...     Nitin Menon                Ian Gould\n",
              "753  11413  IPL-2019  ...             NaN                      NaN\n",
              "754  11414  IPL-2019  ...  Bruce Oxenford  Chettithody Shamshuddin\n",
              "755  11415  IPL-2019  ...       Ian Gould              Nigel Llong\n",
              "\n",
              "[756 rows x 18 columns]"
            ]
          },
          "metadata": {
            "tags": []
          },
          "execution_count": 11
        }
      ]
    },
    {
      "cell_type": "code",
      "metadata": {
        "colab": {
          "base_uri": "https://localhost:8080/",
          "height": 292
        },
        "id": "cfsaX5RwEPnQ",
        "outputId": "c487ce89-9d3c-4f3c-c320-a82f71d60865"
      },
      "source": [
        "team_by_win_1 = pd.DataFrame(matches_df['winner'].value_counts())\r\n",
        "team_by_win_1.reset_index(inplace= True)\r\n",
        "team_by_win_1.rename(columns ={\"index\":\"Team Name\",\"winner\":\"matches_won\"},inplace =True)\r\n",
        "\r\n",
        "\r\n",
        "# tried to set the background color on the basis of numerical value present by using background _gradient \r\n",
        "team_by_win_1.style.background_gradient(cmap=\"PuBu\")\r\n"
      ],
      "execution_count": 12,
      "outputs": [
        {
          "output_type": "execute_result",
          "data": {
            "text/html": [
              "<style  type=\"text/css\" >\n",
              "#T_4c8c7b72_78d3_11eb_88ec_0242ac1c0002row0_col1{\n",
              "            background-color:  #023858;\n",
              "            color:  #f1f1f1;\n",
              "        }#T_4c8c7b72_78d3_11eb_88ec_0242ac1c0002row1_col1{\n",
              "            background-color:  #034f7d;\n",
              "            color:  #f1f1f1;\n",
              "        }#T_4c8c7b72_78d3_11eb_88ec_0242ac1c0002row2_col1{\n",
              "            background-color:  #046198;\n",
              "            color:  #f1f1f1;\n",
              "        }#T_4c8c7b72_78d3_11eb_88ec_0242ac1c0002row3_col1{\n",
              "            background-color:  #0569a5;\n",
              "            color:  #f1f1f1;\n",
              "        }#T_4c8c7b72_78d3_11eb_88ec_0242ac1c0002row4_col1{\n",
              "            background-color:  #056fae;\n",
              "            color:  #f1f1f1;\n",
              "        }#T_4c8c7b72_78d3_11eb_88ec_0242ac1c0002row5_col1{\n",
              "            background-color:  #0a73b2;\n",
              "            color:  #f1f1f1;\n",
              "        }#T_4c8c7b72_78d3_11eb_88ec_0242ac1c0002row6_col1{\n",
              "            background-color:  #1c7fb8;\n",
              "            color:  #000000;\n",
              "        }#T_4c8c7b72_78d3_11eb_88ec_0242ac1c0002row7_col1{\n",
              "            background-color:  #2484ba;\n",
              "            color:  #000000;\n",
              "        }#T_4c8c7b72_78d3_11eb_88ec_0242ac1c0002row8_col1{\n",
              "            background-color:  #f2ecf5;\n",
              "            color:  #000000;\n",
              "        }#T_4c8c7b72_78d3_11eb_88ec_0242ac1c0002row9_col1{\n",
              "            background-color:  #f5eef6;\n",
              "            color:  #000000;\n",
              "        }#T_4c8c7b72_78d3_11eb_88ec_0242ac1c0002row10_col1{\n",
              "            background-color:  #f7f0f7;\n",
              "            color:  #000000;\n",
              "        }#T_4c8c7b72_78d3_11eb_88ec_0242ac1c0002row11_col1{\n",
              "            background-color:  #fff7fb;\n",
              "            color:  #000000;\n",
              "        }</style><table id=\"T_4c8c7b72_78d3_11eb_88ec_0242ac1c0002\" ><thead>    <tr>        <th class=\"blank level0\" ></th>        <th class=\"col_heading level0 col0\" >Team Name</th>        <th class=\"col_heading level0 col1\" >matches_won</th>    </tr></thead><tbody>\n",
              "                <tr>\n",
              "                        <th id=\"T_4c8c7b72_78d3_11eb_88ec_0242ac1c0002level0_row0\" class=\"row_heading level0 row0\" >0</th>\n",
              "                        <td id=\"T_4c8c7b72_78d3_11eb_88ec_0242ac1c0002row0_col0\" class=\"data row0 col0\" >Mumbai Indians</td>\n",
              "                        <td id=\"T_4c8c7b72_78d3_11eb_88ec_0242ac1c0002row0_col1\" class=\"data row0 col1\" >109</td>\n",
              "            </tr>\n",
              "            <tr>\n",
              "                        <th id=\"T_4c8c7b72_78d3_11eb_88ec_0242ac1c0002level0_row1\" class=\"row_heading level0 row1\" >1</th>\n",
              "                        <td id=\"T_4c8c7b72_78d3_11eb_88ec_0242ac1c0002row1_col0\" class=\"data row1 col0\" >Chennai Super Kings</td>\n",
              "                        <td id=\"T_4c8c7b72_78d3_11eb_88ec_0242ac1c0002row1_col1\" class=\"data row1 col1\" >100</td>\n",
              "            </tr>\n",
              "            <tr>\n",
              "                        <th id=\"T_4c8c7b72_78d3_11eb_88ec_0242ac1c0002level0_row2\" class=\"row_heading level0 row2\" >2</th>\n",
              "                        <td id=\"T_4c8c7b72_78d3_11eb_88ec_0242ac1c0002row2_col0\" class=\"data row2 col0\" >Kolkata Knight Riders</td>\n",
              "                        <td id=\"T_4c8c7b72_78d3_11eb_88ec_0242ac1c0002row2_col1\" class=\"data row2 col1\" >92</td>\n",
              "            </tr>\n",
              "            <tr>\n",
              "                        <th id=\"T_4c8c7b72_78d3_11eb_88ec_0242ac1c0002level0_row3\" class=\"row_heading level0 row3\" >3</th>\n",
              "                        <td id=\"T_4c8c7b72_78d3_11eb_88ec_0242ac1c0002row3_col0\" class=\"data row3 col0\" >Sunrisers Hyderabad</td>\n",
              "                        <td id=\"T_4c8c7b72_78d3_11eb_88ec_0242ac1c0002row3_col1\" class=\"data row3 col1\" >87</td>\n",
              "            </tr>\n",
              "            <tr>\n",
              "                        <th id=\"T_4c8c7b72_78d3_11eb_88ec_0242ac1c0002level0_row4\" class=\"row_heading level0 row4\" >4</th>\n",
              "                        <td id=\"T_4c8c7b72_78d3_11eb_88ec_0242ac1c0002row4_col0\" class=\"data row4 col0\" >Royal Challengers Bangalore</td>\n",
              "                        <td id=\"T_4c8c7b72_78d3_11eb_88ec_0242ac1c0002row4_col1\" class=\"data row4 col1\" >84</td>\n",
              "            </tr>\n",
              "            <tr>\n",
              "                        <th id=\"T_4c8c7b72_78d3_11eb_88ec_0242ac1c0002level0_row5\" class=\"row_heading level0 row5\" >5</th>\n",
              "                        <td id=\"T_4c8c7b72_78d3_11eb_88ec_0242ac1c0002row5_col0\" class=\"data row5 col0\" >Kings XI Punjab</td>\n",
              "                        <td id=\"T_4c8c7b72_78d3_11eb_88ec_0242ac1c0002row5_col1\" class=\"data row5 col1\" >82</td>\n",
              "            </tr>\n",
              "            <tr>\n",
              "                        <th id=\"T_4c8c7b72_78d3_11eb_88ec_0242ac1c0002level0_row6\" class=\"row_heading level0 row6\" >6</th>\n",
              "                        <td id=\"T_4c8c7b72_78d3_11eb_88ec_0242ac1c0002row6_col0\" class=\"data row6 col0\" >Delhi Capitals</td>\n",
              "                        <td id=\"T_4c8c7b72_78d3_11eb_88ec_0242ac1c0002row6_col1\" class=\"data row6 col1\" >77</td>\n",
              "            </tr>\n",
              "            <tr>\n",
              "                        <th id=\"T_4c8c7b72_78d3_11eb_88ec_0242ac1c0002level0_row7\" class=\"row_heading level0 row7\" >7</th>\n",
              "                        <td id=\"T_4c8c7b72_78d3_11eb_88ec_0242ac1c0002row7_col0\" class=\"data row7 col0\" >Rajasthan Royals</td>\n",
              "                        <td id=\"T_4c8c7b72_78d3_11eb_88ec_0242ac1c0002row7_col1\" class=\"data row7 col1\" >75</td>\n",
              "            </tr>\n",
              "            <tr>\n",
              "                        <th id=\"T_4c8c7b72_78d3_11eb_88ec_0242ac1c0002level0_row8\" class=\"row_heading level0 row8\" >8</th>\n",
              "                        <td id=\"T_4c8c7b72_78d3_11eb_88ec_0242ac1c0002row8_col0\" class=\"data row8 col0\" >Rising Pune Supergiant</td>\n",
              "                        <td id=\"T_4c8c7b72_78d3_11eb_88ec_0242ac1c0002row8_col1\" class=\"data row8 col1\" >15</td>\n",
              "            </tr>\n",
              "            <tr>\n",
              "                        <th id=\"T_4c8c7b72_78d3_11eb_88ec_0242ac1c0002level0_row9\" class=\"row_heading level0 row9\" >9</th>\n",
              "                        <td id=\"T_4c8c7b72_78d3_11eb_88ec_0242ac1c0002row9_col0\" class=\"data row9 col0\" >Gujarat Lions</td>\n",
              "                        <td id=\"T_4c8c7b72_78d3_11eb_88ec_0242ac1c0002row9_col1\" class=\"data row9 col1\" >13</td>\n",
              "            </tr>\n",
              "            <tr>\n",
              "                        <th id=\"T_4c8c7b72_78d3_11eb_88ec_0242ac1c0002level0_row10\" class=\"row_heading level0 row10\" >10</th>\n",
              "                        <td id=\"T_4c8c7b72_78d3_11eb_88ec_0242ac1c0002row10_col0\" class=\"data row10 col0\" >Pune Warriors</td>\n",
              "                        <td id=\"T_4c8c7b72_78d3_11eb_88ec_0242ac1c0002row10_col1\" class=\"data row10 col1\" >12</td>\n",
              "            </tr>\n",
              "            <tr>\n",
              "                        <th id=\"T_4c8c7b72_78d3_11eb_88ec_0242ac1c0002level0_row11\" class=\"row_heading level0 row11\" >11</th>\n",
              "                        <td id=\"T_4c8c7b72_78d3_11eb_88ec_0242ac1c0002row11_col0\" class=\"data row11 col0\" >Kochi Tuskers Kerala</td>\n",
              "                        <td id=\"T_4c8c7b72_78d3_11eb_88ec_0242ac1c0002row11_col1\" class=\"data row11 col1\" >6</td>\n",
              "            </tr>\n",
              "    </tbody></table>"
            ],
            "text/plain": [
              "<pandas.io.formats.style.Styler at 0x7f16cdd77a90>"
            ]
          },
          "metadata": {
            "tags": []
          },
          "execution_count": 12
        }
      ]
    },
    {
      "cell_type": "markdown",
      "metadata": {
        "id": "1r2Ju4zgJX4U"
      },
      "source": [
        "**We can plot a Pie chart for Top 8 teams in Ipl**\r\n"
      ]
    },
    {
      "cell_type": "code",
      "metadata": {
        "colab": {
          "base_uri": "https://localhost:8080/",
          "height": 283
        },
        "id": "JBG60hDnEF78",
        "outputId": "c8fe95e3-42cc-4f3c-96ae-244f2b0f807d"
      },
      "source": [
        "# lets plot a pie plot\r\n",
        "\r\n",
        "plt.pie(team_by_win_1.loc[0:7,\"matches_won\"], autopct=\"%.1f%%\", explode = [0.02]*8,labels= team_by_win_1.loc[0:7,\"Team Name\"], )\r\n",
        "# giving title to the pie chart and changing fontsize\r\n",
        "plt.title(\"Win percentage of 8 Team in IPL\",fontsize=15)\r\n"
      ],
      "execution_count": 13,
      "outputs": [
        {
          "output_type": "execute_result",
          "data": {
            "text/plain": [
              "Text(0.5, 1.0, 'Win percentage of 8 Team in IPL')"
            ]
          },
          "metadata": {
            "tags": []
          },
          "execution_count": 13
        },
        {
          "output_type": "display_data",
          "data": {
            "image/png": "[encoded data removed]",
            "text/plain": [
              "<Figure size 432x288 with 1 Axes>"
            ]
          },
          "metadata": {
            "tags": []
          }
        }
      ]
    },
    {
      "cell_type": "markdown",
      "metadata": {
        "id": "QPm-b8ijFoJI"
      },
      "source": [
        "**Do u want to know which Team have got maximun number of orange cap holder**"
      ]
    },
    {
      "cell_type": "code",
      "metadata": {
        "colab": {
          "base_uri": "https://localhost:8080/",
          "height": 419
        },
        "id": "GbCfS7vIN6oR",
        "outputId": "9722afea-ee02-4937-936a-e63c49b37a45"
      },
      "source": [
        "#let us start by making a new dataframe with only two columns of matches dataframe which can be merged with deliveries data frame  \r\n",
        "new_match_df = matches_df[[\"id\",'Season']]\r\n",
        "new_match_df"
      ],
      "execution_count": 14,
      "outputs": [
        {
          "output_type": "execute_result",
          "data": {
            "text/html": [
              "<div>\n",
              "<style scoped>\n",
              "    .dataframe tbody tr th:only-of-type {\n",
              "        vertical-align: middle;\n",
              "    }\n",
              "\n",
              "    .dataframe tbody tr th {\n",
              "        vertical-align: top;\n",
              "    }\n",
              "\n",
              "    .dataframe thead th {\n",
              "        text-align: right;\n",
              "    }\n",
              "</style>\n",
              "<table border=\"1\" class=\"dataframe\">\n",
              "  <thead>\n",
              "    <tr style=\"text-align: right;\">\n",
              "      <th></th>\n",
              "      <th>id</th>\n",
              "      <th>Season</th>\n",
              "    </tr>\n",
              "  </thead>\n",
              "  <tbody>\n",
              "    <tr>\n",
              "      <th>0</th>\n",
              "      <td>1</td>\n",
              "      <td>IPL-2017</td>\n",
              "    </tr>\n",
              "    <tr>\n",
              "      <th>1</th>\n",
              "      <td>2</td>\n",
              "      <td>IPL-2017</td>\n",
              "    </tr>\n",
              "    <tr>\n",
              "      <th>2</th>\n",
              "      <td>3</td>\n",
              "      <td>IPL-2017</td>\n",
              "    </tr>\n",
              "    <tr>\n",
              "      <th>3</th>\n",
              "      <td>4</td>\n",
              "      <td>IPL-2017</td>\n",
              "    </tr>\n",
              "    <tr>\n",
              "      <th>4</th>\n",
              "      <td>5</td>\n",
              "      <td>IPL-2017</td>\n",
              "    </tr>\n",
              "    <tr>\n",
              "      <th>...</th>\n",
              "      <td>...</td>\n",
              "      <td>...</td>\n",
              "    </tr>\n",
              "    <tr>\n",
              "      <th>751</th>\n",
              "      <td>11347</td>\n",
              "      <td>IPL-2019</td>\n",
              "    </tr>\n",
              "    <tr>\n",
              "      <th>752</th>\n",
              "      <td>11412</td>\n",
              "      <td>IPL-2019</td>\n",
              "    </tr>\n",
              "    <tr>\n",
              "      <th>753</th>\n",
              "      <td>11413</td>\n",
              "      <td>IPL-2019</td>\n",
              "    </tr>\n",
              "    <tr>\n",
              "      <th>754</th>\n",
              "      <td>11414</td>\n",
              "      <td>IPL-2019</td>\n",
              "    </tr>\n",
              "    <tr>\n",
              "      <th>755</th>\n",
              "      <td>11415</td>\n",
              "      <td>IPL-2019</td>\n",
              "    </tr>\n",
              "  </tbody>\n",
              "</table>\n",
              "<p>756 rows × 2 columns</p>\n",
              "</div>"
            ],
            "text/plain": [
              "        id    Season\n",
              "0        1  IPL-2017\n",
              "1        2  IPL-2017\n",
              "2        3  IPL-2017\n",
              "3        4  IPL-2017\n",
              "4        5  IPL-2017\n",
              "..     ...       ...\n",
              "751  11347  IPL-2019\n",
              "752  11412  IPL-2019\n",
              "753  11413  IPL-2019\n",
              "754  11414  IPL-2019\n",
              "755  11415  IPL-2019\n",
              "\n",
              "[756 rows x 2 columns]"
            ]
          },
          "metadata": {
            "tags": []
          },
          "execution_count": 14
        }
      ]
    },
    {
      "cell_type": "markdown",
      "metadata": {
        "id": "bcGfZS7DPoZj"
      },
      "source": [
        ""
      ]
    },
    {
      "cell_type": "code",
      "metadata": {
        "id": "XobzTYWHOXhF"
      },
      "source": [
        "#using merge operation  on the match id columns of deliveries dataframe and id column of new_matches_df dataframe\r\n",
        "new_deliveries_df = pd.merge(deliveries_df,new_match_df , left_on= \"match_id\",right_on =\"id\")"
      ],
      "execution_count": 15,
      "outputs": []
    },
    {
      "cell_type": "code",
      "metadata": {
        "colab": {
          "base_uri": "https://localhost:8080/",
          "height": 694
        },
        "id": "gaP7mBrtOXdR",
        "outputId": "a409e7fe-96ce-4bf0-90ff-ee7f8993405a"
      },
      "source": [
        "new_deliveries_df"
      ],
      "execution_count": 16,
      "outputs": [
        {
          "output_type": "execute_result",
          "data": {
            "text/html": [
              "<div>\n",
              "<style scoped>\n",
              "    .dataframe tbody tr th:only-of-type {\n",
              "        vertical-align: middle;\n",
              "    }\n",
              "\n",
              "    .dataframe tbody tr th {\n",
              "        vertical-align: top;\n",
              "    }\n",
              "\n",
              "    .dataframe thead th {\n",
              "        text-align: right;\n",
              "    }\n",
              "</style>\n",
              "<table border=\"1\" class=\"dataframe\">\n",
              "  <thead>\n",
              "    <tr style=\"text-align: right;\">\n",
              "      <th></th>\n",
              "      <th>match_id</th>\n",
              "      <th>inning</th>\n",
              "      <th>batting_team</th>\n",
              "      <th>bowling_team</th>\n",
              "      <th>over</th>\n",
              "      <th>ball</th>\n",
              "      <th>batsman</th>\n",
              "      <th>non_striker</th>\n",
              "      <th>bowler</th>\n",
              "      <th>is_super_over</th>\n",
              "      <th>wide_runs</th>\n",
              "      <th>bye_runs</th>\n",
              "      <th>legbye_runs</th>\n",
              "      <th>noball_runs</th>\n",
              "      <th>penalty_runs</th>\n",
              "      <th>batsman_runs</th>\n",
              "      <th>extra_runs</th>\n",
              "      <th>total_runs</th>\n",
              "      <th>player_dismissed</th>\n",
              "      <th>dismissal_kind</th>\n",
              "      <th>fielder</th>\n",
              "      <th>id</th>\n",
              "      <th>Season</th>\n",
              "    </tr>\n",
              "  </thead>\n",
              "  <tbody>\n",
              "    <tr>\n",
              "      <th>0</th>\n",
              "      <td>1</td>\n",
              "      <td>1</td>\n",
              "      <td>Sunrisers Hyderabad</td>\n",
              "      <td>Royal Challengers Bangalore</td>\n",
              "      <td>1</td>\n",
              "      <td>1</td>\n",
              "      <td>DA Warner</td>\n",
              "      <td>S Dhawan</td>\n",
              "      <td>TS Mills</td>\n",
              "      <td>0</td>\n",
              "      <td>0</td>\n",
              "      <td>0</td>\n",
              "      <td>0</td>\n",
              "      <td>0</td>\n",
              "      <td>0</td>\n",
              "      <td>0</td>\n",
              "      <td>0</td>\n",
              "      <td>0</td>\n",
              "      <td>NaN</td>\n",
              "      <td>NaN</td>\n",
              "      <td>NaN</td>\n",
              "      <td>1</td>\n",
              "      <td>IPL-2017</td>\n",
              "    </tr>\n",
              "    <tr>\n",
              "      <th>1</th>\n",
              "      <td>1</td>\n",
              "      <td>1</td>\n",
              "      <td>Sunrisers Hyderabad</td>\n",
              "      <td>Royal Challengers Bangalore</td>\n",
              "      <td>1</td>\n",
              "      <td>2</td>\n",
              "      <td>DA Warner</td>\n",
              "      <td>S Dhawan</td>\n",
              "      <td>TS Mills</td>\n",
              "      <td>0</td>\n",
              "      <td>0</td>\n",
              "      <td>0</td>\n",
              "      <td>0</td>\n",
              "      <td>0</td>\n",
              "      <td>0</td>\n",
              "      <td>0</td>\n",
              "      <td>0</td>\n",
              "      <td>0</td>\n",
              "      <td>NaN</td>\n",
              "      <td>NaN</td>\n",
              "      <td>NaN</td>\n",
              "      <td>1</td>\n",
              "      <td>IPL-2017</td>\n",
              "    </tr>\n",
              "    <tr>\n",
              "      <th>2</th>\n",
              "      <td>1</td>\n",
              "      <td>1</td>\n",
              "      <td>Sunrisers Hyderabad</td>\n",
              "      <td>Royal Challengers Bangalore</td>\n",
              "      <td>1</td>\n",
              "      <td>3</td>\n",
              "      <td>DA Warner</td>\n",
              "      <td>S Dhawan</td>\n",
              "      <td>TS Mills</td>\n",
              "      <td>0</td>\n",
              "      <td>0</td>\n",
              "      <td>0</td>\n",
              "      <td>0</td>\n",
              "      <td>0</td>\n",
              "      <td>0</td>\n",
              "      <td>4</td>\n",
              "      <td>0</td>\n",
              "      <td>4</td>\n",
              "      <td>NaN</td>\n",
              "      <td>NaN</td>\n",
              "      <td>NaN</td>\n",
              "      <td>1</td>\n",
              "      <td>IPL-2017</td>\n",
              "    </tr>\n",
              "    <tr>\n",
              "      <th>3</th>\n",
              "      <td>1</td>\n",
              "      <td>1</td>\n",
              "      <td>Sunrisers Hyderabad</td>\n",
              "      <td>Royal Challengers Bangalore</td>\n",
              "      <td>1</td>\n",
              "      <td>4</td>\n",
              "      <td>DA Warner</td>\n",
              "      <td>S Dhawan</td>\n",
              "      <td>TS Mills</td>\n",
              "      <td>0</td>\n",
              "      <td>0</td>\n",
              "      <td>0</td>\n",
              "      <td>0</td>\n",
              "      <td>0</td>\n",
              "      <td>0</td>\n",
              "      <td>0</td>\n",
              "      <td>0</td>\n",
              "      <td>0</td>\n",
              "      <td>NaN</td>\n",
              "      <td>NaN</td>\n",
              "      <td>NaN</td>\n",
              "      <td>1</td>\n",
              "      <td>IPL-2017</td>\n",
              "    </tr>\n",
              "    <tr>\n",
              "      <th>4</th>\n",
              "      <td>1</td>\n",
              "      <td>1</td>\n",
              "      <td>Sunrisers Hyderabad</td>\n",
              "      <td>Royal Challengers Bangalore</td>\n",
              "      <td>1</td>\n",
              "      <td>5</td>\n",
              "      <td>DA Warner</td>\n",
              "      <td>S Dhawan</td>\n",
              "      <td>TS Mills</td>\n",
              "      <td>0</td>\n",
              "      <td>2</td>\n",
              "      <td>0</td>\n",
              "      <td>0</td>\n",
              "      <td>0</td>\n",
              "      <td>0</td>\n",
              "      <td>0</td>\n",
              "      <td>2</td>\n",
              "      <td>2</td>\n",
              "      <td>NaN</td>\n",
              "      <td>NaN</td>\n",
              "      <td>NaN</td>\n",
              "      <td>1</td>\n",
              "      <td>IPL-2017</td>\n",
              "    </tr>\n",
              "    <tr>\n",
              "      <th>...</th>\n",
              "      <td>...</td>\n",
              "      <td>...</td>\n",
              "      <td>...</td>\n",
              "      <td>...</td>\n",
              "      <td>...</td>\n",
              "      <td>...</td>\n",
              "      <td>...</td>\n",
              "      <td>...</td>\n",
              "      <td>...</td>\n",
              "      <td>...</td>\n",
              "      <td>...</td>\n",
              "      <td>...</td>\n",
              "      <td>...</td>\n",
              "      <td>...</td>\n",
              "      <td>...</td>\n",
              "      <td>...</td>\n",
              "      <td>...</td>\n",
              "      <td>...</td>\n",
              "      <td>...</td>\n",
              "      <td>...</td>\n",
              "      <td>...</td>\n",
              "      <td>...</td>\n",
              "      <td>...</td>\n",
              "    </tr>\n",
              "    <tr>\n",
              "      <th>179073</th>\n",
              "      <td>11415</td>\n",
              "      <td>2</td>\n",
              "      <td>Chennai Super Kings</td>\n",
              "      <td>Mumbai Indians</td>\n",
              "      <td>20</td>\n",
              "      <td>2</td>\n",
              "      <td>RA Jadeja</td>\n",
              "      <td>SR Watson</td>\n",
              "      <td>SL Malinga</td>\n",
              "      <td>0</td>\n",
              "      <td>0</td>\n",
              "      <td>0</td>\n",
              "      <td>0</td>\n",
              "      <td>0</td>\n",
              "      <td>0</td>\n",
              "      <td>1</td>\n",
              "      <td>0</td>\n",
              "      <td>1</td>\n",
              "      <td>NaN</td>\n",
              "      <td>NaN</td>\n",
              "      <td>NaN</td>\n",
              "      <td>11415</td>\n",
              "      <td>IPL-2019</td>\n",
              "    </tr>\n",
              "    <tr>\n",
              "      <th>179074</th>\n",
              "      <td>11415</td>\n",
              "      <td>2</td>\n",
              "      <td>Chennai Super Kings</td>\n",
              "      <td>Mumbai Indians</td>\n",
              "      <td>20</td>\n",
              "      <td>3</td>\n",
              "      <td>SR Watson</td>\n",
              "      <td>RA Jadeja</td>\n",
              "      <td>SL Malinga</td>\n",
              "      <td>0</td>\n",
              "      <td>0</td>\n",
              "      <td>0</td>\n",
              "      <td>0</td>\n",
              "      <td>0</td>\n",
              "      <td>0</td>\n",
              "      <td>2</td>\n",
              "      <td>0</td>\n",
              "      <td>2</td>\n",
              "      <td>NaN</td>\n",
              "      <td>NaN</td>\n",
              "      <td>NaN</td>\n",
              "      <td>11415</td>\n",
              "      <td>IPL-2019</td>\n",
              "    </tr>\n",
              "    <tr>\n",
              "      <th>179075</th>\n",
              "      <td>11415</td>\n",
              "      <td>2</td>\n",
              "      <td>Chennai Super Kings</td>\n",
              "      <td>Mumbai Indians</td>\n",
              "      <td>20</td>\n",
              "      <td>4</td>\n",
              "      <td>SR Watson</td>\n",
              "      <td>RA Jadeja</td>\n",
              "      <td>SL Malinga</td>\n",
              "      <td>0</td>\n",
              "      <td>0</td>\n",
              "      <td>0</td>\n",
              "      <td>0</td>\n",
              "      <td>0</td>\n",
              "      <td>0</td>\n",
              "      <td>1</td>\n",
              "      <td>0</td>\n",
              "      <td>1</td>\n",
              "      <td>SR Watson</td>\n",
              "      <td>run out</td>\n",
              "      <td>KH Pandya</td>\n",
              "      <td>11415</td>\n",
              "      <td>IPL-2019</td>\n",
              "    </tr>\n",
              "    <tr>\n",
              "      <th>179076</th>\n",
              "      <td>11415</td>\n",
              "      <td>2</td>\n",
              "      <td>Chennai Super Kings</td>\n",
              "      <td>Mumbai Indians</td>\n",
              "      <td>20</td>\n",
              "      <td>5</td>\n",
              "      <td>SN Thakur</td>\n",
              "      <td>RA Jadeja</td>\n",
              "      <td>SL Malinga</td>\n",
              "      <td>0</td>\n",
              "      <td>0</td>\n",
              "      <td>0</td>\n",
              "      <td>0</td>\n",
              "      <td>0</td>\n",
              "      <td>0</td>\n",
              "      <td>2</td>\n",
              "      <td>0</td>\n",
              "      <td>2</td>\n",
              "      <td>NaN</td>\n",
              "      <td>NaN</td>\n",
              "      <td>NaN</td>\n",
              "      <td>11415</td>\n",
              "      <td>IPL-2019</td>\n",
              "    </tr>\n",
              "    <tr>\n",
              "      <th>179077</th>\n",
              "      <td>11415</td>\n",
              "      <td>2</td>\n",
              "      <td>Chennai Super Kings</td>\n",
              "      <td>Mumbai Indians</td>\n",
              "      <td>20</td>\n",
              "      <td>6</td>\n",
              "      <td>SN Thakur</td>\n",
              "      <td>RA Jadeja</td>\n",
              "      <td>SL Malinga</td>\n",
              "      <td>0</td>\n",
              "      <td>0</td>\n",
              "      <td>0</td>\n",
              "      <td>0</td>\n",
              "      <td>0</td>\n",
              "      <td>0</td>\n",
              "      <td>0</td>\n",
              "      <td>0</td>\n",
              "      <td>0</td>\n",
              "      <td>SN Thakur</td>\n",
              "      <td>lbw</td>\n",
              "      <td>NaN</td>\n",
              "      <td>11415</td>\n",
              "      <td>IPL-2019</td>\n",
              "    </tr>\n",
              "  </tbody>\n",
              "</table>\n",
              "<p>179078 rows × 23 columns</p>\n",
              "</div>"
            ],
            "text/plain": [
              "        match_id  inning         batting_team  ...    fielder     id    Season\n",
              "0              1       1  Sunrisers Hyderabad  ...        NaN      1  IPL-2017\n",
              "1              1       1  Sunrisers Hyderabad  ...        NaN      1  IPL-2017\n",
              "2              1       1  Sunrisers Hyderabad  ...        NaN      1  IPL-2017\n",
              "3              1       1  Sunrisers Hyderabad  ...        NaN      1  IPL-2017\n",
              "4              1       1  Sunrisers Hyderabad  ...        NaN      1  IPL-2017\n",
              "...          ...     ...                  ...  ...        ...    ...       ...\n",
              "179073     11415       2  Chennai Super Kings  ...        NaN  11415  IPL-2019\n",
              "179074     11415       2  Chennai Super Kings  ...        NaN  11415  IPL-2019\n",
              "179075     11415       2  Chennai Super Kings  ...  KH Pandya  11415  IPL-2019\n",
              "179076     11415       2  Chennai Super Kings  ...        NaN  11415  IPL-2019\n",
              "179077     11415       2  Chennai Super Kings  ...        NaN  11415  IPL-2019\n",
              "\n",
              "[179078 rows x 23 columns]"
            ]
          },
          "metadata": {
            "tags": []
          },
          "execution_count": 16
        }
      ]
    },
    {
      "cell_type": "code",
      "metadata": {
        "colab": {
          "base_uri": "https://localhost:8080/"
        },
        "id": "7ziZIW2TOXZ9",
        "outputId": "ff8f674d-a919-4861-cc4e-eb7a7bb7ab08"
      },
      "source": [
        "new_deliveries_df.info()"
      ],
      "execution_count": 17,
      "outputs": [
        {
          "output_type": "stream",
          "text": [
            "<class 'pandas.core.frame.DataFrame'>\n",
            "Int64Index: 179078 entries, 0 to 179077\n",
            "Data columns (total 23 columns):\n",
            " #   Column            Non-Null Count   Dtype \n",
            "---  ------            --------------   ----- \n",
            " 0   match_id          179078 non-null  int64 \n",
            " 1   inning            179078 non-null  int64 \n",
            " 2   batting_team      179078 non-null  object\n",
            " 3   bowling_team      179078 non-null  object\n",
            " 4   over              179078 non-null  int64 \n",
            " 5   ball              179078 non-null  int64 \n",
            " 6   batsman           179078 non-null  object\n",
            " 7   non_striker       179078 non-null  object\n",
            " 8   bowler            179078 non-null  object\n",
            " 9   is_super_over     179078 non-null  int64 \n",
            " 10  wide_runs         179078 non-null  int64 \n",
            " 11  bye_runs          179078 non-null  int64 \n",
            " 12  legbye_runs       179078 non-null  int64 \n",
            " 13  noball_runs       179078 non-null  int64 \n",
            " 14  penalty_runs      179078 non-null  int64 \n",
            " 15  batsman_runs      179078 non-null  int64 \n",
            " 16  extra_runs        179078 non-null  int64 \n",
            " 17  total_runs        179078 non-null  int64 \n",
            " 18  player_dismissed  8834 non-null    object\n",
            " 19  dismissal_kind    8834 non-null    object\n",
            " 20  fielder           6448 non-null    object\n",
            " 21  id                179078 non-null  int64 \n",
            " 22  Season            179078 non-null  object\n",
            "dtypes: int64(14), object(9)\n",
            "memory usage: 32.8+ MB\n"
          ],
          "name": "stdout"
        }
      ]
    },
    {
      "cell_type": "markdown",
      "metadata": {
        "id": "__vbR1HXP96t"
      },
      "source": [
        "Now we can use group by function get deliveries bowled in each ipl season"
      ]
    },
    {
      "cell_type": "code",
      "metadata": {
        "id": "APMGPh6_OXTd"
      },
      "source": [
        "ipl_season = new_deliveries_df.groupby(\"Season\")"
      ],
      "execution_count": 18,
      "outputs": []
    },
    {
      "cell_type": "markdown",
      "metadata": {
        "id": "cGBFNIlrQoIV"
      },
      "source": [
        "Lets make a Function which takes ipl season as argument and return orange cap holder of that Seasonr"
      ]
    },
    {
      "cell_type": "code",
      "metadata": {
        "id": "KnEnqKtHQ_b-"
      },
      "source": [
        "def get_orange_cap(season):\r\n",
        "  season = season.upper()\r\n",
        "  s= ipl_season.get_group(season)\r\n",
        "  max_runs = s.groupby([\"batsman\"])[\"batsman_runs\"].sum().sort_values(ascending =False).reset_index()\r\n",
        "  # print(max_runs)\r\n",
        "  # print(s)\r\n",
        "  top_scores= max_runs.loc[0,\"batsman\"]\r\n",
        "  runs = max_runs.loc[0,\"batsman_runs\"]\r\n",
        "  team_name = s[s[\"batsman\"]==top_scores][\"batting_team\"][0]\r\n",
        "  print(team_name)\r\n",
        "  "
      ],
      "execution_count": 19,
      "outputs": []
    },
    {
      "cell_type": "code",
      "metadata": {
        "colab": {
          "base_uri": "https://localhost:8080/"
        },
        "id": "Om8fYMCCRNNK",
        "outputId": "8892220b-f9d0-48a7-e930-060a2108f58a"
      },
      "source": [
        "get_orange_cap(\"IPL-2017\")"
      ],
      "execution_count": 20,
      "outputs": [
        {
          "output_type": "stream",
          "text": [
            "Sunrisers Hyderabad\n"
          ],
          "name": "stdout"
        }
      ]
    },
    {
      "cell_type": "markdown",
      "metadata": {
        "id": "WkpBfOqnY34r"
      },
      "source": [
        "We can also find the top scorer in each season by using group by function\r\n"
      ]
    },
    {
      "cell_type": "code",
      "metadata": {
        "id": "i53Pf7XHRKGz"
      },
      "source": [
        "# lets make a empty list which will be helpfull in making dataframe\r\n",
        "orange_cap =[]\r\n",
        "\r\n",
        "# Group by objects can be itaterd to get the datframe of each groupby\r\n",
        "\r\n",
        "for season ,season_df in ipl_season:\r\n",
        "  # season represent the name by which of group by has been done\r\n",
        "  # season_df will give dataframe object with respect to that name\r\n",
        "\r\n",
        "  # we are again performing group by on the season dataframe to group this datframe with batsman \r\n",
        "  max_runs = season_df.groupby([\"batsman\"])[\"batsman_runs\"].sum().sort_values(ascending =False).reset_index()\r\n",
        "  # print(season)\r\n",
        "  # print(max_runs)\r\n",
        "  \r\n",
        "  # find the top scorer from the recent created datframe\r\n",
        "  top_scores= max_runs.loc[0,\"batsman\"]\r\n",
        "\r\n",
        "  # sruns scored by that batsman\r\n",
        "  runs = max_runs.loc[0,\"batsman_runs\"]\r\n",
        "\r\n",
        "  # we also found the team which he belongs to\r\n",
        "  team_name = season_df[season_df[\"batsman\"]==top_scores][\"batting_team\"].iloc[0]\r\n",
        "  # print(team_name)\r\n",
        "\r\n",
        "  # then we store all this data in dictionary\r\n",
        "  dict_ ={\"season\":season,\"Team\":team_name,\"Batsman\":top_scores,\"Runs\":runs}\r\n",
        "\r\n",
        "  # now we append this dictinary in the list\r\n",
        "  orange_cap.append(dict_)\r\n",
        "    # now oarnge cap list conatain dictinaries\r\n",
        "\r\n"
      ],
      "execution_count": 21,
      "outputs": []
    },
    {
      "cell_type": "markdown",
      "metadata": {
        "id": "LRlsJy8GafWo"
      },
      "source": [
        "**Now we have created a dataframe  with the us eof list, which contain highest run getter from all season**"
      ]
    },
    {
      "cell_type": "code",
      "metadata": {
        "colab": {
          "base_uri": "https://localhost:8080/",
          "height": 292
        },
        "id": "MJ9zhvQFZ83N",
        "outputId": "f4747530-1763-45e5-a41a-f88af878ac12"
      },
      "source": [
        "# makinhg dataframe from list\r\n",
        "orange_cap_df = pd.DataFrame(orange_cap)\r\n",
        "\r\n",
        "# using background gradient to color on basis of highest values \r\n",
        "orange_cap_df.style.background_gradient(cmap=\"Blues\")"
      ],
      "execution_count": 22,
      "outputs": [
        {
          "output_type": "execute_result",
          "data": {
            "text/html": [
              "<style  type=\"text/css\" >\n",
              "#T_4ceceb2e_78d3_11eb_88ec_0242ac1c0002row0_col3{\n",
              "            background-color:  #ddeaf7;\n",
              "            color:  #000000;\n",
              "        }#T_4ceceb2e_78d3_11eb_88ec_0242ac1c0002row1_col3{\n",
              "            background-color:  #f2f8fd;\n",
              "            color:  #000000;\n",
              "        }#T_4ceceb2e_78d3_11eb_88ec_0242ac1c0002row2_col3{\n",
              "            background-color:  #dceaf6;\n",
              "            color:  #000000;\n",
              "        }#T_4ceceb2e_78d3_11eb_88ec_0242ac1c0002row3_col3{\n",
              "            background-color:  #e1edf8;\n",
              "            color:  #000000;\n",
              "        }#T_4ceceb2e_78d3_11eb_88ec_0242ac1c0002row4_col3,#T_4ceceb2e_78d3_11eb_88ec_0242ac1c0002row5_col3{\n",
              "            background-color:  #8dc1dd;\n",
              "            color:  #000000;\n",
              "        }#T_4ceceb2e_78d3_11eb_88ec_0242ac1c0002row6_col3{\n",
              "            background-color:  #c8dcf0;\n",
              "            color:  #000000;\n",
              "        }#T_4ceceb2e_78d3_11eb_88ec_0242ac1c0002row7_col3{\n",
              "            background-color:  #f7fbff;\n",
              "            color:  #000000;\n",
              "        }#T_4ceceb2e_78d3_11eb_88ec_0242ac1c0002row8_col3{\n",
              "            background-color:  #08306b;\n",
              "            color:  #f1f1f1;\n",
              "        }#T_4ceceb2e_78d3_11eb_88ec_0242ac1c0002row9_col3{\n",
              "            background-color:  #d1e2f3;\n",
              "            color:  #000000;\n",
              "        }#T_4ceceb2e_78d3_11eb_88ec_0242ac1c0002row10_col3{\n",
              "            background-color:  #7fb9da;\n",
              "            color:  #000000;\n",
              "        }#T_4ceceb2e_78d3_11eb_88ec_0242ac1c0002row11_col3{\n",
              "            background-color:  #94c4df;\n",
              "            color:  #000000;\n",
              "        }</style><table id=\"T_4ceceb2e_78d3_11eb_88ec_0242ac1c0002\" ><thead>    <tr>        <th class=\"blank level0\" ></th>        <th class=\"col_heading level0 col0\" >season</th>        <th class=\"col_heading level0 col1\" >Team</th>        <th class=\"col_heading level0 col2\" >Batsman</th>        <th class=\"col_heading level0 col3\" >Runs</th>    </tr></thead><tbody>\n",
              "                <tr>\n",
              "                        <th id=\"T_4ceceb2e_78d3_11eb_88ec_0242ac1c0002level0_row0\" class=\"row_heading level0 row0\" >0</th>\n",
              "                        <td id=\"T_4ceceb2e_78d3_11eb_88ec_0242ac1c0002row0_col0\" class=\"data row0 col0\" >IPL-2008</td>\n",
              "                        <td id=\"T_4ceceb2e_78d3_11eb_88ec_0242ac1c0002row0_col1\" class=\"data row0 col1\" >Kings XI Punjab</td>\n",
              "                        <td id=\"T_4ceceb2e_78d3_11eb_88ec_0242ac1c0002row0_col2\" class=\"data row0 col2\" >SE Marsh</td>\n",
              "                        <td id=\"T_4ceceb2e_78d3_11eb_88ec_0242ac1c0002row0_col3\" class=\"data row0 col3\" >616</td>\n",
              "            </tr>\n",
              "            <tr>\n",
              "                        <th id=\"T_4ceceb2e_78d3_11eb_88ec_0242ac1c0002level0_row1\" class=\"row_heading level0 row1\" >1</th>\n",
              "                        <td id=\"T_4ceceb2e_78d3_11eb_88ec_0242ac1c0002row1_col0\" class=\"data row1 col0\" >IPL-2009</td>\n",
              "                        <td id=\"T_4ceceb2e_78d3_11eb_88ec_0242ac1c0002row1_col1\" class=\"data row1 col1\" >Chennai Super Kings</td>\n",
              "                        <td id=\"T_4ceceb2e_78d3_11eb_88ec_0242ac1c0002row1_col2\" class=\"data row1 col2\" >ML Hayden</td>\n",
              "                        <td id=\"T_4ceceb2e_78d3_11eb_88ec_0242ac1c0002row1_col3\" class=\"data row1 col3\" >572</td>\n",
              "            </tr>\n",
              "            <tr>\n",
              "                        <th id=\"T_4ceceb2e_78d3_11eb_88ec_0242ac1c0002level0_row2\" class=\"row_heading level0 row2\" >2</th>\n",
              "                        <td id=\"T_4ceceb2e_78d3_11eb_88ec_0242ac1c0002row2_col0\" class=\"data row2 col0\" >IPL-2010</td>\n",
              "                        <td id=\"T_4ceceb2e_78d3_11eb_88ec_0242ac1c0002row2_col1\" class=\"data row2 col1\" >Mumbai Indians</td>\n",
              "                        <td id=\"T_4ceceb2e_78d3_11eb_88ec_0242ac1c0002row2_col2\" class=\"data row2 col2\" >SR Tendulkar</td>\n",
              "                        <td id=\"T_4ceceb2e_78d3_11eb_88ec_0242ac1c0002row2_col3\" class=\"data row2 col3\" >618</td>\n",
              "            </tr>\n",
              "            <tr>\n",
              "                        <th id=\"T_4ceceb2e_78d3_11eb_88ec_0242ac1c0002level0_row3\" class=\"row_heading level0 row3\" >3</th>\n",
              "                        <td id=\"T_4ceceb2e_78d3_11eb_88ec_0242ac1c0002row3_col0\" class=\"data row3 col0\" >IPL-2011</td>\n",
              "                        <td id=\"T_4ceceb2e_78d3_11eb_88ec_0242ac1c0002row3_col1\" class=\"data row3 col1\" >Royal Challengers Bangalore</td>\n",
              "                        <td id=\"T_4ceceb2e_78d3_11eb_88ec_0242ac1c0002row3_col2\" class=\"data row3 col2\" >CH Gayle</td>\n",
              "                        <td id=\"T_4ceceb2e_78d3_11eb_88ec_0242ac1c0002row3_col3\" class=\"data row3 col3\" >608</td>\n",
              "            </tr>\n",
              "            <tr>\n",
              "                        <th id=\"T_4ceceb2e_78d3_11eb_88ec_0242ac1c0002level0_row4\" class=\"row_heading level0 row4\" >4</th>\n",
              "                        <td id=\"T_4ceceb2e_78d3_11eb_88ec_0242ac1c0002row4_col0\" class=\"data row4 col0\" >IPL-2012</td>\n",
              "                        <td id=\"T_4ceceb2e_78d3_11eb_88ec_0242ac1c0002row4_col1\" class=\"data row4 col1\" >Royal Challengers Bangalore</td>\n",
              "                        <td id=\"T_4ceceb2e_78d3_11eb_88ec_0242ac1c0002row4_col2\" class=\"data row4 col2\" >CH Gayle</td>\n",
              "                        <td id=\"T_4ceceb2e_78d3_11eb_88ec_0242ac1c0002row4_col3\" class=\"data row4 col3\" >733</td>\n",
              "            </tr>\n",
              "            <tr>\n",
              "                        <th id=\"T_4ceceb2e_78d3_11eb_88ec_0242ac1c0002level0_row5\" class=\"row_heading level0 row5\" >5</th>\n",
              "                        <td id=\"T_4ceceb2e_78d3_11eb_88ec_0242ac1c0002row5_col0\" class=\"data row5 col0\" >IPL-2013</td>\n",
              "                        <td id=\"T_4ceceb2e_78d3_11eb_88ec_0242ac1c0002row5_col1\" class=\"data row5 col1\" >Chennai Super Kings</td>\n",
              "                        <td id=\"T_4ceceb2e_78d3_11eb_88ec_0242ac1c0002row5_col2\" class=\"data row5 col2\" >MEK Hussey</td>\n",
              "                        <td id=\"T_4ceceb2e_78d3_11eb_88ec_0242ac1c0002row5_col3\" class=\"data row5 col3\" >733</td>\n",
              "            </tr>\n",
              "            <tr>\n",
              "                        <th id=\"T_4ceceb2e_78d3_11eb_88ec_0242ac1c0002level0_row6\" class=\"row_heading level0 row6\" >6</th>\n",
              "                        <td id=\"T_4ceceb2e_78d3_11eb_88ec_0242ac1c0002row6_col0\" class=\"data row6 col0\" >IPL-2014</td>\n",
              "                        <td id=\"T_4ceceb2e_78d3_11eb_88ec_0242ac1c0002row6_col1\" class=\"data row6 col1\" >Kolkata Knight Riders</td>\n",
              "                        <td id=\"T_4ceceb2e_78d3_11eb_88ec_0242ac1c0002row6_col2\" class=\"data row6 col2\" >RV Uthappa</td>\n",
              "                        <td id=\"T_4ceceb2e_78d3_11eb_88ec_0242ac1c0002row6_col3\" class=\"data row6 col3\" >660</td>\n",
              "            </tr>\n",
              "            <tr>\n",
              "                        <th id=\"T_4ceceb2e_78d3_11eb_88ec_0242ac1c0002level0_row7\" class=\"row_heading level0 row7\" >7</th>\n",
              "                        <td id=\"T_4ceceb2e_78d3_11eb_88ec_0242ac1c0002row7_col0\" class=\"data row7 col0\" >IPL-2015</td>\n",
              "                        <td id=\"T_4ceceb2e_78d3_11eb_88ec_0242ac1c0002row7_col1\" class=\"data row7 col1\" >Sunrisers Hyderabad</td>\n",
              "                        <td id=\"T_4ceceb2e_78d3_11eb_88ec_0242ac1c0002row7_col2\" class=\"data row7 col2\" >DA Warner</td>\n",
              "                        <td id=\"T_4ceceb2e_78d3_11eb_88ec_0242ac1c0002row7_col3\" class=\"data row7 col3\" >562</td>\n",
              "            </tr>\n",
              "            <tr>\n",
              "                        <th id=\"T_4ceceb2e_78d3_11eb_88ec_0242ac1c0002level0_row8\" class=\"row_heading level0 row8\" >8</th>\n",
              "                        <td id=\"T_4ceceb2e_78d3_11eb_88ec_0242ac1c0002row8_col0\" class=\"data row8 col0\" >IPL-2016</td>\n",
              "                        <td id=\"T_4ceceb2e_78d3_11eb_88ec_0242ac1c0002row8_col1\" class=\"data row8 col1\" >Royal Challengers Bangalore</td>\n",
              "                        <td id=\"T_4ceceb2e_78d3_11eb_88ec_0242ac1c0002row8_col2\" class=\"data row8 col2\" >V Kohli</td>\n",
              "                        <td id=\"T_4ceceb2e_78d3_11eb_88ec_0242ac1c0002row8_col3\" class=\"data row8 col3\" >973</td>\n",
              "            </tr>\n",
              "            <tr>\n",
              "                        <th id=\"T_4ceceb2e_78d3_11eb_88ec_0242ac1c0002level0_row9\" class=\"row_heading level0 row9\" >9</th>\n",
              "                        <td id=\"T_4ceceb2e_78d3_11eb_88ec_0242ac1c0002row9_col0\" class=\"data row9 col0\" >IPL-2017</td>\n",
              "                        <td id=\"T_4ceceb2e_78d3_11eb_88ec_0242ac1c0002row9_col1\" class=\"data row9 col1\" >Sunrisers Hyderabad</td>\n",
              "                        <td id=\"T_4ceceb2e_78d3_11eb_88ec_0242ac1c0002row9_col2\" class=\"data row9 col2\" >DA Warner</td>\n",
              "                        <td id=\"T_4ceceb2e_78d3_11eb_88ec_0242ac1c0002row9_col3\" class=\"data row9 col3\" >641</td>\n",
              "            </tr>\n",
              "            <tr>\n",
              "                        <th id=\"T_4ceceb2e_78d3_11eb_88ec_0242ac1c0002level0_row10\" class=\"row_heading level0 row10\" >10</th>\n",
              "                        <td id=\"T_4ceceb2e_78d3_11eb_88ec_0242ac1c0002row10_col0\" class=\"data row10 col0\" >IPL-2018</td>\n",
              "                        <td id=\"T_4ceceb2e_78d3_11eb_88ec_0242ac1c0002row10_col1\" class=\"data row10 col1\" >Sunrisers Hyderabad</td>\n",
              "                        <td id=\"T_4ceceb2e_78d3_11eb_88ec_0242ac1c0002row10_col2\" class=\"data row10 col2\" >KS Williamson</td>\n",
              "                        <td id=\"T_4ceceb2e_78d3_11eb_88ec_0242ac1c0002row10_col3\" class=\"data row10 col3\" >747</td>\n",
              "            </tr>\n",
              "            <tr>\n",
              "                        <th id=\"T_4ceceb2e_78d3_11eb_88ec_0242ac1c0002level0_row11\" class=\"row_heading level0 row11\" >11</th>\n",
              "                        <td id=\"T_4ceceb2e_78d3_11eb_88ec_0242ac1c0002row11_col0\" class=\"data row11 col0\" >IPL-2019</td>\n",
              "                        <td id=\"T_4ceceb2e_78d3_11eb_88ec_0242ac1c0002row11_col1\" class=\"data row11 col1\" >Sunrisers Hyderabad</td>\n",
              "                        <td id=\"T_4ceceb2e_78d3_11eb_88ec_0242ac1c0002row11_col2\" class=\"data row11 col2\" >DA Warner</td>\n",
              "                        <td id=\"T_4ceceb2e_78d3_11eb_88ec_0242ac1c0002row11_col3\" class=\"data row11 col3\" >727</td>\n",
              "            </tr>\n",
              "    </tbody></table>"
            ],
            "text/plain": [
              "<pandas.io.formats.style.Styler at 0x7f16cd5f2050>"
            ]
          },
          "metadata": {
            "tags": []
          },
          "execution_count": 22
        }
      ]
    },
    {
      "cell_type": "markdown",
      "metadata": {
        "id": "GLlUdOZhWHAG"
      },
      "source": [
        "**Now by ploting the scatter gragh we can see which team has maximum orange cap holder**"
      ]
    },
    {
      "cell_type": "code",
      "metadata": {
        "colab": {
          "base_uri": "https://localhost:8080/",
          "height": 623
        },
        "id": "hz1yIhHNLO8N",
        "outputId": "e372ea54-d057-4739-f410-f19c1ffd4192"
      },
      "source": [
        "# use rcParam to fix the size of the plot\r\n",
        "plt.rcParams['figure.figsize']= (15,10)\r\n",
        "sns.set_style(\"darkgrid\")\r\n",
        "\r\n",
        "# used scattered plot to plot to plot the data with the use of hue and style\r\n",
        "sns.scatterplot(data=orange_cap_df,x=\"season\",y=\"Runs\",hue =\"Batsman\",s=200,style=\"Team\")\r\n",
        "\r\n"
      ],
      "execution_count": 131,
      "outputs": [
        {
          "output_type": "execute_result",
          "data": {
            "text/plain": [
              "<matplotlib.axes._subplots.AxesSubplot at 0x7f16bc911790>"
            ]
          },
          "metadata": {
            "tags": []
          },
          "execution_count": 131
        },
        {
          "output_type": "display_data",
          "data": {
            "image/png": "[encoded data removed]",
            "text/plain": [
              "<Figure size 1080x720 with 1 Axes>"
            ]
          },
          "metadata": {
            "tags": []
          }
        }
      ]
    },
    {
      "cell_type": "markdown",
      "metadata": {
        "id": "MuxTq_5xNDq4"
      },
      "source": [
        "*ohhh by looking in the graph we can see that Sunriser Hyderabad is consistently  having the highest scorer in their team from last 3 IPL season*"
      ]
    },
    {
      "cell_type": "code",
      "metadata": {
        "id": "Lsz7ypl3OQDA"
      },
      "source": [
        ""
      ],
      "execution_count": 23,
      "outputs": []
    },
    {
      "cell_type": "code",
      "metadata": {
        "id": "Nuc-sYwBOP9e"
      },
      "source": [
        ""
      ],
      "execution_count": 23,
      "outputs": []
    },
    {
      "cell_type": "code",
      "metadata": {
        "id": "VuAU6ISjOP40"
      },
      "source": [
        ""
      ],
      "execution_count": 23,
      "outputs": []
    },
    {
      "cell_type": "code",
      "metadata": {
        "id": "43s880CiOPvH"
      },
      "source": [
        ""
      ],
      "execution_count": 23,
      "outputs": []
    },
    {
      "cell_type": "markdown",
      "metadata": {
        "id": "IAMSLlJzvyA_"
      },
      "source": [
        "**Lets explore this data more  and find out how overs play a crucial role in T20**"
      ]
    },
    {
      "cell_type": "code",
      "metadata": {
        "id": "0Cl1riBa3k_3"
      },
      "source": [
        "#creating a function which will return a flaot value of wicket which can be usefull for us\r\n",
        "def get_wicket(dismisal):\r\n",
        "  if dismisal  :\r\n",
        "    return 1\r\n",
        " \r\n"
      ],
      "execution_count": 24,
      "outputs": []
    },
    {
      "cell_type": "code",
      "metadata": {
        "colab": {
          "base_uri": "https://localhost:8080/",
          "height": 199
        },
        "id": "lRzNIoI44WPT",
        "outputId": "ba6d3772-7700-4d0b-8152-7d1cf6566d62"
      },
      "source": [
        "deliveries_df[\"wicket\"] = deliveries_df[~deliveries_df['player_dismissed'].isna()][\"player_dismissed\"].apply(get_wicket)\r\n",
        "deliveries_df[~deliveries_df[\"wicket\"].isna()].head(2)"
      ],
      "execution_count": 25,
      "outputs": [
        {
          "output_type": "execute_result",
          "data": {
            "text/html": [
              "<div>\n",
              "<style scoped>\n",
              "    .dataframe tbody tr th:only-of-type {\n",
              "        vertical-align: middle;\n",
              "    }\n",
              "\n",
              "    .dataframe tbody tr th {\n",
              "        vertical-align: top;\n",
              "    }\n",
              "\n",
              "    .dataframe thead th {\n",
              "        text-align: right;\n",
              "    }\n",
              "</style>\n",
              "<table border=\"1\" class=\"dataframe\">\n",
              "  <thead>\n",
              "    <tr style=\"text-align: right;\">\n",
              "      <th></th>\n",
              "      <th>match_id</th>\n",
              "      <th>inning</th>\n",
              "      <th>batting_team</th>\n",
              "      <th>bowling_team</th>\n",
              "      <th>over</th>\n",
              "      <th>ball</th>\n",
              "      <th>batsman</th>\n",
              "      <th>non_striker</th>\n",
              "      <th>bowler</th>\n",
              "      <th>is_super_over</th>\n",
              "      <th>wide_runs</th>\n",
              "      <th>bye_runs</th>\n",
              "      <th>legbye_runs</th>\n",
              "      <th>noball_runs</th>\n",
              "      <th>penalty_runs</th>\n",
              "      <th>batsman_runs</th>\n",
              "      <th>extra_runs</th>\n",
              "      <th>total_runs</th>\n",
              "      <th>player_dismissed</th>\n",
              "      <th>dismissal_kind</th>\n",
              "      <th>fielder</th>\n",
              "      <th>wicket</th>\n",
              "    </tr>\n",
              "  </thead>\n",
              "  <tbody>\n",
              "    <tr>\n",
              "      <th>11</th>\n",
              "      <td>1</td>\n",
              "      <td>1</td>\n",
              "      <td>Sunrisers Hyderabad</td>\n",
              "      <td>Royal Challengers Bangalore</td>\n",
              "      <td>2</td>\n",
              "      <td>5</td>\n",
              "      <td>DA Warner</td>\n",
              "      <td>S Dhawan</td>\n",
              "      <td>A Choudhary</td>\n",
              "      <td>0</td>\n",
              "      <td>0</td>\n",
              "      <td>0</td>\n",
              "      <td>0</td>\n",
              "      <td>0</td>\n",
              "      <td>0</td>\n",
              "      <td>0</td>\n",
              "      <td>0</td>\n",
              "      <td>0</td>\n",
              "      <td>DA Warner</td>\n",
              "      <td>caught</td>\n",
              "      <td>Mandeep Singh</td>\n",
              "      <td>1.0</td>\n",
              "    </tr>\n",
              "    <tr>\n",
              "      <th>64</th>\n",
              "      <td>1</td>\n",
              "      <td>1</td>\n",
              "      <td>Sunrisers Hyderabad</td>\n",
              "      <td>Royal Challengers Bangalore</td>\n",
              "      <td>11</td>\n",
              "      <td>3</td>\n",
              "      <td>S Dhawan</td>\n",
              "      <td>MC Henriques</td>\n",
              "      <td>STR Binny</td>\n",
              "      <td>0</td>\n",
              "      <td>0</td>\n",
              "      <td>0</td>\n",
              "      <td>0</td>\n",
              "      <td>0</td>\n",
              "      <td>0</td>\n",
              "      <td>0</td>\n",
              "      <td>0</td>\n",
              "      <td>0</td>\n",
              "      <td>S Dhawan</td>\n",
              "      <td>caught</td>\n",
              "      <td>Sachin Baby</td>\n",
              "      <td>1.0</td>\n",
              "    </tr>\n",
              "  </tbody>\n",
              "</table>\n",
              "</div>"
            ],
            "text/plain": [
              "    match_id  inning         batting_team  ... dismissal_kind        fielder  wicket\n",
              "11         1       1  Sunrisers Hyderabad  ...         caught  Mandeep Singh     1.0\n",
              "64         1       1  Sunrisers Hyderabad  ...         caught    Sachin Baby     1.0\n",
              "\n",
              "[2 rows x 22 columns]"
            ]
          },
          "metadata": {
            "tags": []
          },
          "execution_count": 25
        }
      ]
    },
    {
      "cell_type": "code",
      "metadata": {
        "colab": {
          "base_uri": "https://localhost:8080/",
          "height": 165
        },
        "id": "g3zYJB1U8KIA",
        "outputId": "8b6238d5-067c-4f15-c9af-209987f425e7"
      },
      "source": [
        "\r\n",
        "\r\n",
        "deliveries_df[deliveries_df['is_super_over']!=0].tail(2)\r\n",
        "# by exploring we find out it will have only one over which is bowled that will create wrong information about the data"
      ],
      "execution_count": 26,
      "outputs": [
        {
          "output_type": "execute_result",
          "data": {
            "text/html": [
              "<div>\n",
              "<style scoped>\n",
              "    .dataframe tbody tr th:only-of-type {\n",
              "        vertical-align: middle;\n",
              "    }\n",
              "\n",
              "    .dataframe tbody tr th {\n",
              "        vertical-align: top;\n",
              "    }\n",
              "\n",
              "    .dataframe thead th {\n",
              "        text-align: right;\n",
              "    }\n",
              "</style>\n",
              "<table border=\"1\" class=\"dataframe\">\n",
              "  <thead>\n",
              "    <tr style=\"text-align: right;\">\n",
              "      <th></th>\n",
              "      <th>match_id</th>\n",
              "      <th>inning</th>\n",
              "      <th>batting_team</th>\n",
              "      <th>bowling_team</th>\n",
              "      <th>over</th>\n",
              "      <th>ball</th>\n",
              "      <th>batsman</th>\n",
              "      <th>non_striker</th>\n",
              "      <th>bowler</th>\n",
              "      <th>is_super_over</th>\n",
              "      <th>wide_runs</th>\n",
              "      <th>bye_runs</th>\n",
              "      <th>legbye_runs</th>\n",
              "      <th>noball_runs</th>\n",
              "      <th>penalty_runs</th>\n",
              "      <th>batsman_runs</th>\n",
              "      <th>extra_runs</th>\n",
              "      <th>total_runs</th>\n",
              "      <th>player_dismissed</th>\n",
              "      <th>dismissal_kind</th>\n",
              "      <th>fielder</th>\n",
              "      <th>wicket</th>\n",
              "    </tr>\n",
              "  </thead>\n",
              "  <tbody>\n",
              "    <tr>\n",
              "      <th>127368</th>\n",
              "      <td>536</td>\n",
              "      <td>4</td>\n",
              "      <td>Rajasthan Royals</td>\n",
              "      <td>Kings XI Punjab</td>\n",
              "      <td>1</td>\n",
              "      <td>3</td>\n",
              "      <td>SPD Smith</td>\n",
              "      <td>JP Faulkner</td>\n",
              "      <td>MG Johnson</td>\n",
              "      <td>1</td>\n",
              "      <td>0</td>\n",
              "      <td>0</td>\n",
              "      <td>0</td>\n",
              "      <td>0</td>\n",
              "      <td>0</td>\n",
              "      <td>1</td>\n",
              "      <td>0</td>\n",
              "      <td>1</td>\n",
              "      <td>NaN</td>\n",
              "      <td>NaN</td>\n",
              "      <td>NaN</td>\n",
              "      <td>NaN</td>\n",
              "    </tr>\n",
              "    <tr>\n",
              "      <th>127369</th>\n",
              "      <td>536</td>\n",
              "      <td>4</td>\n",
              "      <td>Rajasthan Royals</td>\n",
              "      <td>Kings XI Punjab</td>\n",
              "      <td>1</td>\n",
              "      <td>4</td>\n",
              "      <td>JP Faulkner</td>\n",
              "      <td>SPD Smith</td>\n",
              "      <td>MG Johnson</td>\n",
              "      <td>1</td>\n",
              "      <td>0</td>\n",
              "      <td>0</td>\n",
              "      <td>0</td>\n",
              "      <td>0</td>\n",
              "      <td>0</td>\n",
              "      <td>0</td>\n",
              "      <td>0</td>\n",
              "      <td>0</td>\n",
              "      <td>JP Faulkner</td>\n",
              "      <td>run out</td>\n",
              "      <td>NaN</td>\n",
              "      <td>1.0</td>\n",
              "    </tr>\n",
              "  </tbody>\n",
              "</table>\n",
              "</div>"
            ],
            "text/plain": [
              "        match_id  inning      batting_team  ... dismissal_kind  fielder  wicket\n",
              "127368       536       4  Rajasthan Royals  ...            NaN      NaN     NaN\n",
              "127369       536       4  Rajasthan Royals  ...        run out      NaN     1.0\n",
              "\n",
              "[2 rows x 22 columns]"
            ]
          },
          "metadata": {
            "tags": []
          },
          "execution_count": 26
        }
      ]
    },
    {
      "cell_type": "code",
      "metadata": {
        "colab": {
          "base_uri": "https://localhost:8080/",
          "height": 669
        },
        "id": "C_cwUN-C6ppw",
        "outputId": "6787a1dd-0726-4fe4-e9c9-619ce4087682"
      },
      "source": [
        "# we are going to remove the data of superover as we are more focused on matches overs\r\n",
        "wicketper_over_df_1 = deliveries_df.groupby(\"over\").sum().reset_index()\r\n",
        "wicketper_over_df_1"
      ],
      "execution_count": 73,
      "outputs": [
        {
          "output_type": "execute_result",
          "data": {
            "text/html": [
              "<div>\n",
              "<style scoped>\n",
              "    .dataframe tbody tr th:only-of-type {\n",
              "        vertical-align: middle;\n",
              "    }\n",
              "\n",
              "    .dataframe tbody tr th {\n",
              "        vertical-align: top;\n",
              "    }\n",
              "\n",
              "    .dataframe thead th {\n",
              "        text-align: right;\n",
              "    }\n",
              "</style>\n",
              "<table border=\"1\" class=\"dataframe\">\n",
              "  <thead>\n",
              "    <tr style=\"text-align: right;\">\n",
              "      <th></th>\n",
              "      <th>over</th>\n",
              "      <th>match_id</th>\n",
              "      <th>inning</th>\n",
              "      <th>ball</th>\n",
              "      <th>is_super_over</th>\n",
              "      <th>wide_runs</th>\n",
              "      <th>bye_runs</th>\n",
              "      <th>legbye_runs</th>\n",
              "      <th>noball_runs</th>\n",
              "      <th>penalty_runs</th>\n",
              "      <th>batsman_runs</th>\n",
              "      <th>extra_runs</th>\n",
              "      <th>total_runs</th>\n",
              "      <th>wicket</th>\n",
              "    </tr>\n",
              "  </thead>\n",
              "  <tbody>\n",
              "    <tr>\n",
              "      <th>0</th>\n",
              "      <td>1</td>\n",
              "      <td>17111970</td>\n",
              "      <td>14598</td>\n",
              "      <td>35259</td>\n",
              "      <td>81</td>\n",
              "      <td>539</td>\n",
              "      <td>52</td>\n",
              "      <td>248</td>\n",
              "      <td>32</td>\n",
              "      <td>0</td>\n",
              "      <td>8535</td>\n",
              "      <td>871</td>\n",
              "      <td>9406</td>\n",
              "      <td>306.0</td>\n",
              "    </tr>\n",
              "    <tr>\n",
              "      <th>1</th>\n",
              "      <td>2</td>\n",
              "      <td>16735202</td>\n",
              "      <td>14248</td>\n",
              "      <td>34880</td>\n",
              "      <td>0</td>\n",
              "      <td>489</td>\n",
              "      <td>40</td>\n",
              "      <td>262</td>\n",
              "      <td>32</td>\n",
              "      <td>0</td>\n",
              "      <td>10139</td>\n",
              "      <td>823</td>\n",
              "      <td>10962</td>\n",
              "      <td>350.0</td>\n",
              "    </tr>\n",
              "    <tr>\n",
              "      <th>2</th>\n",
              "      <td>3</td>\n",
              "      <td>16764234</td>\n",
              "      <td>14122</td>\n",
              "      <td>34273</td>\n",
              "      <td>0</td>\n",
              "      <td>392</td>\n",
              "      <td>42</td>\n",
              "      <td>231</td>\n",
              "      <td>40</td>\n",
              "      <td>0</td>\n",
              "      <td>11413</td>\n",
              "      <td>705</td>\n",
              "      <td>12118</td>\n",
              "      <td>371.0</td>\n",
              "    </tr>\n",
              "    <tr>\n",
              "      <th>3</th>\n",
              "      <td>4</td>\n",
              "      <td>16678664</td>\n",
              "      <td>14062</td>\n",
              "      <td>34004</td>\n",
              "      <td>0</td>\n",
              "      <td>340</td>\n",
              "      <td>22</td>\n",
              "      <td>230</td>\n",
              "      <td>46</td>\n",
              "      <td>0</td>\n",
              "      <td>11769</td>\n",
              "      <td>638</td>\n",
              "      <td>12407</td>\n",
              "      <td>385.0</td>\n",
              "    </tr>\n",
              "    <tr>\n",
              "      <th>4</th>\n",
              "      <td>5</td>\n",
              "      <td>16621283</td>\n",
              "      <td>13997</td>\n",
              "      <td>33794</td>\n",
              "      <td>0</td>\n",
              "      <td>322</td>\n",
              "      <td>32</td>\n",
              "      <td>177</td>\n",
              "      <td>34</td>\n",
              "      <td>5</td>\n",
              "      <td>11856</td>\n",
              "      <td>570</td>\n",
              "      <td>12426</td>\n",
              "      <td>385.0</td>\n",
              "    </tr>\n",
              "    <tr>\n",
              "      <th>5</th>\n",
              "      <td>6</td>\n",
              "      <td>16492607</td>\n",
              "      <td>13966</td>\n",
              "      <td>33754</td>\n",
              "      <td>0</td>\n",
              "      <td>332</td>\n",
              "      <td>41</td>\n",
              "      <td>227</td>\n",
              "      <td>47</td>\n",
              "      <td>0</td>\n",
              "      <td>11865</td>\n",
              "      <td>647</td>\n",
              "      <td>12512</td>\n",
              "      <td>380.0</td>\n",
              "    </tr>\n",
              "    <tr>\n",
              "      <th>6</th>\n",
              "      <td>7</td>\n",
              "      <td>16450119</td>\n",
              "      <td>13895</td>\n",
              "      <td>33525</td>\n",
              "      <td>0</td>\n",
              "      <td>362</td>\n",
              "      <td>22</td>\n",
              "      <td>200</td>\n",
              "      <td>23</td>\n",
              "      <td>0</td>\n",
              "      <td>9476</td>\n",
              "      <td>607</td>\n",
              "      <td>10083</td>\n",
              "      <td>308.0</td>\n",
              "    </tr>\n",
              "    <tr>\n",
              "      <th>7</th>\n",
              "      <td>8</td>\n",
              "      <td>16434386</td>\n",
              "      <td>13858</td>\n",
              "      <td>33317</td>\n",
              "      <td>0</td>\n",
              "      <td>300</td>\n",
              "      <td>22</td>\n",
              "      <td>173</td>\n",
              "      <td>27</td>\n",
              "      <td>0</td>\n",
              "      <td>10215</td>\n",
              "      <td>522</td>\n",
              "      <td>10737</td>\n",
              "      <td>324.0</td>\n",
              "    </tr>\n",
              "    <tr>\n",
              "      <th>8</th>\n",
              "      <td>9</td>\n",
              "      <td>16431313</td>\n",
              "      <td>13814</td>\n",
              "      <td>33289</td>\n",
              "      <td>0</td>\n",
              "      <td>295</td>\n",
              "      <td>44</td>\n",
              "      <td>172</td>\n",
              "      <td>20</td>\n",
              "      <td>0</td>\n",
              "      <td>10596</td>\n",
              "      <td>531</td>\n",
              "      <td>11127</td>\n",
              "      <td>369.0</td>\n",
              "    </tr>\n",
              "    <tr>\n",
              "      <th>9</th>\n",
              "      <td>10</td>\n",
              "      <td>16480392</td>\n",
              "      <td>13728</td>\n",
              "      <td>32966</td>\n",
              "      <td>0</td>\n",
              "      <td>269</td>\n",
              "      <td>57</td>\n",
              "      <td>153</td>\n",
              "      <td>24</td>\n",
              "      <td>0</td>\n",
              "      <td>10484</td>\n",
              "      <td>503</td>\n",
              "      <td>10987</td>\n",
              "      <td>338.0</td>\n",
              "    </tr>\n",
              "    <tr>\n",
              "      <th>10</th>\n",
              "      <td>11</td>\n",
              "      <td>16389471</td>\n",
              "      <td>13634</td>\n",
              "      <td>32688</td>\n",
              "      <td>0</td>\n",
              "      <td>216</td>\n",
              "      <td>38</td>\n",
              "      <td>156</td>\n",
              "      <td>25</td>\n",
              "      <td>0</td>\n",
              "      <td>10952</td>\n",
              "      <td>435</td>\n",
              "      <td>11387</td>\n",
              "      <td>383.0</td>\n",
              "    </tr>\n",
              "    <tr>\n",
              "      <th>11</th>\n",
              "      <td>12</td>\n",
              "      <td>16369582</td>\n",
              "      <td>13582</td>\n",
              "      <td>32632</td>\n",
              "      <td>0</td>\n",
              "      <td>261</td>\n",
              "      <td>35</td>\n",
              "      <td>130</td>\n",
              "      <td>17</td>\n",
              "      <td>5</td>\n",
              "      <td>11206</td>\n",
              "      <td>448</td>\n",
              "      <td>11654</td>\n",
              "      <td>382.0</td>\n",
              "    </tr>\n",
              "    <tr>\n",
              "      <th>12</th>\n",
              "      <td>13</td>\n",
              "      <td>16431049</td>\n",
              "      <td>13535</td>\n",
              "      <td>32659</td>\n",
              "      <td>0</td>\n",
              "      <td>298</td>\n",
              "      <td>68</td>\n",
              "      <td>154</td>\n",
              "      <td>22</td>\n",
              "      <td>0</td>\n",
              "      <td>11163</td>\n",
              "      <td>542</td>\n",
              "      <td>11705</td>\n",
              "      <td>378.0</td>\n",
              "    </tr>\n",
              "    <tr>\n",
              "      <th>13</th>\n",
              "      <td>14</td>\n",
              "      <td>16280690</td>\n",
              "      <td>13365</td>\n",
              "      <td>32205</td>\n",
              "      <td>0</td>\n",
              "      <td>265</td>\n",
              "      <td>33</td>\n",
              "      <td>171</td>\n",
              "      <td>23</td>\n",
              "      <td>0</td>\n",
              "      <td>11491</td>\n",
              "      <td>492</td>\n",
              "      <td>11983</td>\n",
              "      <td>434.0</td>\n",
              "    </tr>\n",
              "    <tr>\n",
              "      <th>14</th>\n",
              "      <td>15</td>\n",
              "      <td>16251511</td>\n",
              "      <td>13188</td>\n",
              "      <td>32050</td>\n",
              "      <td>0</td>\n",
              "      <td>294</td>\n",
              "      <td>29</td>\n",
              "      <td>148</td>\n",
              "      <td>21</td>\n",
              "      <td>0</td>\n",
              "      <td>11826</td>\n",
              "      <td>492</td>\n",
              "      <td>12318</td>\n",
              "      <td>443.0</td>\n",
              "    </tr>\n",
              "    <tr>\n",
              "      <th>15</th>\n",
              "      <td>16</td>\n",
              "      <td>16085805</td>\n",
              "      <td>12926</td>\n",
              "      <td>31640</td>\n",
              "      <td>0</td>\n",
              "      <td>303</td>\n",
              "      <td>49</td>\n",
              "      <td>167</td>\n",
              "      <td>33</td>\n",
              "      <td>0</td>\n",
              "      <td>11987</td>\n",
              "      <td>552</td>\n",
              "      <td>12539</td>\n",
              "      <td>498.0</td>\n",
              "    </tr>\n",
              "    <tr>\n",
              "      <th>16</th>\n",
              "      <td>17</td>\n",
              "      <td>15906735</td>\n",
              "      <td>12689</td>\n",
              "      <td>31414</td>\n",
              "      <td>0</td>\n",
              "      <td>316</td>\n",
              "      <td>30</td>\n",
              "      <td>219</td>\n",
              "      <td>67</td>\n",
              "      <td>0</td>\n",
              "      <td>12304</td>\n",
              "      <td>632</td>\n",
              "      <td>12936</td>\n",
              "      <td>534.0</td>\n",
              "    </tr>\n",
              "    <tr>\n",
              "      <th>17</th>\n",
              "      <td>18</td>\n",
              "      <td>15736272</td>\n",
              "      <td>12174</td>\n",
              "      <td>30520</td>\n",
              "      <td>0</td>\n",
              "      <td>354</td>\n",
              "      <td>22</td>\n",
              "      <td>207</td>\n",
              "      <td>60</td>\n",
              "      <td>0</td>\n",
              "      <td>12620</td>\n",
              "      <td>643</td>\n",
              "      <td>13263</td>\n",
              "      <td>680.0</td>\n",
              "    </tr>\n",
              "    <tr>\n",
              "      <th>18</th>\n",
              "      <td>19</td>\n",
              "      <td>14810334</td>\n",
              "      <td>11160</td>\n",
              "      <td>28570</td>\n",
              "      <td>0</td>\n",
              "      <td>334</td>\n",
              "      <td>59</td>\n",
              "      <td>186</td>\n",
              "      <td>89</td>\n",
              "      <td>0</td>\n",
              "      <td>12167</td>\n",
              "      <td>668</td>\n",
              "      <td>12835</td>\n",
              "      <td>692.0</td>\n",
              "    </tr>\n",
              "    <tr>\n",
              "      <th>19</th>\n",
              "      <td>20</td>\n",
              "      <td>12282236</td>\n",
              "      <td>9023</td>\n",
              "      <td>24033</td>\n",
              "      <td>0</td>\n",
              "      <td>295</td>\n",
              "      <td>147</td>\n",
              "      <td>174</td>\n",
              "      <td>67</td>\n",
              "      <td>0</td>\n",
              "      <td>11222</td>\n",
              "      <td>683</td>\n",
              "      <td>11905</td>\n",
              "      <td>894.0</td>\n",
              "    </tr>\n",
              "  </tbody>\n",
              "</table>\n",
              "</div>"
            ],
            "text/plain": [
              "    over  match_id  inning   ball  ...  batsman_runs  extra_runs  total_runs  wicket\n",
              "0      1  17111970   14598  35259  ...          8535         871        9406   306.0\n",
              "1      2  16735202   14248  34880  ...         10139         823       10962   350.0\n",
              "2      3  16764234   14122  34273  ...         11413         705       12118   371.0\n",
              "3      4  16678664   14062  34004  ...         11769         638       12407   385.0\n",
              "4      5  16621283   13997  33794  ...         11856         570       12426   385.0\n",
              "5      6  16492607   13966  33754  ...         11865         647       12512   380.0\n",
              "6      7  16450119   13895  33525  ...          9476         607       10083   308.0\n",
              "7      8  16434386   13858  33317  ...         10215         522       10737   324.0\n",
              "8      9  16431313   13814  33289  ...         10596         531       11127   369.0\n",
              "9     10  16480392   13728  32966  ...         10484         503       10987   338.0\n",
              "10    11  16389471   13634  32688  ...         10952         435       11387   383.0\n",
              "11    12  16369582   13582  32632  ...         11206         448       11654   382.0\n",
              "12    13  16431049   13535  32659  ...         11163         542       11705   378.0\n",
              "13    14  16280690   13365  32205  ...         11491         492       11983   434.0\n",
              "14    15  16251511   13188  32050  ...         11826         492       12318   443.0\n",
              "15    16  16085805   12926  31640  ...         11987         552       12539   498.0\n",
              "16    17  15906735   12689  31414  ...         12304         632       12936   534.0\n",
              "17    18  15736272   12174  30520  ...         12620         643       13263   680.0\n",
              "18    19  14810334   11160  28570  ...         12167         668       12835   692.0\n",
              "19    20  12282236    9023  24033  ...         11222         683       11905   894.0\n",
              "\n",
              "[20 rows x 14 columns]"
            ]
          },
          "metadata": {
            "tags": []
          },
          "execution_count": 73
        }
      ]
    },
    {
      "cell_type": "markdown",
      "metadata": {
        "id": "MOc-B_LLb1Y-"
      },
      "source": [
        "***Now  with the help of seaborn heatmap lets find out the co-relation in this data***"
      ]
    },
    {
      "cell_type": "code",
      "metadata": {
        "id": "AdWNlasKXpJx",
        "colab": {
          "base_uri": "https://localhost:8080/",
          "height": 673
        },
        "outputId": "2cbf0286-5430-440d-c65f-645093e73b4b"
      },
      "source": [
        "# using seaborn heatmap\r\n",
        "corr = wicketper_over_df_1.corr()\r\n",
        "# use annot for labeling because without it only the color will be visible \r\n",
        "sns.heatmap(corr,annot = True)"
      ],
      "execution_count": 28,
      "outputs": [
        {
          "output_type": "execute_result",
          "data": {
            "text/plain": [
              "<matplotlib.axes._subplots.AxesSubplot at 0x7f16cd573490>"
            ]
          },
          "metadata": {
            "tags": []
          },
          "execution_count": 28
        },
        {
          "output_type": "display_data",
          "data": {
            "image/png": "[encoded data removed]",
            "text/plain": [
              "<Figure size 1080x720 with 2 Axes>"
            ]
          },
          "metadata": {
            "tags": []
          }
        }
      ]
    },
    {
      "cell_type": "markdown",
      "metadata": {
        "id": "ndPb96j6ehYa"
      },
      "source": [
        "while looking at this heat map  we can see a high corelation between match_id, inings, balls\r\n"
      ]
    },
    {
      "cell_type": "markdown",
      "metadata": {
        "id": "mjRkkOXIgfvL"
      },
      "source": [
        "But match id ,innings ,ball are just for representation purpose ( *numerical values for better understanding and finding out detail of pertiular match*) they dont have any relation to the match  played so it would be better to remove all such columns."
      ]
    },
    {
      "cell_type": "code",
      "metadata": {
        "colab": {
          "base_uri": "https://localhost:8080/",
          "height": 111
        },
        "id": "v2ZdDVmLhlnq",
        "outputId": "8e9a87ad-226f-4a7c-e231-d76e26a381b5"
      },
      "source": [
        "# creating new dataframe without unwanted columns\r\n",
        "wicketper_over_df = wicketper_over_df_1[['over',   'wide_runs',\r\n",
        "       'bye_runs', 'legbye_runs', 'noball_runs', \r\n",
        "       'batsman_runs', 'extra_runs', 'total_runs', 'wicket']]\r\n",
        "wicketper_over_df.head(2)"
      ],
      "execution_count": 29,
      "outputs": [
        {
          "output_type": "execute_result",
          "data": {
            "text/html": [
              "<div>\n",
              "<style scoped>\n",
              "    .dataframe tbody tr th:only-of-type {\n",
              "        vertical-align: middle;\n",
              "    }\n",
              "\n",
              "    .dataframe tbody tr th {\n",
              "        vertical-align: top;\n",
              "    }\n",
              "\n",
              "    .dataframe thead th {\n",
              "        text-align: right;\n",
              "    }\n",
              "</style>\n",
              "<table border=\"1\" class=\"dataframe\">\n",
              "  <thead>\n",
              "    <tr style=\"text-align: right;\">\n",
              "      <th></th>\n",
              "      <th>over</th>\n",
              "      <th>wide_runs</th>\n",
              "      <th>bye_runs</th>\n",
              "      <th>legbye_runs</th>\n",
              "      <th>noball_runs</th>\n",
              "      <th>batsman_runs</th>\n",
              "      <th>extra_runs</th>\n",
              "      <th>total_runs</th>\n",
              "      <th>wicket</th>\n",
              "    </tr>\n",
              "  </thead>\n",
              "  <tbody>\n",
              "    <tr>\n",
              "      <th>0</th>\n",
              "      <td>1</td>\n",
              "      <td>539</td>\n",
              "      <td>52</td>\n",
              "      <td>248</td>\n",
              "      <td>32</td>\n",
              "      <td>8535</td>\n",
              "      <td>871</td>\n",
              "      <td>9406</td>\n",
              "      <td>306.0</td>\n",
              "    </tr>\n",
              "    <tr>\n",
              "      <th>1</th>\n",
              "      <td>2</td>\n",
              "      <td>489</td>\n",
              "      <td>40</td>\n",
              "      <td>262</td>\n",
              "      <td>32</td>\n",
              "      <td>10139</td>\n",
              "      <td>823</td>\n",
              "      <td>10962</td>\n",
              "      <td>350.0</td>\n",
              "    </tr>\n",
              "  </tbody>\n",
              "</table>\n",
              "</div>"
            ],
            "text/plain": [
              "   over  wide_runs  bye_runs  ...  extra_runs  total_runs  wicket\n",
              "0     1        539        52  ...         871        9406   306.0\n",
              "1     2        489        40  ...         823       10962   350.0\n",
              "\n",
              "[2 rows x 9 columns]"
            ]
          },
          "metadata": {
            "tags": []
          },
          "execution_count": 29
        }
      ]
    },
    {
      "cell_type": "markdown",
      "metadata": {
        "id": "kSIcqQHuaGix"
      },
      "source": [
        "Now lets see and find out the co-relation in new data frame\r\n"
      ]
    },
    {
      "cell_type": "code",
      "metadata": {
        "colab": {
          "base_uri": "https://localhost:8080/",
          "height": 613
        },
        "id": "CfR4XrDOaTyF",
        "outputId": "c32985d6-2ffc-4432-b675-4c792cbce58f"
      },
      "source": [
        "sns.heatmap(wicketper_over_df.corr(),annot = True)"
      ],
      "execution_count": 30,
      "outputs": [
        {
          "output_type": "execute_result",
          "data": {
            "text/plain": [
              "<matplotlib.axes._subplots.AxesSubplot at 0x7f16ce90db10>"
            ]
          },
          "metadata": {
            "tags": []
          },
          "execution_count": 30
        },
        {
          "output_type": "display_data",
          "data": {
            "image/png": "[encoded data removed]",
            "text/plain": [
              "<Figure size 1080x720 with 2 Axes>"
            ]
          },
          "metadata": {
            "tags": []
          }
        }
      ]
    },
    {
      "cell_type": "markdown",
      "metadata": {
        "id": "oWRav1yfibz5"
      },
      "source": [
        "we also see there are few columns which are highly co-related to each other such as \r\n",
        "\r\n",
        "*   extra_runs columns have postive co-relation with wide_runs, legbye_runs, bye_runs\r\n",
        "*   wickets fall have a postive co-relation with over \r\n",
        "\r\n"
      ]
    },
    {
      "cell_type": "markdown",
      "metadata": {
        "id": "rTlvNa_Sj5Cq"
      },
      "source": [
        "**Now lets explore these  co-realtion  with the help of other visualization tools for better understanding of co-relation**"
      ]
    },
    {
      "cell_type": "markdown",
      "metadata": {
        "id": "m8_hDYFM-JX-"
      },
      "source": [
        "Lets start by  creating some sub plots for side by side comparision of Total run scored and wickets fall with respect to each over "
      ]
    },
    {
      "cell_type": "code",
      "metadata": {
        "colab": {
          "base_uri": "https://localhost:8080/",
          "height": 387
        },
        "id": "hpFIvSFfm7N-",
        "outputId": "b57fd42b-8f40-4d11-dc4f-4dbb2ecc9d06"
      },
      "source": [
        "# setting background to dark grid for better visualization\r\n",
        "# by using set style\r\n",
        "sns.set_style(\"darkgrid\")\r\n",
        "\r\n",
        "# figuring out the layout of subplot\r\n",
        "# using figsize to control the size of the subpolot\r\n",
        "fig , axes= plt.subplots(1,2, figsize = (15,5))\r\n",
        "\r\n",
        "# giving title to the subplot\r\n",
        "fig.suptitle ('comaprision of runs , wickets, extra runs for each over')\r\n",
        "\r\n",
        "# creating barplot for run scored in each over\r\n",
        "# by providing axes =0 only as there is only one row in subplots \r\n",
        "sns.barplot(ax= axes[0],data = wicketper_over_df,x='over',y=\"total_runs\",palette=\"Blues_d\").set_title(\"Runs scored in each overn in IPL\")\r\n",
        "\r\n",
        "# creating scatter plot of wickiet fall in each over\r\n",
        "sns.lineplot(ax= axes[1],data= wicketper_over_df,x=\"over\",y=\"wicket\",marker=\"*\").set_title(\"No of wicket taken in each over in IPL\")\r\n",
        "\r\n"
      ],
      "execution_count": 31,
      "outputs": [
        {
          "output_type": "execute_result",
          "data": {
            "text/plain": [
              "Text(0.5, 1.0, 'No of wicket taken in each over in IPL')"
            ]
          },
          "metadata": {
            "tags": []
          },
          "execution_count": 31
        },
        {
          "output_type": "display_data",
          "data": {
            "image/png": "[encoded data removed]",
            "text/plain": [
              "<Figure size 1080x360 with 2 Axes>"
            ]
          },
          "metadata": {
            "tags": []
          }
        }
      ]
    },
    {
      "cell_type": "markdown",
      "metadata": {
        "id": "0gF6z2C8Dgek"
      },
      "source": [
        "By looking at these graphs we can conclude that   in process of scorring more runs at the end of innings teams also looses wickets."
      ]
    },
    {
      "cell_type": "markdown",
      "metadata": {
        "id": "ElOSJfaao57c"
      },
      "source": [
        "*And this thing is true as we have seen in IPl, how team don't care about the wickets at end of innings they are more concern about runs*"
      ]
    },
    {
      "cell_type": "markdown",
      "metadata": {
        "id": "xE2z2_DRE4Tj"
      },
      "source": [
        "***Lets have a look at how extra runs behave as inings progress in IPL***"
      ]
    },
    {
      "cell_type": "code",
      "metadata": {
        "colab": {
          "base_uri": "https://localhost:8080/",
          "height": 747
        },
        "id": "65lte1a0YIaZ",
        "outputId": "11636917-8132-4f16-f71e-c17c3844198d"
      },
      "source": [
        "# setting the background\r\n",
        "sns.set_style(\"darkgrid\")\r\n",
        "\r\n",
        "# figuring out the layout of subplots\r\n",
        "fig ,axes= plt.subplots(2,2 ,figsize= (15,12))\r\n",
        "\r\n",
        "\r\n",
        "sns.lineplot(ax=axes[0,0],data = wicketper_over_df,x=\"over\",y=\"extra_runs\",marker = \"*\",label=\"Extra Runs\").set_title(\"total number of  extra runs in each over\")\r\n",
        "sns.scatterplot(ax =axes[0,1],data = wicketper_over_df,x=\"over\",y= \"noball_runs\",legend=\"full\",label =\"No Ball\").set_title(\"total number of  NO Ball bowled in each over\")\r\n",
        "sns.barplot(ax= axes[1,0],data = wicketper_over_df,x=\"over\",y=\"wide_runs\", label= \"Wide Ball\").set_title(\"total number of Wide ball in each over \")\r\n",
        "sns.scatterplot(ax = axes[1,1],data = wicketper_over_df,x=\"over\",y=\"legbye_runs\",label =\"Legbye Runs\").set_title(\"Total number of bye  and legbye given in each over \")\r\n",
        "sns.scatterplot(ax= axes[1,1], data = wicketper_over_df,x=\"over\",y =\"bye_runs\",legend= \"full\",label =\"Bye Runs\")\r\n",
        "\r\n",
        "# used legend to print legend box\r\n",
        "plt.legend()\r\n",
        "# \r\n",
        "# sns.scatterplot(\"over\",\"batsman_runs\", data = wicketper_over_df)"
      ],
      "execution_count": 32,
      "outputs": [
        {
          "output_type": "execute_result",
          "data": {
            "text/plain": [
              "<matplotlib.legend.Legend at 0x7f16c23ba510>"
            ]
          },
          "metadata": {
            "tags": []
          },
          "execution_count": 32
        },
        {
          "output_type": "display_data",
          "data": {
            "image/png": "[encoded data removed]",
            "text/plain": [
              "<Figure size 1080x864 with 4 Axes>"
            ]
          },
          "metadata": {
            "tags": []
          }
        }
      ]
    },
    {
      "cell_type": "markdown",
      "metadata": {
        "id": "3s8w42j_VvoR"
      },
      "source": [
        "*its clearly visible in the graphs in first sub plot that bowler have given more extra in initial stage of the the match when at the end* "
      ]
    },
    {
      "cell_type": "markdown",
      "metadata": {
        "id": "fr7m9TOxx8xL"
      },
      "source": [
        "By seeing all the graphs in subplot we notice one thing that majority part of extra is in form of wides and leg bye and that is true as in start of innings batsman and bowlers are more focused on judging the behaviour of pitch.   "
      ]
    },
    {
      "cell_type": "markdown",
      "metadata": {
        "id": "r5p6UjNdz9O_"
      },
      "source": [
        "If we look at **NO ball graph** we can see most of the no ball are bowled at end of the inngs so by this we can conclude that bowlers are **putting more efforts at end that could led to oversteping and hence no ball***"
      ]
    },
    {
      "cell_type": "markdown",
      "metadata": {
        "id": "QNs5wv7LXDSn"
      },
      "source": [
        "One more thing which we can see from these graphs is the major contributor to exta runs are wide balls and leg byes"
      ]
    },
    {
      "cell_type": "code",
      "metadata": {
        "colab": {
          "base_uri": "https://localhost:8080/",
          "height": 623
        },
        "id": "crOk2oshXpZg",
        "outputId": "1ab57576-5eb8-4215-874f-71d7affcbb51"
      },
      "source": [
        "# creating a graphs to compare extra runs , wide and legbye\r\n",
        "#creting line plot for extra runs\r\n",
        "sns.lineplot(data=wicketper_over_df,x=\"over\",y='extra_runs', marker=\"*\",label =\"Extra Runs\")\r\n",
        "# scatter plot for wide ball runs\r\n",
        "sns.scatterplot(data=wicketper_over_df,x=\"over\",y='wide_runs',label =\"Wide Runs\" )\r\n",
        "#bar plot for leg bye runs\r\n",
        "sns.scatterplot(data=wicketper_over_df,x=\"over\",y='legbye_runs',label =\"Legbye Runs\")\r\n",
        "# using legend for lagend box\r\n",
        "plt.legend()\r\n"
      ],
      "execution_count": 33,
      "outputs": [
        {
          "output_type": "execute_result",
          "data": {
            "text/plain": [
              "<matplotlib.legend.Legend at 0x7f16c2250ad0>"
            ]
          },
          "metadata": {
            "tags": []
          },
          "execution_count": 33
        },
        {
          "output_type": "display_data",
          "data": {
            "image/png": "[encoded data removed]",
            "text/plain": [
              "<Figure size 1080x720 with 1 Axes>"
            ]
          },
          "metadata": {
            "tags": []
          }
        }
      ]
    },
    {
      "cell_type": "code",
      "metadata": {
        "id": "jEtqaIlzXoq6"
      },
      "source": [
        ""
      ],
      "execution_count": 33,
      "outputs": []
    },
    {
      "cell_type": "markdown",
      "metadata": {
        "id": "7PXV8ugEXoc6"
      },
      "source": [
        "BY all  these graphs we can easily viasualize the relation between the extra runs and total "
      ]
    },
    {
      "cell_type": "code",
      "metadata": {
        "id": "UAIMrIkKa9Bi"
      },
      "source": [
        ""
      ],
      "execution_count": null,
      "outputs": []
    },
    {
      "cell_type": "markdown",
      "metadata": {
        "id": "XyT1ospRa9zB"
      },
      "source": [
        "# umpire data\r\n",
        "\r\n",
        "Whenever we say there is match going on most of the people start searching for there favourite players .\r\n",
        "beacuse they know that a perticular player can turn the match in its team favour at any time.\r\n",
        "but players are not the only one which turn the matches as we have seen in IPL that there are many matches which turned  by the decision given by umpire  \r\n"
      ]
    },
    {
      "cell_type": "markdown",
      "metadata": {
        "id": "a91JpFEaMZbQ"
      },
      "source": [
        "Here i will tell u the most experienced umpire in the history of IPL "
      ]
    },
    {
      "cell_type": "code",
      "metadata": {
        "colab": {
          "base_uri": "https://localhost:8080/",
          "height": 204
        },
        "id": "nxWOXZZ3Mkz0",
        "outputId": "cfa86d14-4bed-4f95-a018-18def9d610c1"
      },
      "source": [
        "# this gives us series  of  umpires indivisually \r\n",
        "# as there are 3 umpire in match \r\n",
        "umpire_1 = matches_df[\"umpire1\"]\r\n",
        "umpire_2 = matches_df[\"umpire2\"]\r\n",
        "umpire_3 = matches_df[\"umpire3\"]\r\n",
        "\r\n",
        "# concat these series row wise with axis=0\r\n",
        "final_umpire = pd.concat([umpire_1,umpire_2,umpire_3])\r\n",
        "umpire = final_umpire.value_counts().sort_values(ascending = False)\r\n",
        "umpire = pd.DataFrame(umpire).reset_index()\r\n",
        "umpire.rename(columns = {\"index\":\"umpire_name\",0:\"total_matches\"},inplace =True)\r\n",
        "\r\n",
        "umpire.style.background_gradient()\r\n",
        "umpire.head(5)\r\n"
      ],
      "execution_count": 127,
      "outputs": [
        {
          "output_type": "execute_result",
          "data": {
            "text/html": [
              "<div>\n",
              "<style scoped>\n",
              "    .dataframe tbody tr th:only-of-type {\n",
              "        vertical-align: middle;\n",
              "    }\n",
              "\n",
              "    .dataframe tbody tr th {\n",
              "        vertical-align: top;\n",
              "    }\n",
              "\n",
              "    .dataframe thead th {\n",
              "        text-align: right;\n",
              "    }\n",
              "</style>\n",
              "<table border=\"1\" class=\"dataframe\">\n",
              "  <thead>\n",
              "    <tr style=\"text-align: right;\">\n",
              "      <th></th>\n",
              "      <th>umpire_name</th>\n",
              "      <th>total_matches</th>\n",
              "    </tr>\n",
              "  </thead>\n",
              "  <tbody>\n",
              "    <tr>\n",
              "      <th>0</th>\n",
              "      <td>S Ravi</td>\n",
              "      <td>114</td>\n",
              "    </tr>\n",
              "    <tr>\n",
              "      <th>1</th>\n",
              "      <td>HDPK Dharmasena</td>\n",
              "      <td>87</td>\n",
              "    </tr>\n",
              "    <tr>\n",
              "      <th>2</th>\n",
              "      <td>C Shamshuddin</td>\n",
              "      <td>83</td>\n",
              "    </tr>\n",
              "    <tr>\n",
              "      <th>3</th>\n",
              "      <td>AK Chaudhary</td>\n",
              "      <td>58</td>\n",
              "    </tr>\n",
              "    <tr>\n",
              "      <th>4</th>\n",
              "      <td>SJA Taufel</td>\n",
              "      <td>55</td>\n",
              "    </tr>\n",
              "  </tbody>\n",
              "</table>\n",
              "</div>"
            ],
            "text/plain": [
              "       umpire_name  total_matches\n",
              "0           S Ravi            114\n",
              "1  HDPK Dharmasena             87\n",
              "2    C Shamshuddin             83\n",
              "3     AK Chaudhary             58\n",
              "4       SJA Taufel             55"
            ]
          },
          "metadata": {
            "tags": []
          },
          "execution_count": 127
        }
      ]
    },
    {
      "cell_type": "markdown",
      "metadata": {
        "id": "7nfJs6zBeNv6"
      },
      "source": [
        "This gives us that **S Ravi** is the most experienced umpire in histry of the IPL"
      ]
    },
    {
      "cell_type": "markdown",
      "metadata": {
        "id": "kMm96ffHTkql"
      },
      "source": [
        "Now with the help of bar plot we can see where does other umpire stand"
      ]
    },
    {
      "cell_type": "code",
      "metadata": {
        "colab": {
          "base_uri": "https://localhost:8080/",
          "height": 507
        },
        "id": "nekd14lYTkOv",
        "outputId": "25dc1207-f259-4ad4-b948-b8e124eedf19"
      },
      "source": [
        "plt.bar(x=umpire[\"umpire_name\"], height= umpire[\"total_matches\"])\r\n",
        "plt.xticks(umpire.index, rotation=\"vertical\")\r\n",
        "plt.rcParams['figure.figsize']=(24,8)\r\n",
        "\r\n",
        "# by doing this will show only graph and not the additional things\r\n",
        "plt.show()\r\n"
      ],
      "execution_count": 137,
      "outputs": [
        {
          "output_type": "display_data",
          "data": {
            "image/png": "[encoded data removed]",
            "text/plain": [
              "<Figure size 1872x576 with 1 Axes>"
            ]
          },
          "metadata": {
            "tags": []
          }
        }
      ]
    },
    {
      "cell_type": "code",
      "metadata": {
        "colab": {
          "base_uri": "https://localhost:8080/"
        },
        "id": "31we9SmVPacP",
        "outputId": "50af5fdc-9174-4ef8-cec3-cd462d659d7b"
      },
      "source": [
        "umpire_df= matches_df[[\"umpire1\",\"umpire2\",\"umpire3\"]].value_counts()\r\n",
        "umpire_df"
      ],
      "execution_count": 95,
      "outputs": [
        {
          "output_type": "execute_result",
          "data": {
            "text/plain": [
              "umpire1          umpire2                umpire3         \n",
              "Nigel Llong      Anil Chaudhary         Vineet Kulkarni     3\n",
              "S Ravi           Yeshwant Barde         O Nandan            3\n",
              "Marais Erasmus   Nitin Menon            Yeshwant Barde      3\n",
              "                 Anil Dandekar          Nitin Menon         2\n",
              "S Ravi           Anil Dandekar          C Shamshuddin       2\n",
              "                                                           ..\n",
              "Nigel Llong      Ulhas Gandhe           Anil Chaudhary      1\n",
              "                 Vineet Kulkarni        O Nandan            1\n",
              "                 Virender Kumar Sharma  Anil Chaudhary      1\n",
              "Nitin Menon      Anil Chaudhary         Kumar Dharmasena    1\n",
              "A Nanda Kishore  Anil Chaudhary         Chris Gaffaney      1\n",
              "Length: 99, dtype: int64"
            ]
          },
          "metadata": {
            "tags": []
          },
          "execution_count": 95
        }
      ]
    },
    {
      "cell_type": "code",
      "metadata": {
        "colab": {
          "base_uri": "https://localhost:8080/"
        },
        "id": "LONmN3aDiz0D",
        "outputId": "a543800d-7d2a-4858-93c9-a0ecd6a4fd9e"
      },
      "source": [
        "# ipl_season dataframe group by \r\n",
        "ipl_season"
      ],
      "execution_count": 89,
      "outputs": [
        {
          "output_type": "execute_result",
          "data": {
            "text/plain": [
              "<pandas.core.groupby.generic.DataFrameGroupBy object at 0x7f16ce90d090>"
            ]
          },
          "metadata": {
            "tags": []
          },
          "execution_count": 89
        }
      ]
    },
    {
      "cell_type": "markdown",
      "metadata": {
        "id": "OYXI4DY_jqmb"
      },
      "source": [
        ""
      ]
    },
    {
      "cell_type": "code",
      "metadata": {
        "colab": {
          "base_uri": "https://localhost:8080/"
        },
        "id": "AxhUrMQVkcXv",
        "outputId": "6a85e0a8-e721-40c2-9a8b-cc4012147229"
      },
      "source": [
        "new_deliveries_df.columns"
      ],
      "execution_count": 70,
      "outputs": [
        {
          "output_type": "execute_result",
          "data": {
            "text/plain": [
              "Index(['match_id', 'inning', 'batting_team', 'bowling_team', 'over', 'ball',\n",
              "       'batsman', 'non_striker', 'bowler', 'is_super_over', 'wide_runs',\n",
              "       'bye_runs', 'legbye_runs', 'noball_runs', 'penalty_runs',\n",
              "       'batsman_runs', 'extra_runs', 'total_runs', 'player_dismissed',\n",
              "       'dismissal_kind', 'fielder', 'id', 'Season'],\n",
              "      dtype='object')"
            ]
          },
          "metadata": {
            "tags": []
          },
          "execution_count": 70
        }
      ]
    },
    {
      "cell_type": "code",
      "metadata": {
        "id": "ePJlWFoykz8q"
      },
      "source": [
        "# lets start by grouping matches_df dataframe with season and th\r\n",
        "ipl_df = new_deliveries_df.groupby(\"batting_team\")"
      ],
      "execution_count": 71,
      "outputs": []
    },
    {
      "cell_type": "code",
      "metadata": {
        "colab": {
          "base_uri": "https://localhost:8080/"
        },
        "id": "3GYjtlh4izqO",
        "outputId": "c3044637-a1a4-4b78-9d8f-9fe9929421a6"
      },
      "source": [
        "# start by finding dataframe from each season\r\n",
        "l=[]\r\n",
        "for seasons,seasons_df in ipl_df:\r\n",
        "  # lets performe a groip by on seasons_df there by winner\r\n",
        "  # find out the teams which have won max matches in each season\r\n",
        "  # print(seasons_df)\r\n",
        "  print(seasons)\r\n",
        "  win_per_season = seasons_df.groupby(\"Season\")\r\n",
        "  for dic_1,dic_1_df in win_per_season:\r\n",
        "    print(dic_1_df.columns)\r\n",
        "  # print(win_per_season)\r\n",
        "  # l.append(win_per_season)\r\n"
      ],
      "execution_count": 79,
      "outputs": [
        {
          "output_type": "stream",
          "text": [
            "Chennai Super Kings\n",
            "Index(['match_id', 'inning', 'batting_team', 'bowling_team', 'over', 'ball',\n",
            "       'batsman', 'non_striker', 'bowler', 'is_super_over', 'wide_runs',\n",
            "       'bye_runs', 'legbye_runs', 'noball_runs', 'penalty_runs',\n",
            "       'batsman_runs', 'extra_runs', 'total_runs', 'player_dismissed',\n",
            "       'dismissal_kind', 'fielder', 'id', 'Season'],\n",
            "      dtype='object')\n",
            "Index(['match_id', 'inning', 'batting_team', 'bowling_team', 'over', 'ball',\n",
            "       'batsman', 'non_striker', 'bowler', 'is_super_over', 'wide_runs',\n",
            "       'bye_runs', 'legbye_runs', 'noball_runs', 'penalty_runs',\n",
            "       'batsman_runs', 'extra_runs', 'total_runs', 'player_dismissed',\n",
            "       'dismissal_kind', 'fielder', 'id', 'Season'],\n",
            "      dtype='object')\n",
            "Index(['match_id', 'inning', 'batting_team', 'bowling_team', 'over', 'ball',\n",
            "       'batsman', 'non_striker', 'bowler', 'is_super_over', 'wide_runs',\n",
            "       'bye_runs', 'legbye_runs', 'noball_runs', 'penalty_runs',\n",
            "       'batsman_runs', 'extra_runs', 'total_runs', 'player_dismissed',\n",
            "       'dismissal_kind', 'fielder', 'id', 'Season'],\n",
            "      dtype='object')\n",
            "Index(['match_id', 'inning', 'batting_team', 'bowling_team', 'over', 'ball',\n",
            "       'batsman', 'non_striker', 'bowler', 'is_super_over', 'wide_runs',\n",
            "       'bye_runs', 'legbye_runs', 'noball_runs', 'penalty_runs',\n",
            "       'batsman_runs', 'extra_runs', 'total_runs', 'player_dismissed',\n",
            "       'dismissal_kind', 'fielder', 'id', 'Season'],\n",
            "      dtype='object')\n",
            "Index(['match_id', 'inning', 'batting_team', 'bowling_team', 'over', 'ball',\n",
            "       'batsman', 'non_striker', 'bowler', 'is_super_over', 'wide_runs',\n",
            "       'bye_runs', 'legbye_runs', 'noball_runs', 'penalty_runs',\n",
            "       'batsman_runs', 'extra_runs', 'total_runs', 'player_dismissed',\n",
            "       'dismissal_kind', 'fielder', 'id', 'Season'],\n",
            "      dtype='object')\n",
            "Index(['match_id', 'inning', 'batting_team', 'bowling_team', 'over', 'ball',\n",
            "       'batsman', 'non_striker', 'bowler', 'is_super_over', 'wide_runs',\n",
            "       'bye_runs', 'legbye_runs', 'noball_runs', 'penalty_runs',\n",
            "       'batsman_runs', 'extra_runs', 'total_runs', 'player_dismissed',\n",
            "       'dismissal_kind', 'fielder', 'id', 'Season'],\n",
            "      dtype='object')\n",
            "Index(['match_id', 'inning', 'batting_team', 'bowling_team', 'over', 'ball',\n",
            "       'batsman', 'non_striker', 'bowler', 'is_super_over', 'wide_runs',\n",
            "       'bye_runs', 'legbye_runs', 'noball_runs', 'penalty_runs',\n",
            "       'batsman_runs', 'extra_runs', 'total_runs', 'player_dismissed',\n",
            "       'dismissal_kind', 'fielder', 'id', 'Season'],\n",
            "      dtype='object')\n",
            "Index(['match_id', 'inning', 'batting_team', 'bowling_team', 'over', 'ball',\n",
            "       'batsman', 'non_striker', 'bowler', 'is_super_over', 'wide_runs',\n",
            "       'bye_runs', 'legbye_runs', 'noball_runs', 'penalty_runs',\n",
            "       'batsman_runs', 'extra_runs', 'total_runs', 'player_dismissed',\n",
            "       'dismissal_kind', 'fielder', 'id', 'Season'],\n",
            "      dtype='object')\n",
            "Index(['match_id', 'inning', 'batting_team', 'bowling_team', 'over', 'ball',\n",
            "       'batsman', 'non_striker', 'bowler', 'is_super_over', 'wide_runs',\n",
            "       'bye_runs', 'legbye_runs', 'noball_runs', 'penalty_runs',\n",
            "       'batsman_runs', 'extra_runs', 'total_runs', 'player_dismissed',\n",
            "       'dismissal_kind', 'fielder', 'id', 'Season'],\n",
            "      dtype='object')\n",
            "Index(['match_id', 'inning', 'batting_team', 'bowling_team', 'over', 'ball',\n",
            "       'batsman', 'non_striker', 'bowler', 'is_super_over', 'wide_runs',\n",
            "       'bye_runs', 'legbye_runs', 'noball_runs', 'penalty_runs',\n",
            "       'batsman_runs', 'extra_runs', 'total_runs', 'player_dismissed',\n",
            "       'dismissal_kind', 'fielder', 'id', 'Season'],\n",
            "      dtype='object')\n",
            "Deccan Chargers\n",
            "Index(['match_id', 'inning', 'batting_team', 'bowling_team', 'over', 'ball',\n",
            "       'batsman', 'non_striker', 'bowler', 'is_super_over', 'wide_runs',\n",
            "       'bye_runs', 'legbye_runs', 'noball_runs', 'penalty_runs',\n",
            "       'batsman_runs', 'extra_runs', 'total_runs', 'player_dismissed',\n",
            "       'dismissal_kind', 'fielder', 'id', 'Season'],\n",
            "      dtype='object')\n",
            "Index(['match_id', 'inning', 'batting_team', 'bowling_team', 'over', 'ball',\n",
            "       'batsman', 'non_striker', 'bowler', 'is_super_over', 'wide_runs',\n",
            "       'bye_runs', 'legbye_runs', 'noball_runs', 'penalty_runs',\n",
            "       'batsman_runs', 'extra_runs', 'total_runs', 'player_dismissed',\n",
            "       'dismissal_kind', 'fielder', 'id', 'Season'],\n",
            "      dtype='object')\n",
            "Index(['match_id', 'inning', 'batting_team', 'bowling_team', 'over', 'ball',\n",
            "       'batsman', 'non_striker', 'bowler', 'is_super_over', 'wide_runs',\n",
            "       'bye_runs', 'legbye_runs', 'noball_runs', 'penalty_runs',\n",
            "       'batsman_runs', 'extra_runs', 'total_runs', 'player_dismissed',\n",
            "       'dismissal_kind', 'fielder', 'id', 'Season'],\n",
            "      dtype='object')\n",
            "Index(['match_id', 'inning', 'batting_team', 'bowling_team', 'over', 'ball',\n",
            "       'batsman', 'non_striker', 'bowler', 'is_super_over', 'wide_runs',\n",
            "       'bye_runs', 'legbye_runs', 'noball_runs', 'penalty_runs',\n",
            "       'batsman_runs', 'extra_runs', 'total_runs', 'player_dismissed',\n",
            "       'dismissal_kind', 'fielder', 'id', 'Season'],\n",
            "      dtype='object')\n",
            "Index(['match_id', 'inning', 'batting_team', 'bowling_team', 'over', 'ball',\n",
            "       'batsman', 'non_striker', 'bowler', 'is_super_over', 'wide_runs',\n",
            "       'bye_runs', 'legbye_runs', 'noball_runs', 'penalty_runs',\n",
            "       'batsman_runs', 'extra_runs', 'total_runs', 'player_dismissed',\n",
            "       'dismissal_kind', 'fielder', 'id', 'Season'],\n",
            "      dtype='object')\n",
            "Delhi Capitals\n",
            "Index(['match_id', 'inning', 'batting_team', 'bowling_team', 'over', 'ball',\n",
            "       'batsman', 'non_striker', 'bowler', 'is_super_over', 'wide_runs',\n",
            "       'bye_runs', 'legbye_runs', 'noball_runs', 'penalty_runs',\n",
            "       'batsman_runs', 'extra_runs', 'total_runs', 'player_dismissed',\n",
            "       'dismissal_kind', 'fielder', 'id', 'Season'],\n",
            "      dtype='object')\n",
            "Delhi Daredevils\n",
            "Index(['match_id', 'inning', 'batting_team', 'bowling_team', 'over', 'ball',\n",
            "       'batsman', 'non_striker', 'bowler', 'is_super_over', 'wide_runs',\n",
            "       'bye_runs', 'legbye_runs', 'noball_runs', 'penalty_runs',\n",
            "       'batsman_runs', 'extra_runs', 'total_runs', 'player_dismissed',\n",
            "       'dismissal_kind', 'fielder', 'id', 'Season'],\n",
            "      dtype='object')\n",
            "Index(['match_id', 'inning', 'batting_team', 'bowling_team', 'over', 'ball',\n",
            "       'batsman', 'non_striker', 'bowler', 'is_super_over', 'wide_runs',\n",
            "       'bye_runs', 'legbye_runs', 'noball_runs', 'penalty_runs',\n",
            "       'batsman_runs', 'extra_runs', 'total_runs', 'player_dismissed',\n",
            "       'dismissal_kind', 'fielder', 'id', 'Season'],\n",
            "      dtype='object')\n",
            "Index(['match_id', 'inning', 'batting_team', 'bowling_team', 'over', 'ball',\n",
            "       'batsman', 'non_striker', 'bowler', 'is_super_over', 'wide_runs',\n",
            "       'bye_runs', 'legbye_runs', 'noball_runs', 'penalty_runs',\n",
            "       'batsman_runs', 'extra_runs', 'total_runs', 'player_dismissed',\n",
            "       'dismissal_kind', 'fielder', 'id', 'Season'],\n",
            "      dtype='object')\n",
            "Index(['match_id', 'inning', 'batting_team', 'bowling_team', 'over', 'ball',\n",
            "       'batsman', 'non_striker', 'bowler', 'is_super_over', 'wide_runs',\n",
            "       'bye_runs', 'legbye_runs', 'noball_runs', 'penalty_runs',\n",
            "       'batsman_runs', 'extra_runs', 'total_runs', 'player_dismissed',\n",
            "       'dismissal_kind', 'fielder', 'id', 'Season'],\n",
            "      dtype='object')\n",
            "Index(['match_id', 'inning', 'batting_team', 'bowling_team', 'over', 'ball',\n",
            "       'batsman', 'non_striker', 'bowler', 'is_super_over', 'wide_runs',\n",
            "       'bye_runs', 'legbye_runs', 'noball_runs', 'penalty_runs',\n",
            "       'batsman_runs', 'extra_runs', 'total_runs', 'player_dismissed',\n",
            "       'dismissal_kind', 'fielder', 'id', 'Season'],\n",
            "      dtype='object')\n",
            "Index(['match_id', 'inning', 'batting_team', 'bowling_team', 'over', 'ball',\n",
            "       'batsman', 'non_striker', 'bowler', 'is_super_over', 'wide_runs',\n",
            "       'bye_runs', 'legbye_runs', 'noball_runs', 'penalty_runs',\n",
            "       'batsman_runs', 'extra_runs', 'total_runs', 'player_dismissed',\n",
            "       'dismissal_kind', 'fielder', 'id', 'Season'],\n",
            "      dtype='object')\n",
            "Index(['match_id', 'inning', 'batting_team', 'bowling_team', 'over', 'ball',\n",
            "       'batsman', 'non_striker', 'bowler', 'is_super_over', 'wide_runs',\n",
            "       'bye_runs', 'legbye_runs', 'noball_runs', 'penalty_runs',\n",
            "       'batsman_runs', 'extra_runs', 'total_runs', 'player_dismissed',\n",
            "       'dismissal_kind', 'fielder', 'id', 'Season'],\n",
            "      dtype='object')\n",
            "Index(['match_id', 'inning', 'batting_team', 'bowling_team', 'over', 'ball',\n",
            "       'batsman', 'non_striker', 'bowler', 'is_super_over', 'wide_runs',\n",
            "       'bye_runs', 'legbye_runs', 'noball_runs', 'penalty_runs',\n",
            "       'batsman_runs', 'extra_runs', 'total_runs', 'player_dismissed',\n",
            "       'dismissal_kind', 'fielder', 'id', 'Season'],\n",
            "      dtype='object')\n",
            "Index(['match_id', 'inning', 'batting_team', 'bowling_team', 'over', 'ball',\n",
            "       'batsman', 'non_striker', 'bowler', 'is_super_over', 'wide_runs',\n",
            "       'bye_runs', 'legbye_runs', 'noball_runs', 'penalty_runs',\n",
            "       'batsman_runs', 'extra_runs', 'total_runs', 'player_dismissed',\n",
            "       'dismissal_kind', 'fielder', 'id', 'Season'],\n",
            "      dtype='object')\n",
            "Index(['match_id', 'inning', 'batting_team', 'bowling_team', 'over', 'ball',\n",
            "       'batsman', 'non_striker', 'bowler', 'is_super_over', 'wide_runs',\n",
            "       'bye_runs', 'legbye_runs', 'noball_runs', 'penalty_runs',\n",
            "       'batsman_runs', 'extra_runs', 'total_runs', 'player_dismissed',\n",
            "       'dismissal_kind', 'fielder', 'id', 'Season'],\n",
            "      dtype='object')\n",
            "Index(['match_id', 'inning', 'batting_team', 'bowling_team', 'over', 'ball',\n",
            "       'batsman', 'non_striker', 'bowler', 'is_super_over', 'wide_runs',\n",
            "       'bye_runs', 'legbye_runs', 'noball_runs', 'penalty_runs',\n",
            "       'batsman_runs', 'extra_runs', 'total_runs', 'player_dismissed',\n",
            "       'dismissal_kind', 'fielder', 'id', 'Season'],\n",
            "      dtype='object')\n",
            "Gujarat Lions\n",
            "Index(['match_id', 'inning', 'batting_team', 'bowling_team', 'over', 'ball',\n",
            "       'batsman', 'non_striker', 'bowler', 'is_super_over', 'wide_runs',\n",
            "       'bye_runs', 'legbye_runs', 'noball_runs', 'penalty_runs',\n",
            "       'batsman_runs', 'extra_runs', 'total_runs', 'player_dismissed',\n",
            "       'dismissal_kind', 'fielder', 'id', 'Season'],\n",
            "      dtype='object')\n",
            "Index(['match_id', 'inning', 'batting_team', 'bowling_team', 'over', 'ball',\n",
            "       'batsman', 'non_striker', 'bowler', 'is_super_over', 'wide_runs',\n",
            "       'bye_runs', 'legbye_runs', 'noball_runs', 'penalty_runs',\n",
            "       'batsman_runs', 'extra_runs', 'total_runs', 'player_dismissed',\n",
            "       'dismissal_kind', 'fielder', 'id', 'Season'],\n",
            "      dtype='object')\n",
            "Kings XI Punjab\n",
            "Index(['match_id', 'inning', 'batting_team', 'bowling_team', 'over', 'ball',\n",
            "       'batsman', 'non_striker', 'bowler', 'is_super_over', 'wide_runs',\n",
            "       'bye_runs', 'legbye_runs', 'noball_runs', 'penalty_runs',\n",
            "       'batsman_runs', 'extra_runs', 'total_runs', 'player_dismissed',\n",
            "       'dismissal_kind', 'fielder', 'id', 'Season'],\n",
            "      dtype='object')\n",
            "Index(['match_id', 'inning', 'batting_team', 'bowling_team', 'over', 'ball',\n",
            "       'batsman', 'non_striker', 'bowler', 'is_super_over', 'wide_runs',\n",
            "       'bye_runs', 'legbye_runs', 'noball_runs', 'penalty_runs',\n",
            "       'batsman_runs', 'extra_runs', 'total_runs', 'player_dismissed',\n",
            "       'dismissal_kind', 'fielder', 'id', 'Season'],\n",
            "      dtype='object')\n",
            "Index(['match_id', 'inning', 'batting_team', 'bowling_team', 'over', 'ball',\n",
            "       'batsman', 'non_striker', 'bowler', 'is_super_over', 'wide_runs',\n",
            "       'bye_runs', 'legbye_runs', 'noball_runs', 'penalty_runs',\n",
            "       'batsman_runs', 'extra_runs', 'total_runs', 'player_dismissed',\n",
            "       'dismissal_kind', 'fielder', 'id', 'Season'],\n",
            "      dtype='object')\n",
            "Index(['match_id', 'inning', 'batting_team', 'bowling_team', 'over', 'ball',\n",
            "       'batsman', 'non_striker', 'bowler', 'is_super_over', 'wide_runs',\n",
            "       'bye_runs', 'legbye_runs', 'noball_runs', 'penalty_runs',\n",
            "       'batsman_runs', 'extra_runs', 'total_runs', 'player_dismissed',\n",
            "       'dismissal_kind', 'fielder', 'id', 'Season'],\n",
            "      dtype='object')\n",
            "Index(['match_id', 'inning', 'batting_team', 'bowling_team', 'over', 'ball',\n",
            "       'batsman', 'non_striker', 'bowler', 'is_super_over', 'wide_runs',\n",
            "       'bye_runs', 'legbye_runs', 'noball_runs', 'penalty_runs',\n",
            "       'batsman_runs', 'extra_runs', 'total_runs', 'player_dismissed',\n",
            "       'dismissal_kind', 'fielder', 'id', 'Season'],\n",
            "      dtype='object')\n",
            "Index(['match_id', 'inning', 'batting_team', 'bowling_team', 'over', 'ball',\n",
            "       'batsman', 'non_striker', 'bowler', 'is_super_over', 'wide_runs',\n",
            "       'bye_runs', 'legbye_runs', 'noball_runs', 'penalty_runs',\n",
            "       'batsman_runs', 'extra_runs', 'total_runs', 'player_dismissed',\n",
            "       'dismissal_kind', 'fielder', 'id', 'Season'],\n",
            "      dtype='object')\n",
            "Index(['match_id', 'inning', 'batting_team', 'bowling_team', 'over', 'ball',\n",
            "       'batsman', 'non_striker', 'bowler', 'is_super_over', 'wide_runs',\n",
            "       'bye_runs', 'legbye_runs', 'noball_runs', 'penalty_runs',\n",
            "       'batsman_runs', 'extra_runs', 'total_runs', 'player_dismissed',\n",
            "       'dismissal_kind', 'fielder', 'id', 'Season'],\n",
            "      dtype='object')\n",
            "Index(['match_id', 'inning', 'batting_team', 'bowling_team', 'over', 'ball',\n",
            "       'batsman', 'non_striker', 'bowler', 'is_super_over', 'wide_runs',\n",
            "       'bye_runs', 'legbye_runs', 'noball_runs', 'penalty_runs',\n",
            "       'batsman_runs', 'extra_runs', 'total_runs', 'player_dismissed',\n",
            "       'dismissal_kind', 'fielder', 'id', 'Season'],\n",
            "      dtype='object')\n",
            "Index(['match_id', 'inning', 'batting_team', 'bowling_team', 'over', 'ball',\n",
            "       'batsman', 'non_striker', 'bowler', 'is_super_over', 'wide_runs',\n",
            "       'bye_runs', 'legbye_runs', 'noball_runs', 'penalty_runs',\n",
            "       'batsman_runs', 'extra_runs', 'total_runs', 'player_dismissed',\n",
            "       'dismissal_kind', 'fielder', 'id', 'Season'],\n",
            "      dtype='object')\n",
            "Index(['match_id', 'inning', 'batting_team', 'bowling_team', 'over', 'ball',\n",
            "       'batsman', 'non_striker', 'bowler', 'is_super_over', 'wide_runs',\n",
            "       'bye_runs', 'legbye_runs', 'noball_runs', 'penalty_runs',\n",
            "       'batsman_runs', 'extra_runs', 'total_runs', 'player_dismissed',\n",
            "       'dismissal_kind', 'fielder', 'id', 'Season'],\n",
            "      dtype='object')\n",
            "Index(['match_id', 'inning', 'batting_team', 'bowling_team', 'over', 'ball',\n",
            "       'batsman', 'non_striker', 'bowler', 'is_super_over', 'wide_runs',\n",
            "       'bye_runs', 'legbye_runs', 'noball_runs', 'penalty_runs',\n",
            "       'batsman_runs', 'extra_runs', 'total_runs', 'player_dismissed',\n",
            "       'dismissal_kind', 'fielder', 'id', 'Season'],\n",
            "      dtype='object')\n",
            "Index(['match_id', 'inning', 'batting_team', 'bowling_team', 'over', 'ball',\n",
            "       'batsman', 'non_striker', 'bowler', 'is_super_over', 'wide_runs',\n",
            "       'bye_runs', 'legbye_runs', 'noball_runs', 'penalty_runs',\n",
            "       'batsman_runs', 'extra_runs', 'total_runs', 'player_dismissed',\n",
            "       'dismissal_kind', 'fielder', 'id', 'Season'],\n",
            "      dtype='object')\n",
            "Kochi Tuskers Kerala\n",
            "Index(['match_id', 'inning', 'batting_team', 'bowling_team', 'over', 'ball',\n",
            "       'batsman', 'non_striker', 'bowler', 'is_super_over', 'wide_runs',\n",
            "       'bye_runs', 'legbye_runs', 'noball_runs', 'penalty_runs',\n",
            "       'batsman_runs', 'extra_runs', 'total_runs', 'player_dismissed',\n",
            "       'dismissal_kind', 'fielder', 'id', 'Season'],\n",
            "      dtype='object')\n",
            "Kolkata Knight Riders\n",
            "Index(['match_id', 'inning', 'batting_team', 'bowling_team', 'over', 'ball',\n",
            "       'batsman', 'non_striker', 'bowler', 'is_super_over', 'wide_runs',\n",
            "       'bye_runs', 'legbye_runs', 'noball_runs', 'penalty_runs',\n",
            "       'batsman_runs', 'extra_runs', 'total_runs', 'player_dismissed',\n",
            "       'dismissal_kind', 'fielder', 'id', 'Season'],\n",
            "      dtype='object')\n",
            "Index(['match_id', 'inning', 'batting_team', 'bowling_team', 'over', 'ball',\n",
            "       'batsman', 'non_striker', 'bowler', 'is_super_over', 'wide_runs',\n",
            "       'bye_runs', 'legbye_runs', 'noball_runs', 'penalty_runs',\n",
            "       'batsman_runs', 'extra_runs', 'total_runs', 'player_dismissed',\n",
            "       'dismissal_kind', 'fielder', 'id', 'Season'],\n",
            "      dtype='object')\n",
            "Index(['match_id', 'inning', 'batting_team', 'bowling_team', 'over', 'ball',\n",
            "       'batsman', 'non_striker', 'bowler', 'is_super_over', 'wide_runs',\n",
            "       'bye_runs', 'legbye_runs', 'noball_runs', 'penalty_runs',\n",
            "       'batsman_runs', 'extra_runs', 'total_runs', 'player_dismissed',\n",
            "       'dismissal_kind', 'fielder', 'id', 'Season'],\n",
            "      dtype='object')\n",
            "Index(['match_id', 'inning', 'batting_team', 'bowling_team', 'over', 'ball',\n",
            "       'batsman', 'non_striker', 'bowler', 'is_super_over', 'wide_runs',\n",
            "       'bye_runs', 'legbye_runs', 'noball_runs', 'penalty_runs',\n",
            "       'batsman_runs', 'extra_runs', 'total_runs', 'player_dismissed',\n",
            "       'dismissal_kind', 'fielder', 'id', 'Season'],\n",
            "      dtype='object')\n",
            "Index(['match_id', 'inning', 'batting_team', 'bowling_team', 'over', 'ball',\n",
            "       'batsman', 'non_striker', 'bowler', 'is_super_over', 'wide_runs',\n",
            "       'bye_runs', 'legbye_runs', 'noball_runs', 'penalty_runs',\n",
            "       'batsman_runs', 'extra_runs', 'total_runs', 'player_dismissed',\n",
            "       'dismissal_kind', 'fielder', 'id', 'Season'],\n",
            "      dtype='object')\n",
            "Index(['match_id', 'inning', 'batting_team', 'bowling_team', 'over', 'ball',\n",
            "       'batsman', 'non_striker', 'bowler', 'is_super_over', 'wide_runs',\n",
            "       'bye_runs', 'legbye_runs', 'noball_runs', 'penalty_runs',\n",
            "       'batsman_runs', 'extra_runs', 'total_runs', 'player_dismissed',\n",
            "       'dismissal_kind', 'fielder', 'id', 'Season'],\n",
            "      dtype='object')\n",
            "Index(['match_id', 'inning', 'batting_team', 'bowling_team', 'over', 'ball',\n",
            "       'batsman', 'non_striker', 'bowler', 'is_super_over', 'wide_runs',\n",
            "       'bye_runs', 'legbye_runs', 'noball_runs', 'penalty_runs',\n",
            "       'batsman_runs', 'extra_runs', 'total_runs', 'player_dismissed',\n",
            "       'dismissal_kind', 'fielder', 'id', 'Season'],\n",
            "      dtype='object')\n",
            "Index(['match_id', 'inning', 'batting_team', 'bowling_team', 'over', 'ball',\n",
            "       'batsman', 'non_striker', 'bowler', 'is_super_over', 'wide_runs',\n",
            "       'bye_runs', 'legbye_runs', 'noball_runs', 'penalty_runs',\n",
            "       'batsman_runs', 'extra_runs', 'total_runs', 'player_dismissed',\n",
            "       'dismissal_kind', 'fielder', 'id', 'Season'],\n",
            "      dtype='object')\n",
            "Index(['match_id', 'inning', 'batting_team', 'bowling_team', 'over', 'ball',\n",
            "       'batsman', 'non_striker', 'bowler', 'is_super_over', 'wide_runs',\n",
            "       'bye_runs', 'legbye_runs', 'noball_runs', 'penalty_runs',\n",
            "       'batsman_runs', 'extra_runs', 'total_runs', 'player_dismissed',\n",
            "       'dismissal_kind', 'fielder', 'id', 'Season'],\n",
            "      dtype='object')\n",
            "Index(['match_id', 'inning', 'batting_team', 'bowling_team', 'over', 'ball',\n",
            "       'batsman', 'non_striker', 'bowler', 'is_super_over', 'wide_runs',\n",
            "       'bye_runs', 'legbye_runs', 'noball_runs', 'penalty_runs',\n",
            "       'batsman_runs', 'extra_runs', 'total_runs', 'player_dismissed',\n",
            "       'dismissal_kind', 'fielder', 'id', 'Season'],\n",
            "      dtype='object')\n",
            "Index(['match_id', 'inning', 'batting_team', 'bowling_team', 'over', 'ball',\n",
            "       'batsman', 'non_striker', 'bowler', 'is_super_over', 'wide_runs',\n",
            "       'bye_runs', 'legbye_runs', 'noball_runs', 'penalty_runs',\n",
            "       'batsman_runs', 'extra_runs', 'total_runs', 'player_dismissed',\n",
            "       'dismissal_kind', 'fielder', 'id', 'Season'],\n",
            "      dtype='object')\n",
            "Index(['match_id', 'inning', 'batting_team', 'bowling_team', 'over', 'ball',\n",
            "       'batsman', 'non_striker', 'bowler', 'is_super_over', 'wide_runs',\n",
            "       'bye_runs', 'legbye_runs', 'noball_runs', 'penalty_runs',\n",
            "       'batsman_runs', 'extra_runs', 'total_runs', 'player_dismissed',\n",
            "       'dismissal_kind', 'fielder', 'id', 'Season'],\n",
            "      dtype='object')\n",
            "Mumbai Indians\n",
            "Index(['match_id', 'inning', 'batting_team', 'bowling_team', 'over', 'ball',\n",
            "       'batsman', 'non_striker', 'bowler', 'is_super_over', 'wide_runs',\n",
            "       'bye_runs', 'legbye_runs', 'noball_runs', 'penalty_runs',\n",
            "       'batsman_runs', 'extra_runs', 'total_runs', 'player_dismissed',\n",
            "       'dismissal_kind', 'fielder', 'id', 'Season'],\n",
            "      dtype='object')\n",
            "Index(['match_id', 'inning', 'batting_team', 'bowling_team', 'over', 'ball',\n",
            "       'batsman', 'non_striker', 'bowler', 'is_super_over', 'wide_runs',\n",
            "       'bye_runs', 'legbye_runs', 'noball_runs', 'penalty_runs',\n",
            "       'batsman_runs', 'extra_runs', 'total_runs', 'player_dismissed',\n",
            "       'dismissal_kind', 'fielder', 'id', 'Season'],\n",
            "      dtype='object')\n",
            "Index(['match_id', 'inning', 'batting_team', 'bowling_team', 'over', 'ball',\n",
            "       'batsman', 'non_striker', 'bowler', 'is_super_over', 'wide_runs',\n",
            "       'bye_runs', 'legbye_runs', 'noball_runs', 'penalty_runs',\n",
            "       'batsman_runs', 'extra_runs', 'total_runs', 'player_dismissed',\n",
            "       'dismissal_kind', 'fielder', 'id', 'Season'],\n",
            "      dtype='object')\n",
            "Index(['match_id', 'inning', 'batting_team', 'bowling_team', 'over', 'ball',\n",
            "       'batsman', 'non_striker', 'bowler', 'is_super_over', 'wide_runs',\n",
            "       'bye_runs', 'legbye_runs', 'noball_runs', 'penalty_runs',\n",
            "       'batsman_runs', 'extra_runs', 'total_runs', 'player_dismissed',\n",
            "       'dismissal_kind', 'fielder', 'id', 'Season'],\n",
            "      dtype='object')\n",
            "Index(['match_id', 'inning', 'batting_team', 'bowling_team', 'over', 'ball',\n",
            "       'batsman', 'non_striker', 'bowler', 'is_super_over', 'wide_runs',\n",
            "       'bye_runs', 'legbye_runs', 'noball_runs', 'penalty_runs',\n",
            "       'batsman_runs', 'extra_runs', 'total_runs', 'player_dismissed',\n",
            "       'dismissal_kind', 'fielder', 'id', 'Season'],\n",
            "      dtype='object')\n",
            "Index(['match_id', 'inning', 'batting_team', 'bowling_team', 'over', 'ball',\n",
            "       'batsman', 'non_striker', 'bowler', 'is_super_over', 'wide_runs',\n",
            "       'bye_runs', 'legbye_runs', 'noball_runs', 'penalty_runs',\n",
            "       'batsman_runs', 'extra_runs', 'total_runs', 'player_dismissed',\n",
            "       'dismissal_kind', 'fielder', 'id', 'Season'],\n",
            "      dtype='object')\n",
            "Index(['match_id', 'inning', 'batting_team', 'bowling_team', 'over', 'ball',\n",
            "       'batsman', 'non_striker', 'bowler', 'is_super_over', 'wide_runs',\n",
            "       'bye_runs', 'legbye_runs', 'noball_runs', 'penalty_runs',\n",
            "       'batsman_runs', 'extra_runs', 'total_runs', 'player_dismissed',\n",
            "       'dismissal_kind', 'fielder', 'id', 'Season'],\n",
            "      dtype='object')\n",
            "Index(['match_id', 'inning', 'batting_team', 'bowling_team', 'over', 'ball',\n",
            "       'batsman', 'non_striker', 'bowler', 'is_super_over', 'wide_runs',\n",
            "       'bye_runs', 'legbye_runs', 'noball_runs', 'penalty_runs',\n",
            "       'batsman_runs', 'extra_runs', 'total_runs', 'player_dismissed',\n",
            "       'dismissal_kind', 'fielder', 'id', 'Season'],\n",
            "      dtype='object')\n",
            "Index(['match_id', 'inning', 'batting_team', 'bowling_team', 'over', 'ball',\n",
            "       'batsman', 'non_striker', 'bowler', 'is_super_over', 'wide_runs',\n",
            "       'bye_runs', 'legbye_runs', 'noball_runs', 'penalty_runs',\n",
            "       'batsman_runs', 'extra_runs', 'total_runs', 'player_dismissed',\n",
            "       'dismissal_kind', 'fielder', 'id', 'Season'],\n",
            "      dtype='object')\n",
            "Index(['match_id', 'inning', 'batting_team', 'bowling_team', 'over', 'ball',\n",
            "       'batsman', 'non_striker', 'bowler', 'is_super_over', 'wide_runs',\n",
            "       'bye_runs', 'legbye_runs', 'noball_runs', 'penalty_runs',\n",
            "       'batsman_runs', 'extra_runs', 'total_runs', 'player_dismissed',\n",
            "       'dismissal_kind', 'fielder', 'id', 'Season'],\n",
            "      dtype='object')\n",
            "Index(['match_id', 'inning', 'batting_team', 'bowling_team', 'over', 'ball',\n",
            "       'batsman', 'non_striker', 'bowler', 'is_super_over', 'wide_runs',\n",
            "       'bye_runs', 'legbye_runs', 'noball_runs', 'penalty_runs',\n",
            "       'batsman_runs', 'extra_runs', 'total_runs', 'player_dismissed',\n",
            "       'dismissal_kind', 'fielder', 'id', 'Season'],\n",
            "      dtype='object')\n",
            "Index(['match_id', 'inning', 'batting_team', 'bowling_team', 'over', 'ball',\n",
            "       'batsman', 'non_striker', 'bowler', 'is_super_over', 'wide_runs',\n",
            "       'bye_runs', 'legbye_runs', 'noball_runs', 'penalty_runs',\n",
            "       'batsman_runs', 'extra_runs', 'total_runs', 'player_dismissed',\n",
            "       'dismissal_kind', 'fielder', 'id', 'Season'],\n",
            "      dtype='object')\n",
            "Pune Warriors\n",
            "Index(['match_id', 'inning', 'batting_team', 'bowling_team', 'over', 'ball',\n",
            "       'batsman', 'non_striker', 'bowler', 'is_super_over', 'wide_runs',\n",
            "       'bye_runs', 'legbye_runs', 'noball_runs', 'penalty_runs',\n",
            "       'batsman_runs', 'extra_runs', 'total_runs', 'player_dismissed',\n",
            "       'dismissal_kind', 'fielder', 'id', 'Season'],\n",
            "      dtype='object')\n",
            "Index(['match_id', 'inning', 'batting_team', 'bowling_team', 'over', 'ball',\n",
            "       'batsman', 'non_striker', 'bowler', 'is_super_over', 'wide_runs',\n",
            "       'bye_runs', 'legbye_runs', 'noball_runs', 'penalty_runs',\n",
            "       'batsman_runs', 'extra_runs', 'total_runs', 'player_dismissed',\n",
            "       'dismissal_kind', 'fielder', 'id', 'Season'],\n",
            "      dtype='object')\n",
            "Index(['match_id', 'inning', 'batting_team', 'bowling_team', 'over', 'ball',\n",
            "       'batsman', 'non_striker', 'bowler', 'is_super_over', 'wide_runs',\n",
            "       'bye_runs', 'legbye_runs', 'noball_runs', 'penalty_runs',\n",
            "       'batsman_runs', 'extra_runs', 'total_runs', 'player_dismissed',\n",
            "       'dismissal_kind', 'fielder', 'id', 'Season'],\n",
            "      dtype='object')\n",
            "Rajasthan Royals\n",
            "Index(['match_id', 'inning', 'batting_team', 'bowling_team', 'over', 'ball',\n",
            "       'batsman', 'non_striker', 'bowler', 'is_super_over', 'wide_runs',\n",
            "       'bye_runs', 'legbye_runs', 'noball_runs', 'penalty_runs',\n",
            "       'batsman_runs', 'extra_runs', 'total_runs', 'player_dismissed',\n",
            "       'dismissal_kind', 'fielder', 'id', 'Season'],\n",
            "      dtype='object')\n",
            "Index(['match_id', 'inning', 'batting_team', 'bowling_team', 'over', 'ball',\n",
            "       'batsman', 'non_striker', 'bowler', 'is_super_over', 'wide_runs',\n",
            "       'bye_runs', 'legbye_runs', 'noball_runs', 'penalty_runs',\n",
            "       'batsman_runs', 'extra_runs', 'total_runs', 'player_dismissed',\n",
            "       'dismissal_kind', 'fielder', 'id', 'Season'],\n",
            "      dtype='object')\n",
            "Index(['match_id', 'inning', 'batting_team', 'bowling_team', 'over', 'ball',\n",
            "       'batsman', 'non_striker', 'bowler', 'is_super_over', 'wide_runs',\n",
            "       'bye_runs', 'legbye_runs', 'noball_runs', 'penalty_runs',\n",
            "       'batsman_runs', 'extra_runs', 'total_runs', 'player_dismissed',\n",
            "       'dismissal_kind', 'fielder', 'id', 'Season'],\n",
            "      dtype='object')\n",
            "Index(['match_id', 'inning', 'batting_team', 'bowling_team', 'over', 'ball',\n",
            "       'batsman', 'non_striker', 'bowler', 'is_super_over', 'wide_runs',\n",
            "       'bye_runs', 'legbye_runs', 'noball_runs', 'penalty_runs',\n",
            "       'batsman_runs', 'extra_runs', 'total_runs', 'player_dismissed',\n",
            "       'dismissal_kind', 'fielder', 'id', 'Season'],\n",
            "      dtype='object')\n",
            "Index(['match_id', 'inning', 'batting_team', 'bowling_team', 'over', 'ball',\n",
            "       'batsman', 'non_striker', 'bowler', 'is_super_over', 'wide_runs',\n",
            "       'bye_runs', 'legbye_runs', 'noball_runs', 'penalty_runs',\n",
            "       'batsman_runs', 'extra_runs', 'total_runs', 'player_dismissed',\n",
            "       'dismissal_kind', 'fielder', 'id', 'Season'],\n",
            "      dtype='object')\n",
            "Index(['match_id', 'inning', 'batting_team', 'bowling_team', 'over', 'ball',\n",
            "       'batsman', 'non_striker', 'bowler', 'is_super_over', 'wide_runs',\n",
            "       'bye_runs', 'legbye_runs', 'noball_runs', 'penalty_runs',\n",
            "       'batsman_runs', 'extra_runs', 'total_runs', 'player_dismissed',\n",
            "       'dismissal_kind', 'fielder', 'id', 'Season'],\n",
            "      dtype='object')\n",
            "Index(['match_id', 'inning', 'batting_team', 'bowling_team', 'over', 'ball',\n",
            "       'batsman', 'non_striker', 'bowler', 'is_super_over', 'wide_runs',\n",
            "       'bye_runs', 'legbye_runs', 'noball_runs', 'penalty_runs',\n",
            "       'batsman_runs', 'extra_runs', 'total_runs', 'player_dismissed',\n",
            "       'dismissal_kind', 'fielder', 'id', 'Season'],\n",
            "      dtype='object')\n",
            "Index(['match_id', 'inning', 'batting_team', 'bowling_team', 'over', 'ball',\n",
            "       'batsman', 'non_striker', 'bowler', 'is_super_over', 'wide_runs',\n",
            "       'bye_runs', 'legbye_runs', 'noball_runs', 'penalty_runs',\n",
            "       'batsman_runs', 'extra_runs', 'total_runs', 'player_dismissed',\n",
            "       'dismissal_kind', 'fielder', 'id', 'Season'],\n",
            "      dtype='object')\n",
            "Index(['match_id', 'inning', 'batting_team', 'bowling_team', 'over', 'ball',\n",
            "       'batsman', 'non_striker', 'bowler', 'is_super_over', 'wide_runs',\n",
            "       'bye_runs', 'legbye_runs', 'noball_runs', 'penalty_runs',\n",
            "       'batsman_runs', 'extra_runs', 'total_runs', 'player_dismissed',\n",
            "       'dismissal_kind', 'fielder', 'id', 'Season'],\n",
            "      dtype='object')\n",
            "Index(['match_id', 'inning', 'batting_team', 'bowling_team', 'over', 'ball',\n",
            "       'batsman', 'non_striker', 'bowler', 'is_super_over', 'wide_runs',\n",
            "       'bye_runs', 'legbye_runs', 'noball_runs', 'penalty_runs',\n",
            "       'batsman_runs', 'extra_runs', 'total_runs', 'player_dismissed',\n",
            "       'dismissal_kind', 'fielder', 'id', 'Season'],\n",
            "      dtype='object')\n",
            "Rising Pune Supergiant\n",
            "Index(['match_id', 'inning', 'batting_team', 'bowling_team', 'over', 'ball',\n",
            "       'batsman', 'non_striker', 'bowler', 'is_super_over', 'wide_runs',\n",
            "       'bye_runs', 'legbye_runs', 'noball_runs', 'penalty_runs',\n",
            "       'batsman_runs', 'extra_runs', 'total_runs', 'player_dismissed',\n",
            "       'dismissal_kind', 'fielder', 'id', 'Season'],\n",
            "      dtype='object')\n",
            "Rising Pune Supergiants\n",
            "Index(['match_id', 'inning', 'batting_team', 'bowling_team', 'over', 'ball',\n",
            "       'batsman', 'non_striker', 'bowler', 'is_super_over', 'wide_runs',\n",
            "       'bye_runs', 'legbye_runs', 'noball_runs', 'penalty_runs',\n",
            "       'batsman_runs', 'extra_runs', 'total_runs', 'player_dismissed',\n",
            "       'dismissal_kind', 'fielder', 'id', 'Season'],\n",
            "      dtype='object')\n",
            "Royal Challengers Bangalore\n",
            "Index(['match_id', 'inning', 'batting_team', 'bowling_team', 'over', 'ball',\n",
            "       'batsman', 'non_striker', 'bowler', 'is_super_over', 'wide_runs',\n",
            "       'bye_runs', 'legbye_runs', 'noball_runs', 'penalty_runs',\n",
            "       'batsman_runs', 'extra_runs', 'total_runs', 'player_dismissed',\n",
            "       'dismissal_kind', 'fielder', 'id', 'Season'],\n",
            "      dtype='object')\n",
            "Index(['match_id', 'inning', 'batting_team', 'bowling_team', 'over', 'ball',\n",
            "       'batsman', 'non_striker', 'bowler', 'is_super_over', 'wide_runs',\n",
            "       'bye_runs', 'legbye_runs', 'noball_runs', 'penalty_runs',\n",
            "       'batsman_runs', 'extra_runs', 'total_runs', 'player_dismissed',\n",
            "       'dismissal_kind', 'fielder', 'id', 'Season'],\n",
            "      dtype='object')\n",
            "Index(['match_id', 'inning', 'batting_team', 'bowling_team', 'over', 'ball',\n",
            "       'batsman', 'non_striker', 'bowler', 'is_super_over', 'wide_runs',\n",
            "       'bye_runs', 'legbye_runs', 'noball_runs', 'penalty_runs',\n",
            "       'batsman_runs', 'extra_runs', 'total_runs', 'player_dismissed',\n",
            "       'dismissal_kind', 'fielder', 'id', 'Season'],\n",
            "      dtype='object')\n",
            "Index(['match_id', 'inning', 'batting_team', 'bowling_team', 'over', 'ball',\n",
            "       'batsman', 'non_striker', 'bowler', 'is_super_over', 'wide_runs',\n",
            "       'bye_runs', 'legbye_runs', 'noball_runs', 'penalty_runs',\n",
            "       'batsman_runs', 'extra_runs', 'total_runs', 'player_dismissed',\n",
            "       'dismissal_kind', 'fielder', 'id', 'Season'],\n",
            "      dtype='object')\n",
            "Index(['match_id', 'inning', 'batting_team', 'bowling_team', 'over', 'ball',\n",
            "       'batsman', 'non_striker', 'bowler', 'is_super_over', 'wide_runs',\n",
            "       'bye_runs', 'legbye_runs', 'noball_runs', 'penalty_runs',\n",
            "       'batsman_runs', 'extra_runs', 'total_runs', 'player_dismissed',\n",
            "       'dismissal_kind', 'fielder', 'id', 'Season'],\n",
            "      dtype='object')\n",
            "Index(['match_id', 'inning', 'batting_team', 'bowling_team', 'over', 'ball',\n",
            "       'batsman', 'non_striker', 'bowler', 'is_super_over', 'wide_runs',\n",
            "       'bye_runs', 'legbye_runs', 'noball_runs', 'penalty_runs',\n",
            "       'batsman_runs', 'extra_runs', 'total_runs', 'player_dismissed',\n",
            "       'dismissal_kind', 'fielder', 'id', 'Season'],\n",
            "      dtype='object')\n",
            "Index(['match_id', 'inning', 'batting_team', 'bowling_team', 'over', 'ball',\n",
            "       'batsman', 'non_striker', 'bowler', 'is_super_over', 'wide_runs',\n",
            "       'bye_runs', 'legbye_runs', 'noball_runs', 'penalty_runs',\n",
            "       'batsman_runs', 'extra_runs', 'total_runs', 'player_dismissed',\n",
            "       'dismissal_kind', 'fielder', 'id', 'Season'],\n",
            "      dtype='object')\n",
            "Index(['match_id', 'inning', 'batting_team', 'bowling_team', 'over', 'ball',\n",
            "       'batsman', 'non_striker', 'bowler', 'is_super_over', 'wide_runs',\n",
            "       'bye_runs', 'legbye_runs', 'noball_runs', 'penalty_runs',\n",
            "       'batsman_runs', 'extra_runs', 'total_runs', 'player_dismissed',\n",
            "       'dismissal_kind', 'fielder', 'id', 'Season'],\n",
            "      dtype='object')\n",
            "Index(['match_id', 'inning', 'batting_team', 'bowling_team', 'over', 'ball',\n",
            "       'batsman', 'non_striker', 'bowler', 'is_super_over', 'wide_runs',\n",
            "       'bye_runs', 'legbye_runs', 'noball_runs', 'penalty_runs',\n",
            "       'batsman_runs', 'extra_runs', 'total_runs', 'player_dismissed',\n",
            "       'dismissal_kind', 'fielder', 'id', 'Season'],\n",
            "      dtype='object')\n",
            "Index(['match_id', 'inning', 'batting_team', 'bowling_team', 'over', 'ball',\n",
            "       'batsman', 'non_striker', 'bowler', 'is_super_over', 'wide_runs',\n",
            "       'bye_runs', 'legbye_runs', 'noball_runs', 'penalty_runs',\n",
            "       'batsman_runs', 'extra_runs', 'total_runs', 'player_dismissed',\n",
            "       'dismissal_kind', 'fielder', 'id', 'Season'],\n",
            "      dtype='object')\n",
            "Index(['match_id', 'inning', 'batting_team', 'bowling_team', 'over', 'ball',\n",
            "       'batsman', 'non_striker', 'bowler', 'is_super_over', 'wide_runs',\n",
            "       'bye_runs', 'legbye_runs', 'noball_runs', 'penalty_runs',\n",
            "       'batsman_runs', 'extra_runs', 'total_runs', 'player_dismissed',\n",
            "       'dismissal_kind', 'fielder', 'id', 'Season'],\n",
            "      dtype='object')\n",
            "Index(['match_id', 'inning', 'batting_team', 'bowling_team', 'over', 'ball',\n",
            "       'batsman', 'non_striker', 'bowler', 'is_super_over', 'wide_runs',\n",
            "       'bye_runs', 'legbye_runs', 'noball_runs', 'penalty_runs',\n",
            "       'batsman_runs', 'extra_runs', 'total_runs', 'player_dismissed',\n",
            "       'dismissal_kind', 'fielder', 'id', 'Season'],\n",
            "      dtype='object')\n",
            "Sunrisers Hyderabad\n",
            "Index(['match_id', 'inning', 'batting_team', 'bowling_team', 'over', 'ball',\n",
            "       'batsman', 'non_striker', 'bowler', 'is_super_over', 'wide_runs',\n",
            "       'bye_runs', 'legbye_runs', 'noball_runs', 'penalty_runs',\n",
            "       'batsman_runs', 'extra_runs', 'total_runs', 'player_dismissed',\n",
            "       'dismissal_kind', 'fielder', 'id', 'Season'],\n",
            "      dtype='object')\n",
            "Index(['match_id', 'inning', 'batting_team', 'bowling_team', 'over', 'ball',\n",
            "       'batsman', 'non_striker', 'bowler', 'is_super_over', 'wide_runs',\n",
            "       'bye_runs', 'legbye_runs', 'noball_runs', 'penalty_runs',\n",
            "       'batsman_runs', 'extra_runs', 'total_runs', 'player_dismissed',\n",
            "       'dismissal_kind', 'fielder', 'id', 'Season'],\n",
            "      dtype='object')\n",
            "Index(['match_id', 'inning', 'batting_team', 'bowling_team', 'over', 'ball',\n",
            "       'batsman', 'non_striker', 'bowler', 'is_super_over', 'wide_runs',\n",
            "       'bye_runs', 'legbye_runs', 'noball_runs', 'penalty_runs',\n",
            "       'batsman_runs', 'extra_runs', 'total_runs', 'player_dismissed',\n",
            "       'dismissal_kind', 'fielder', 'id', 'Season'],\n",
            "      dtype='object')\n",
            "Index(['match_id', 'inning', 'batting_team', 'bowling_team', 'over', 'ball',\n",
            "       'batsman', 'non_striker', 'bowler', 'is_super_over', 'wide_runs',\n",
            "       'bye_runs', 'legbye_runs', 'noball_runs', 'penalty_runs',\n",
            "       'batsman_runs', 'extra_runs', 'total_runs', 'player_dismissed',\n",
            "       'dismissal_kind', 'fielder', 'id', 'Season'],\n",
            "      dtype='object')\n",
            "Index(['match_id', 'inning', 'batting_team', 'bowling_team', 'over', 'ball',\n",
            "       'batsman', 'non_striker', 'bowler', 'is_super_over', 'wide_runs',\n",
            "       'bye_runs', 'legbye_runs', 'noball_runs', 'penalty_runs',\n",
            "       'batsman_runs', 'extra_runs', 'total_runs', 'player_dismissed',\n",
            "       'dismissal_kind', 'fielder', 'id', 'Season'],\n",
            "      dtype='object')\n",
            "Index(['match_id', 'inning', 'batting_team', 'bowling_team', 'over', 'ball',\n",
            "       'batsman', 'non_striker', 'bowler', 'is_super_over', 'wide_runs',\n",
            "       'bye_runs', 'legbye_runs', 'noball_runs', 'penalty_runs',\n",
            "       'batsman_runs', 'extra_runs', 'total_runs', 'player_dismissed',\n",
            "       'dismissal_kind', 'fielder', 'id', 'Season'],\n",
            "      dtype='object')\n",
            "Index(['match_id', 'inning', 'batting_team', 'bowling_team', 'over', 'ball',\n",
            "       'batsman', 'non_striker', 'bowler', 'is_super_over', 'wide_runs',\n",
            "       'bye_runs', 'legbye_runs', 'noball_runs', 'penalty_runs',\n",
            "       'batsman_runs', 'extra_runs', 'total_runs', 'player_dismissed',\n",
            "       'dismissal_kind', 'fielder', 'id', 'Season'],\n",
            "      dtype='object')\n"
          ],
          "name": "stdout"
        }
      ]
    },
    {
      "cell_type": "code",
      "metadata": {
        "id": "pGsHyup6jMDr"
      },
      "source": [
        " first_df = l[0]"
      ],
      "execution_count": 64,
      "outputs": []
    },
    {
      "cell_type": "code",
      "metadata": {
        "colab": {
          "base_uri": "https://localhost:8080/"
        },
        "id": "IvTSZmpLBgak",
        "outputId": "b3d984c2-24d6-4bd9-c1fc-5bfa044f964a"
      },
      "source": [
        "first_df.loc[\"Season\"]"
      ],
      "execution_count": 67,
      "outputs": [
        {
          "output_type": "execute_result",
          "data": {
            "text/plain": [
              "0    IPL-2017IPL-2017IPL-2017IPL-2017IPL-2017IPL-20...\n",
              "Name: Season, dtype: object"
            ]
          },
          "metadata": {
            "tags": []
          },
          "execution_count": 67
        }
      ]
    },
    {
      "cell_type": "markdown",
      "metadata": {
        "id": "W4E6FlN9izaJ"
      },
      "source": [
        ""
      ]
    },
    {
      "cell_type": "markdown",
      "metadata": {
        "id": "fhaAttDYioSF"
      },
      "source": [
        ""
      ]
    }
  ]
}